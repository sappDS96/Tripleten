{
 "cells": [
  {
   "cell_type": "markdown",
   "id": "788bc664-38eb-4b9c-820b-4c5026518682",
   "metadata": {},
   "source": [
    "¡Hola!\n",
    "\n",
    "Mi nombre es Marcos Torres y tengo el gusto de revisar tu código el día de hoy.\n",
    "\n",
    "Cuando vea algo notable o algún asunto en el notebook, te dejaré un comentario o un hint. Se que encontraras la mejor respuesta para resolver todos los comentarios, de no ser así, no te preocupes en futuras iteraciones dejaré comentarios y pistas más específicos.\n",
    "\n",
    "Encontrarás comentarios en verde, amarillo o rojo como los siguientes:\n",
    "\n",
    "<div class=\"alert alert-block alert-success\">\n",
    "<b>Comentario del revisor</b> <a class=\"tocSkip\"></a>\n",
    "\n",
    "Buen trabajo. ¡Lo hiciste muy bien!\n",
    "</div>\n",
    "\n",
    "<div class=\"alert alert-block alert-warning\">\n",
    "<b>Comentario del revisor</b> <a class=\"tocSkip\"></a>\n",
    "\n",
    "Nota. Se puede mejorar.\n",
    "</div>\n",
    "\n",
    "<div class=\"alert alert-block alert-danger\">\n",
    "<b>Comentario del revisor</b> <a class=\"tocSkip\"></a>\n",
    "\n",
    "Necesitas corregirlo. Este bloque indica que se requiere una correción. El trabajo no se acepta si tiene estos bloques.\n",
    "</div>\n",
    "\n",
    "Puedes responder a mis comentarios usando estos bloques:\n",
    "\n",
    "<div class=\"alert alert-block alert-info\">\n",
    "<b>Respuesta del estudiante.</b> <a class=\"tocSkip\"></a>\n",
    "</div>"
   ]
  },
  {
   "cell_type": "markdown",
   "id": "3Xg_RQfnafXz",
   "metadata": {
    "id": "3Xg_RQfnafXz"
   },
   "source": [
    "# ¡Llena ese carrito!"
   ]
  },
  {
   "cell_type": "markdown",
   "id": "mhIvmmkW414q",
   "metadata": {
    "id": "mhIvmmkW414q"
   },
   "source": [
    "# Introducción\n",
    "\n",
    "Instacart es una plataforma de entregas de comestibles donde la clientela puede registrar un pedido y hacer que se lo entreguen, similar a Uber Eats y Door Dash.\n",
    "El conjunto de datos que te hemos proporcionado tiene modificaciones del original. Redujimos el tamaño del conjunto para que tus cálculos se hicieran más rápido e introdujimos valores ausentes y duplicados. Tuvimos cuidado de conservar las distribuciones de los datos originales cuando hicimos los cambios.\n",
    "\n",
    "Debes completar tres pasos. Para cada uno de ellos, escribe una breve introducción que refleje con claridad cómo pretendes resolver cada paso, y escribe párrafos explicatorios que justifiquen tus decisiones al tiempo que avanzas en tu solución.  También escribe una conclusión que resuma tus hallazgos y elecciones.\n"
   ]
  },
  {
   "cell_type": "markdown",
   "id": "3MbyzpOQZ5Or",
   "metadata": {
    "id": "3MbyzpOQZ5Or"
   },
   "source": [
    "## Diccionario de datos\n",
    "\n",
    "Hay cinco tablas en el conjunto de datos, y tendrás que usarlas todas para hacer el preprocesamiento de datos y el análisis exploratorio de datos. A continuación se muestra un diccionario de datos que enumera las columnas de cada tabla y describe los datos que contienen.\n",
    "\n",
    "- `instacart_orders.csv`: cada fila corresponde a un pedido en la aplicación Instacart.\n",
    "    - `'order_id'`: número de ID que identifica de manera única cada pedido.\n",
    "    - `'user_id'`: número de ID que identifica de manera única la cuenta de cada cliente.\n",
    "    - `'order_number'`: el número de veces que este cliente ha hecho un pedido.\n",
    "    - `'order_dow'`: día de la semana en que se hizo el pedido (0 si es domingo).\n",
    "    - `'order_hour_of_day'`: hora del día en que se hizo el pedido.\n",
    "    - `'days_since_prior_order'`: número de días transcurridos desde que este cliente hizo su pedido anterior.\n",
    "- `products.csv`: cada fila corresponde a un producto único que pueden comprar los clientes.\n",
    "    - `'product_id'`: número ID que identifica de manera única cada producto.\n",
    "    - `'product_name'`: nombre del producto.\n",
    "    - `'aisle_id'`: número ID que identifica de manera única cada categoría de pasillo de víveres.\n",
    "    - `'department_id'`: número ID que identifica de manera única cada departamento de víveres.\n",
    "- `order_products.csv`: cada fila corresponde a un artículo pedido en un pedido.\n",
    "    - `'order_id'`: número de ID que identifica de manera única cada pedido.\n",
    "    - `'product_id'`: número ID que identifica de manera única cada producto.\n",
    "    - `'add_to_cart_order'`: el orden secuencial en el que se añadió cada artículo en el carrito.\n",
    "    - `'reordered'`: 0 si el cliente nunca ha pedido este producto antes, 1 si lo ha pedido.\n",
    "- `aisles.csv`\n",
    "    - `'aisle_id'`: número ID que identifica de manera única cada categoría de pasillo de víveres.\n",
    "    - `'aisle'`: nombre del pasillo.\n",
    "- `departments.csv`\n",
    "    - `'department_id'`: número ID que identifica de manera única cada departamento de víveres.\n",
    "    - `'department'`: nombre del departamento."
   ]
  },
  {
   "cell_type": "markdown",
   "id": "n3Ha_cNSZ8lK",
   "metadata": {
    "id": "n3Ha_cNSZ8lK"
   },
   "source": [
    "# Paso 1. Descripción de los datos\n",
    "\n",
    "Lee los archivos de datos (`/datasets/instacart_orders.csv`, `/datasets/products.csv`, `/datasets/aisles.csv`, `/datasets/departments.csv` y `/datasets/order_products.csv`) con `pd.read_csv()` usando los parámetros adecuados para leer los datos correctamente. Verifica la información para cada DataFrame creado.\n"
   ]
  },
  {
   "cell_type": "markdown",
   "id": "OmlQPLlyaAfR",
   "metadata": {
    "id": "OmlQPLlyaAfR"
   },
   "source": [
    "## Plan de solución\n",
    "\n",
    "Escribe aquí tu plan de solución para el Paso 1. Descripción de los datos."
   ]
  },
  {
   "cell_type": "code",
   "execution_count": 62,
   "id": "fbf1adab",
   "metadata": {
    "id": "fbf1adab"
   },
   "outputs": [],
   "source": [
    "# importar librerías\n",
    "import pandas as pd\n",
    "import matplotlib.pyplot as plt"
   ]
  },
  {
   "cell_type": "code",
   "execution_count": 63,
   "id": "ad36396d",
   "metadata": {
    "id": "ad36396d"
   },
   "outputs": [],
   "source": [
    "# leer conjuntos de datos en los DataFrames\n",
    "df1= pd.read_csv('/datasets/instacart_orders.csv')\n",
    "df2= pd.read_csv('/datasets/products.csv')\n",
    "df3= pd.read_csv('/datasets/aisles.csv')\n",
    "df4= pd.read_csv('/datasets/departments.csv')\n",
    "df5= pd.read_csv('/datasets/order_products.csv')"
   ]
  },
  {
   "cell_type": "markdown",
   "id": "d899d6aa-6f05-486d-8dc9-e199726613cd",
   "metadata": {},
   "source": [
    "<div class=\"alert alert-block alert-success\">\n",
    "<b>Comentario del revisor</b> <a class=\"tocSkip\"></a>\n",
    "\n",
    "Buen trabajo, usaste correctamente una celda independiente para importar las librerías y otra para leer los datos\n",
    "</div>"
   ]
  },
  {
   "cell_type": "code",
   "execution_count": 64,
   "id": "ad6a1efa",
   "metadata": {
    "id": "ad6a1efa"
   },
   "outputs": [
    {
     "name": "stdout",
     "output_type": "stream",
     "text": [
      "  order_id;user_id;order_number;order_dow;order_hour_of_day;days_since_prior_order\n",
      "0                        1515936;183418;11;6;13;30.0                              \n",
      "1                          1690866;163593;5;5;12;9.0                              \n",
      "2                           1454967;39980;4;5;19;2.0                              \n",
      "3                         1768857;82516;56;0;20;10.0                              \n",
      "4                         3007858;196724;2;4;12;17.0                              \n"
     ]
    }
   ],
   "source": [
    "# mostrar información del DataFrame\n",
    "print(df1.head())"
   ]
  },
  {
   "cell_type": "code",
   "execution_count": 65,
   "id": "5130e05e",
   "metadata": {
    "id": "5130e05e"
   },
   "outputs": [
    {
     "name": "stdout",
     "output_type": "stream",
     "text": [
      "      product_id;product_name;aisle_id;department_id\n",
      "0                 1;Chocolate Sandwich Cookies;61;19\n",
      "1                          2;All-Seasons Salt;104;13\n",
      "2        3;Robust Golden Unsweetened Oolong Tea;94;7\n",
      "3  4;Smart Ones Classic Favorites Mini Rigatoni W...\n",
      "4                   5;Green Chile Anytime Sauce;5;13\n"
     ]
    }
   ],
   "source": [
    "# mostrar información del DataFrame\n",
    "print(df2.head())"
   ]
  },
  {
   "cell_type": "code",
   "execution_count": 66,
   "id": "d8370c05",
   "metadata": {
    "id": "d8370c05"
   },
   "outputs": [
    {
     "name": "stdout",
     "output_type": "stream",
     "text": [
      "                 aisle_id;aisle\n",
      "0       1;prepared soups salads\n",
      "1           2;specialty cheeses\n",
      "2         3;energy granola bars\n",
      "3               4;instant foods\n",
      "4  5;marinades meat preparation\n"
     ]
    }
   ],
   "source": [
    "# mostrar información del DataFrame\n",
    "print(df3.head())"
   ]
  },
  {
   "cell_type": "code",
   "execution_count": 67,
   "id": "59e2090f",
   "metadata": {
    "id": "59e2090f"
   },
   "outputs": [
    {
     "name": "stdout",
     "output_type": "stream",
     "text": [
      "  department_id;department\n",
      "0                 1;frozen\n",
      "1                  2;other\n",
      "2                 3;bakery\n",
      "3                4;produce\n",
      "4                5;alcohol\n"
     ]
    }
   ],
   "source": [
    "# mostrar información del DataFrame\n",
    "print(df4.head())"
   ]
  },
  {
   "cell_type": "code",
   "execution_count": 68,
   "id": "6fc81694",
   "metadata": {
    "id": "6fc81694"
   },
   "outputs": [
    {
     "name": "stdout",
     "output_type": "stream",
     "text": [
      "  order_id;product_id;add_to_cart_order;reordered\n",
      "0                            2141543;11440;17.0;0\n",
      "1                               567889;1560;1.0;1\n",
      "2                             2261212;26683;1.0;1\n",
      "3                              491251;8670;35.0;1\n",
      "4                              2571142;1940;5.0;1\n"
     ]
    }
   ],
   "source": [
    "# mostrar información del DataFrame\n",
    "print(df5.head())"
   ]
  },
  {
   "cell_type": "markdown",
   "id": "c8b475bb-04cd-4f3f-8e95-1260d98062af",
   "metadata": {},
   "source": [
    "<div class=\"alert alert-block alert-success\">\n",
    "<b>Comentario del revisor</b> <a class=\"tocSkip\"></a>\n",
    "\n",
    "Buen uso de los métodos de pandas para explorar los datos\n",
    "</div>"
   ]
  },
  {
   "cell_type": "markdown",
   "id": "t75BD19oaR5f",
   "metadata": {
    "id": "t75BD19oaR5f"
   },
   "source": [
    "## Conclusiones\n",
    "\n",
    "Escribe aquí tus conclusiones intermedias sobre el Paso 1. Descripción de los datos.\n",
    "\n",
    "Tal y como se puede observar en las primeras 5 filas de cada Dataframe, usando el metodo .head(), el caracter que se usa como separador de los valores en todos los archivos CSV es un \";\" tanto para separar las columnas como para separar los valores en las filas.\n",
    "Por otro lado, en el dataframe 2 que muestra los nombres de los productos, es el único dataframe que al menos en sus primeras 5 filas esta mostrando que tiene strings con mayusculas en la columna con los nombres de los productos. es probable que sea necesario pasar toda esa columna a minuscula para facilitar la posible manipulación de los datos a futuro."
   ]
  },
  {
   "cell_type": "markdown",
   "id": "8RJHqxVmaVsF",
   "metadata": {
    "id": "8RJHqxVmaVsF"
   },
   "source": [
    "# Paso 2. Preprocesamiento de los datos\n",
    "\n",
    "Preprocesa los datos de la siguiente manera:\n",
    "\n",
    "- Verifica y corrige los tipos de datos (por ejemplo, asegúrate de que las columnas de ID sean números enteros).\n",
    "- Identifica y completa los valores ausentes.\n",
    "- Identifica y elimina los valores duplicados.\n",
    "\n",
    "Asegúrate de explicar qué tipos de valores ausentes y duplicados encontraste, cómo los completaste o eliminaste y por qué usaste esos métodos. ¿Por qué crees que estos valores ausentes y duplicados pueden haber estado presentes en el conjunto de datos?"
   ]
  },
  {
   "cell_type": "markdown",
   "id": "p6poABZQaZYb",
   "metadata": {
    "id": "p6poABZQaZYb"
   },
   "source": [
    "## Plan de solución\n",
    "\n",
    "Escribe aquí tu plan para el Paso 2. Preprocesamiento de los datos.\n",
    "En primer lugar, especificaré que el separador de todos los dataframes es ';'.\n",
    "En segundo lugar, modificaré a minusculas la columna de productos del df2 usando 'str.lower()'\n",
    "y por ultimo revisaré como pandas está interpretando los tipos de datos de cada dataframe usando el atributo .dtypes, para verificar que no hayan incongruencias."
   ]
  },
  {
   "cell_type": "markdown",
   "id": "b6eb567e-925a-4fec-925b-2fa5f8ed480e",
   "metadata": {},
   "source": [
    "<div class=\"alert alert-block alert-success\">\n",
    "<b>Comentario del revisor</b> <a class=\"tocSkip\"></a>\n",
    "\n",
    "Me gusta tu plan de preprocesamiento de los datos\n",
    "</div>"
   ]
  },
  {
   "cell_type": "code",
   "execution_count": 69,
   "id": "99b64990-8b5d-4a9c-b5f9-9ab31b62e2fc",
   "metadata": {},
   "outputs": [
    {
     "name": "stdout",
     "output_type": "stream",
     "text": [
      "\n",
      "df1\n",
      "\n",
      "   order_id  user_id  order_number  order_dow  order_hour_of_day  \\\n",
      "0   1515936   183418            11          6                 13   \n",
      "1   1690866   163593             5          5                 12   \n",
      "2   1454967    39980             4          5                 19   \n",
      "3   1768857    82516            56          0                 20   \n",
      "4   3007858   196724             2          4                 12   \n",
      "\n",
      "   days_since_prior_order  \n",
      "0                    30.0  \n",
      "1                     9.0  \n",
      "2                     2.0  \n",
      "3                    10.0  \n",
      "4                    17.0  \n",
      "\n",
      "El tipo de datos que posee el df1 es:\n",
      " order_id                    int64\n",
      "user_id                     int64\n",
      "order_number                int64\n",
      "order_dow                   int64\n",
      "order_hour_of_day           int64\n",
      "days_since_prior_order    float64\n",
      "dtype: object\n",
      "\n",
      "df2\n",
      "\n",
      "   product_id                                       product_name  aisle_id  \\\n",
      "0           1                         chocolate sandwich cookies        61   \n",
      "1           2                                   all-seasons salt       104   \n",
      "2           3               robust golden unsweetened oolong tea        94   \n",
      "3           4  smart ones classic favorites mini rigatoni wit...        38   \n",
      "4           5                          green chile anytime sauce         5   \n",
      "\n",
      "   department_id  \n",
      "0             19  \n",
      "1             13  \n",
      "2              7  \n",
      "3              1  \n",
      "4             13  \n",
      "\n",
      "El tipo de datos que posee el df2 es:\n",
      " product_id        int64\n",
      "product_name     object\n",
      "aisle_id          int64\n",
      "department_id     int64\n",
      "dtype: object\n",
      "\n",
      "df3\n",
      "\n",
      "   aisle_id                       aisle\n",
      "0         1       prepared soups salads\n",
      "1         2           specialty cheeses\n",
      "2         3         energy granola bars\n",
      "3         4               instant foods\n",
      "4         5  marinades meat preparation\n",
      "\n",
      "El tipo de datos que posee el df3 es:\n",
      " aisle_id     int64\n",
      "aisle       object\n",
      "dtype: object\n",
      "\n",
      "df4\n",
      "\n",
      "   department_id department\n",
      "0              1     frozen\n",
      "1              2      other\n",
      "2              3     bakery\n",
      "3              4    produce\n",
      "4              5    alcohol\n",
      "\n",
      "El tipo de datos que posee el df4 es:\n",
      " department_id     int64\n",
      "department       object\n",
      "dtype: object\n",
      "\n",
      "df5\n",
      "\n",
      "   order_id  product_id  add_to_cart_order  reordered\n",
      "0   2141543       11440               17.0          0\n",
      "1    567889        1560                1.0          1\n",
      "2   2261212       26683                1.0          1\n",
      "3    491251        8670               35.0          1\n",
      "4   2571142        1940                5.0          1\n",
      "\n",
      "El tipo de datos que posee el df5 es:\n",
      " order_id               int64\n",
      "product_id             int64\n",
      "add_to_cart_order    float64\n",
      "reordered              int64\n",
      "dtype: object\n"
     ]
    }
   ],
   "source": [
    "print()\n",
    "print('df1')\n",
    "print()\n",
    "\n",
    "df1= pd.read_csv('/datasets/instacart_orders.csv', sep=';')\n",
    "print(df1.head())\n",
    "print()\n",
    "print('El tipo de datos que posee el df1 es:\\n', df1.dtypes)\n",
    "\n",
    "print()\n",
    "print('df2')\n",
    "print()\n",
    "\n",
    "df2= pd.read_csv('/datasets/products.csv',sep= ';')\n",
    "df2['product_name'] = df2['product_name'].str.lower()\n",
    "print(df2.head())\n",
    "print()\n",
    "print('El tipo de datos que posee el df2 es:\\n', df2.dtypes)\n",
    "\n",
    "print()\n",
    "print('df3')\n",
    "print()\n",
    "\n",
    "df3= pd.read_csv('/datasets/aisles.csv',sep= ';')\n",
    "print(df3.head())\n",
    "print()\n",
    "print('El tipo de datos que posee el df3 es:\\n', df3.dtypes)\n",
    "\n",
    "print()\n",
    "print('df4')\n",
    "print()\n",
    "\n",
    "df4= pd.read_csv('/datasets/departments.csv',sep= ';')\n",
    "print(df4.head())\n",
    "print()\n",
    "print('El tipo de datos que posee el df4 es:\\n', df4.dtypes)\n",
    "\n",
    "print()\n",
    "print('df5')\n",
    "print()\n",
    "\n",
    "df5= pd.read_csv('/datasets/order_products.csv',sep= ';')\n",
    "print(df5.head())\n",
    "print()\n",
    "print('El tipo de datos que posee el df5 es:\\n', df5.dtypes)"
   ]
  },
  {
   "cell_type": "markdown",
   "id": "07357848-dc64-4156-9cc3-01ff4365226d",
   "metadata": {
    "id": "07357848-dc64-4156-9cc3-01ff4365226d"
   },
   "source": [
    "## Encuentra y elimina los valores duplicados (y describe cómo tomaste tus decisiones)."
   ]
  },
  {
   "cell_type": "markdown",
   "id": "f179f0a9",
   "metadata": {
    "id": "f179f0a9"
   },
   "source": [
    "### `orders` data frame"
   ]
  },
  {
   "cell_type": "code",
   "execution_count": 70,
   "id": "b99297a5-405a-463d-8535-9adc3da4ad74",
   "metadata": {
    "id": "b99297a5-405a-463d-8535-9adc3da4ad74"
   },
   "outputs": [
    {
     "name": "stdout",
     "output_type": "stream",
     "text": [
      "0         False\n",
      "1         False\n",
      "2         False\n",
      "3         False\n",
      "4         False\n",
      "          ...  \n",
      "478962    False\n",
      "478963    False\n",
      "478964    False\n",
      "478965    False\n",
      "478966    False\n",
      "Name: order_id, Length: 478967, dtype: bool\n",
      "15\n"
     ]
    }
   ],
   "source": [
    "# Revisa si hay pedidos duplicados\n",
    "\n",
    "print(df1['order_id'].duplicated()) #Esta linea devuelve un booleano que me indica False\n",
    "#si es la primera vez que aparece un dato, pero muestra True cuando encuentra un valor repetido\n",
    "print(df1['order_id'].duplicated().sum()) #Esta línea suma el Número total de los duplicados encontrados\n"
   ]
  },
  {
   "cell_type": "markdown",
   "id": "PEkwUX_gvt5A",
   "metadata": {
    "id": "PEkwUX_gvt5A"
   },
   "source": [
    "¿Tienes líneas duplicadas? Si sí, ¿qué tienen en común?\n",
    "\n",
    "sí, si hay lineas duplicadas en el df1 (dataframe de instacart_orders.csv)\n",
    "hay 15 valores que se repiten en todo el dataframe."
   ]
  },
  {
   "cell_type": "code",
   "execution_count": 71,
   "id": "0d44de5d",
   "metadata": {
    "id": "0d44de5d"
   },
   "outputs": [
    {
     "name": "stdout",
     "output_type": "stream",
     "text": [
      "        order_id  user_id  order_number  order_dow  order_hour_of_day  \\\n",
      "4838     2766110   162084            41          3                  2   \n",
      "5156     2190225   138285            18          3                  2   \n",
      "15506     553049    58599            13          3                  2   \n",
      "18420     382357   120200            19          3                  2   \n",
      "24691     690242    77357             2          3                  2   \n",
      "...          ...      ...           ...        ...                ...   \n",
      "457013   3384021    14881             6          3                  2   \n",
      "458816    910166   164782            18          3                  2   \n",
      "459635   1680532   106435             6          3                  2   \n",
      "468324    222962    54979            59          3                  2   \n",
      "477526   2592344    46860            38          3                  2   \n",
      "\n",
      "        days_since_prior_order  \n",
      "4838                      16.0  \n",
      "5156                      11.0  \n",
      "15506                      7.0  \n",
      "18420                     11.0  \n",
      "24691                      9.0  \n",
      "...                        ...  \n",
      "457013                    30.0  \n",
      "458816                     4.0  \n",
      "459635                    21.0  \n",
      "468324                     3.0  \n",
      "477526                     3.0  \n",
      "\n",
      "[121 rows x 6 columns]\n"
     ]
    }
   ],
   "source": [
    "# Basándote en tus hallazgos,\n",
    "# Verifica todos los pedidos que se hicieron el miércoles a las 2:00 a.m.\n",
    "\n",
    "df1_wend_2am= df1[(df1['order_dow']== 3) & (df1['order_hour_of_day']== 2)]\n",
    "# En esta linea aplicamos lo visto en la sección filtrado por condiciones multiples para mostrar\n",
    "# datos especificos del dataframe usando distintas expresiones de filtrado entre las condiciones\n",
    "# como: &, ~, |\n",
    "#adicionalmente se tiene en cuenta el día de la semana: miercoles, que corresponde al 3, ya que el \n",
    "#Domingo es 0. y la hora que son las 2am.\n",
    "\n",
    "print(df1_wend_2am)"
   ]
  },
  {
   "cell_type": "markdown",
   "id": "vu2OWyoqwOx5",
   "metadata": {
    "id": "vu2OWyoqwOx5"
   },
   "source": [
    "¿Qué sugiere este resultado?\n",
    "\n",
    "Este resultado sugiere que a las 2am del día miercoles se han registrado un total de 121 ordenes de compra. este resultado podría variar ya que no se han eliminado todavía los duplicados."
   ]
  },
  {
   "cell_type": "code",
   "execution_count": 72,
   "id": "480563c7",
   "metadata": {
    "id": "480563c7"
   },
   "outputs": [],
   "source": [
    "# Elimina los pedidos duplicados\n",
    "df1= df1.drop_duplicates(subset='order_id')"
   ]
  },
  {
   "cell_type": "code",
   "execution_count": 73,
   "id": "0b2396a2",
   "metadata": {
    "id": "0b2396a2"
   },
   "outputs": [
    {
     "name": "stdout",
     "output_type": "stream",
     "text": [
      "0\n"
     ]
    }
   ],
   "source": [
    "# Vuelve a verificar si hay filas duplicadas\n",
    "print(df1.duplicated().sum())"
   ]
  },
  {
   "cell_type": "code",
   "execution_count": 74,
   "id": "f6113ef1",
   "metadata": {
    "id": "f6113ef1"
   },
   "outputs": [
    {
     "name": "stdout",
     "output_type": "stream",
     "text": [
      "0\n"
     ]
    }
   ],
   "source": [
    "# Vuelve a verificar únicamente si hay IDs duplicados de pedidos\n",
    "print(df1['order_id'].duplicated().sum())"
   ]
  },
  {
   "cell_type": "markdown",
   "id": "488e6c5f-c885-481b-bc23-0543a11aafa5",
   "metadata": {},
   "source": [
    "<div class=\"alert alert-block alert-success\">\n",
    "<b>Comentario del revisor</b> <a class=\"tocSkip\"></a>\n",
    "\n",
    "Buen manejo de los duplicados en esta tabla\n",
    "</div>"
   ]
  },
  {
   "cell_type": "markdown",
   "id": "5e8905ae",
   "metadata": {
    "id": "5e8905ae"
   },
   "source": [
    "Describe brevemente tus hallazgos y lo que hiciste con ellos\n",
    "\n",
    "Bueno, despues de realizar el pretratamiento de los datos y filtrar el dataframe usando 2 condiciones simultaneamente pude notar que según el registro de ordenes hay un total de 121 ordenes creadas a las 2 de la mañana los días miercoles; \n",
    "Me llama la atención que haya tal cantidad de ordenes registradas, teniendo en cuenta que es mitad de semana y en la madrugada, la verdad me habría esperado un número mucho menor.\n",
    "sin embargo, no he realizado la comparación de estos resultados con el número de ordenes que se obtendrían otros días como el fin de semana en el mismo horario para confirmar si efectivamente es un número muy grande o todo lo contrario.\n",
    "\n",
    "luego se contaron y se eliminaron los duplicados del dataframe. "
   ]
  },
  {
   "cell_type": "markdown",
   "id": "45e6bc46",
   "metadata": {
    "id": "45e6bc46"
   },
   "source": [
    "### `products` data frame"
   ]
  },
  {
   "cell_type": "code",
   "execution_count": 75,
   "id": "5f526b5b-8175-46fa-a0fd-441767d50e64",
   "metadata": {
    "id": "5f526b5b-8175-46fa-a0fd-441767d50e64"
   },
   "outputs": [
    {
     "name": "stdout",
     "output_type": "stream",
     "text": [
      "0\n"
     ]
    }
   ],
   "source": [
    "# Verifica si hay filas totalmente duplicadas\n",
    "print(df2.duplicated().sum()) #df2 es el dataframe creado a partir de-> products.csv"
   ]
  },
  {
   "cell_type": "code",
   "execution_count": 76,
   "id": "88daa4f4",
   "metadata": {
    "id": "88daa4f4"
   },
   "outputs": [
    {
     "name": "stdout",
     "output_type": "stream",
     "text": [
      "0\n"
     ]
    }
   ],
   "source": [
    "# Revisa únicamente si hay ID de productos duplicados\n",
    "print(df2['product_id'].duplicated().sum())"
   ]
  },
  {
   "cell_type": "code",
   "execution_count": 77,
   "id": "c773f0bf",
   "metadata": {
    "id": "c773f0bf"
   },
   "outputs": [
    {
     "name": "stdout",
     "output_type": "stream",
     "text": [
      "1361\n"
     ]
    }
   ],
   "source": [
    "# Revisa únicamente si hay nombres duplicados de productos (convierte los nombres a letras mayúsculas para compararlos mejor)\n",
    "print(df2['product_name'].duplicated().sum())\n",
    "df2['product_name'] = df2['product_name'].str.upper()"
   ]
  },
  {
   "cell_type": "code",
   "execution_count": 78,
   "id": "01efd02e",
   "metadata": {
    "id": "01efd02e"
   },
   "outputs": [
    {
     "name": "stdout",
     "output_type": "stream",
     "text": [
      "Nombres de producto duplicados (no nulos): 104\n"
     ]
    }
   ],
   "source": [
    "# Revisa si hay nombres duplicados de productos no faltantes\n",
    "print('Nombres de producto duplicados (no nulos):', df2[~df2['product_name'].isna()]['product_name'].duplicated().sum())\n",
    "# Al usar isna() en esta línea de código me permite buscar los valores nulos (o ausentes NaN/None) dentro de la columna product_name\n",
    "# pero como niego la expresión con '~', lo que realmente obtengo es: los duplicados NO NULOS presentes en la columna product_name."
   ]
  },
  {
   "cell_type": "markdown",
   "id": "9da8d293",
   "metadata": {
    "id": "9da8d293"
   },
   "source": [
    "Describe brevemente tus hallazgos y lo que hiciste con ellos.\n",
    "\n",
    "Al revisar si habian duplicados en las distintas columnas del dataframe 2 de products.csv, puedo decir que en terminos generales, al inicio, el df2 no encuentra duplicados, y tampoco productos que se hayan registrado más de una vez en el dataframe, sin embargo, al revisar si hay nombres de productos duplicados sí aparecen valores más grandes.\n",
    "\n",
    "Esto se debe a que en esta columna de datos tenemos una menor cantidad de datos validos (48436 non-null) a diferencia del resto de las columnas (que tienen un total de 49694 non-null cada una), esto se puede saber facilmente al usar el metodo .info() en el df2. \n",
    "\n",
    "luego, revisando detenidamente los resultados, para saber cuantos de estos datos faltantes NO correspondian a valores NaN o None, encontramos que los duplicados no nulos equivalen a 104."
   ]
  },
  {
   "cell_type": "markdown",
   "id": "5dfb3590-62c2-45eb-88d6-5c700d72f9bc",
   "metadata": {},
   "source": [
    "<div class=\"alert alert-block alert-success\">\n",
    "<b>Comentario del revisor</b> <a class=\"tocSkip\"></a>\n",
    "\n",
    "Bien, la tabla de productos se ha tratado correctamente\n",
    "</div>"
   ]
  },
  {
   "cell_type": "markdown",
   "id": "60f30db1",
   "metadata": {
    "id": "60f30db1"
   },
   "source": [
    "### `departments` data frame"
   ]
  },
  {
   "cell_type": "code",
   "execution_count": 79,
   "id": "fb410ad4-0fbf-4b80-bb09-23fdea79afe3",
   "metadata": {
    "id": "fb410ad4-0fbf-4b80-bb09-23fdea79afe3"
   },
   "outputs": [
    {
     "name": "stdout",
     "output_type": "stream",
     "text": [
      "0\n"
     ]
    }
   ],
   "source": [
    "# Revisa si hay filas totalmente duplicadas\n",
    "print(df4.duplicated().sum()) #df4 es el dataframe creado a partir de-> deparments.csv"
   ]
  },
  {
   "cell_type": "code",
   "execution_count": 80,
   "id": "332b12bb",
   "metadata": {
    "id": "332b12bb"
   },
   "outputs": [
    {
     "name": "stdout",
     "output_type": "stream",
     "text": [
      "0\n"
     ]
    }
   ],
   "source": [
    "# Revisa únicamente si hay IDs duplicadas de departamentos\n",
    "print(df4['department_id'].duplicated().sum())"
   ]
  },
  {
   "cell_type": "markdown",
   "id": "bd30d78e",
   "metadata": {
    "id": "bd30d78e"
   },
   "source": [
    "Describe brevemente tus hallazgos y lo que hiciste con ellos.\n",
    "\n",
    "Despues de revisar si en df4 existen lineas duplicadas, pude ver que ni en la revisión general ni en la columna 'department_id' hay lineas duplicadas."
   ]
  },
  {
   "cell_type": "markdown",
   "id": "889349c1",
   "metadata": {
    "id": "889349c1"
   },
   "source": [
    "### `aisles` data frame"
   ]
  },
  {
   "cell_type": "code",
   "execution_count": 81,
   "id": "9da89fb9-4679-40f5-ad0d-c34df753a3f8",
   "metadata": {
    "id": "9da89fb9-4679-40f5-ad0d-c34df753a3f8"
   },
   "outputs": [
    {
     "name": "stdout",
     "output_type": "stream",
     "text": [
      "0\n"
     ]
    }
   ],
   "source": [
    "# Revisa si hay filas totalmente duplicadas\n",
    "print(df3.duplicated().sum())#df3 es el dataframe creado a partir de-> aisles.csv"
   ]
  },
  {
   "cell_type": "code",
   "execution_count": 82,
   "id": "da7c2822",
   "metadata": {
    "id": "da7c2822"
   },
   "outputs": [
    {
     "name": "stdout",
     "output_type": "stream",
     "text": [
      "0\n"
     ]
    }
   ],
   "source": [
    "# Revisa únicamente si hay IDs duplicadas de pasillos\n",
    "print(df3['aisle_id'].duplicated().sum())"
   ]
  },
  {
   "cell_type": "markdown",
   "id": "ac63826f",
   "metadata": {
    "id": "ac63826f"
   },
   "source": [
    "Describe brevemente tus hallazgos y lo que hiciste con ellos.\n",
    "\n",
    "Despues de revisar si en df3 existen lineas duplicadas, pude ver que ni en la revisión general ni en la columna 'aisle_id' hay lineas duplicadas."
   ]
  },
  {
   "cell_type": "markdown",
   "id": "274cd06a",
   "metadata": {
    "id": "274cd06a"
   },
   "source": [
    "### `order_products` data frame"
   ]
  },
  {
   "cell_type": "code",
   "execution_count": 83,
   "id": "52326689-84a8-4b8f-a881-7c68780f62c9",
   "metadata": {
    "id": "52326689-84a8-4b8f-a881-7c68780f62c9"
   },
   "outputs": [
    {
     "name": "stdout",
     "output_type": "stream",
     "text": [
      "0\n"
     ]
    }
   ],
   "source": [
    "# Revisa si hay filas totalmente duplicadas\n",
    "print(df5.duplicated().sum()) #df5 es el dataframe creado a partir de-> order_products.csv"
   ]
  },
  {
   "cell_type": "code",
   "execution_count": 84,
   "id": "7b861391",
   "metadata": {
    "id": "7b861391"
   },
   "outputs": [
    {
     "name": "stdout",
     "output_type": "stream",
     "text": [
      "Valores duplicados en order_id: 4094961\n",
      "Valores nulos en 'order_id': 0\n",
      "\n",
      "Valores duplicados en product_id: 4499434\n",
      "Valores nulos en 'product_id': 0\n",
      "\n",
      "Valores duplicados en add_to_cart_order: 4544942\n",
      "Valores nulos en 'add_to_cart_order': 836\n"
     ]
    }
   ],
   "source": [
    "# Vuelve a verificar si hay cualquier otro duplicado engañoso\n",
    "print(\"Valores duplicados en order_id:\", df5['order_id'].duplicated().sum())\n",
    "print(\"Valores nulos en 'order_id':\", df5['order_id'].isna().sum())\n",
    "print()\n",
    "\n",
    "print(\"Valores duplicados en product_id:\", df5['product_id'].duplicated().sum())\n",
    "print(\"Valores nulos en 'product_id':\", df5['product_id'].isna().sum())\n",
    "print()\n",
    "\n",
    "print(\"Valores duplicados en add_to_cart_order:\", df5['add_to_cart_order'].duplicated().sum())\n",
    "print(\"Valores nulos en 'add_to_cart_order':\", df5['add_to_cart_order'].isna().sum())"
   ]
  },
  {
   "cell_type": "markdown",
   "id": "0b890492",
   "metadata": {
    "id": "0b890492"
   },
   "source": [
    "Describe brevemente tus hallazgos y lo que hiciste con ellos.\n",
    "\n",
    "Despues de revisar si el df5 contiene valores duplicados vemos que la columna 'order_id' arroja un valor de 4094961, pero para descartar cualquier error o la presencia de duplicados engañosos como valores ausentes NaN o None vemos que obtenemos un valor de 0. mostrando así, que efectivamente los duplicados encontrados anteriormente corresponden a ordenes repetidas dentro del dataframe.\n",
    "\n",
    "con la columna product_id sucede exactamente lo mismo que con order_id y por ultimo en la columna add_to_cart_order, a diferencia que en las otras aquí si hay un total de 836 valores nulos (NaN o None) dando a entender que probablemente sean ordenes que no se terminaron de completar y quedó un valor NaN/None en lugar del número que identificara las ordenes agregadas al carrito."
   ]
  },
  {
   "cell_type": "markdown",
   "id": "39170aeb-7168-4f5b-971a-0986c5d74e0f",
   "metadata": {},
   "source": [
    "<div class=\"alert alert-block alert-success\">\n",
    "<b>Comentario del revisor</b> <a class=\"tocSkip\"></a>\n",
    "\n",
    "Buena exploración para corroborar que estas tablas no existan datos duplicados\n",
    "</div>"
   ]
  },
  {
   "cell_type": "markdown",
   "id": "1e46de76",
   "metadata": {
    "id": "1e46de76"
   },
   "source": [
    "## Encuentra y elimina los valores ausentes\n",
    "\n",
    "Al trabajar con valores duplicados, pudimos observar que también nos falta investigar valores ausentes:\n",
    "\n",
    "* La columna `'product_name'` de la tabla products.\n",
    "* La columna `'days_since_prior_order'` de la tabla orders.\n",
    "* La columna `'add_to_cart_order'` de la tabla order_productos."
   ]
  },
  {
   "cell_type": "markdown",
   "id": "c0aebd78",
   "metadata": {
    "id": "c0aebd78"
   },
   "source": [
    "### `products` data frame"
   ]
  },
  {
   "cell_type": "code",
   "execution_count": 85,
   "id": "fe4a8b0f",
   "metadata": {
    "id": "fe4a8b0f"
   },
   "outputs": [
    {
     "name": "stdout",
     "output_type": "stream",
     "text": [
      "1258\n"
     ]
    }
   ],
   "source": [
    "# Encuentra los valores ausentes en la columna 'product_name'\n",
    "print(df2['product_name'].isna().sum())"
   ]
  },
  {
   "cell_type": "markdown",
   "id": "-A6x1AbJhjkp",
   "metadata": {
    "id": "-A6x1AbJhjkp"
   },
   "source": [
    "Describe brevemente cuáles son tus hallazgos.\n",
    "\n",
    "La columna product_name tiene 1258 valores NULOS, es decir, hay 1258 NaN o None en toda la columna"
   ]
  },
  {
   "cell_type": "code",
   "execution_count": 86,
   "id": "e96167bc",
   "metadata": {
    "id": "e96167bc"
   },
   "outputs": [
    {
     "name": "stdout",
     "output_type": "stream",
     "text": [
      "[100]\n"
     ]
    }
   ],
   "source": [
    "#  ¿Todos los nombres de productos ausentes están relacionados con el pasillo con ID 100?\n",
    "p_faltantes = df2[df2['product_name'].isna()] # Esta línea filtra todos los productos de la columna product_name que sean valores ausentes\n",
    "print(p_faltantes['aisle_id'].unique()) # Aquí se obtendrá como resultado los pasillos que contengan valores ausentes"
   ]
  },
  {
   "cell_type": "markdown",
   "id": "WRpIfXRphpSL",
   "metadata": {
    "id": "WRpIfXRphpSL"
   },
   "source": [
    "Describe brevemente cuáles son tus hallazgos.\n",
    "\n",
    "Efectivamente, todos los valores ausentes estan presentes en el pasillo número 100 de víveres"
   ]
  },
  {
   "cell_type": "code",
   "execution_count": 87,
   "id": "8fd0a541",
   "metadata": {
    "id": "8fd0a541"
   },
   "outputs": [
    {
     "name": "stdout",
     "output_type": "stream",
     "text": [
      "[21]\n"
     ]
    }
   ],
   "source": [
    "# ¿Todos los nombres de productos ausentes están relacionados con el departamento con ID 21?\n",
    "print(p_faltantes['department_id'].unique())"
   ]
  },
  {
   "cell_type": "markdown",
   "id": "cc6ca00d-6548-428d-ade0-1e4c53c43d59",
   "metadata": {},
   "source": [
    "<div class=\"alert alert-block alert-success\">\n",
    "<b>Comentario del revisor</b> <a class=\"tocSkip\"></a>\n",
    "\n",
    "Bien hecho, encontraste los duplicados en la tabla de productos\n",
    "</div>"
   ]
  },
  {
   "cell_type": "markdown",
   "id": "qDpdYn1Fht_I",
   "metadata": {
    "id": "qDpdYn1Fht_I"
   },
   "source": [
    "Describe brevemente cuáles son tus hallazgos\n",
    "\n",
    "Los resultados muestran que todos los nombres de productos corresponden unicamente al departamento 21 de víveres"
   ]
  },
  {
   "cell_type": "code",
   "execution_count": 88,
   "id": "325c3464",
   "metadata": {
    "id": "325c3464"
   },
   "outputs": [
    {
     "name": "stdout",
     "output_type": "stream",
     "text": [
      "       product_id product_name  aisle_id  department_id\n",
      "37             38          NaN       100             21\n",
      "71             72          NaN       100             21\n",
      "109           110          NaN       100             21\n",
      "296           297          NaN       100             21\n",
      "416           417          NaN       100             21\n",
      "...           ...          ...       ...            ...\n",
      "49552       49553          NaN       100             21\n",
      "49574       49575          NaN       100             21\n",
      "49640       49641          NaN       100             21\n",
      "49663       49664          NaN       100             21\n",
      "49668       49669          NaN       100             21\n",
      "\n",
      "[1258 rows x 4 columns]\n"
     ]
    }
   ],
   "source": [
    "# Usa las tablas department y aisle para revisar los datos del pasillo con ID 100 y el departamento con ID 21.\n",
    "print(df2[(df2['aisle_id']== 100) & (df2['department_id']== 21)]) # Aplico el filtro doble para revisar especificamente estas variables"
   ]
  },
  {
   "cell_type": "markdown",
   "id": "nqhSTUPhhvEJ",
   "metadata": {
    "id": "nqhSTUPhhvEJ"
   },
   "source": [
    "Describe brevemente cuáles son tus hallazgos.\n",
    "\n",
    "Al visualizar los datos aplicando ambos filtros se ve como la columna product_name solo muestra valores NaN"
   ]
  },
  {
   "cell_type": "markdown",
   "id": "d8af3c36-1ddd-4654-aeb8-111772e9d463",
   "metadata": {},
   "source": [
    "<div class=\"alert alert-block alert-success\">\n",
    "<b>Comentario del revisor</b> <a class=\"tocSkip\"></a>\n",
    "\n",
    "Bien, estos descubrimientos son útiles para comprender la naturaleza de los datos faltantes\n",
    "</div>"
   ]
  },
  {
   "cell_type": "code",
   "execution_count": 89,
   "id": "6b295120",
   "metadata": {
    "id": "6b295120"
   },
   "outputs": [
    {
     "name": "stdout",
     "output_type": "stream",
     "text": [
      "       product_id product_name  aisle_id  department_id\n",
      "37             38      Unknown       100             21\n",
      "71             72      Unknown       100             21\n",
      "109           110      Unknown       100             21\n",
      "296           297      Unknown       100             21\n",
      "416           417      Unknown       100             21\n",
      "...           ...          ...       ...            ...\n",
      "49552       49553      Unknown       100             21\n",
      "49574       49575      Unknown       100             21\n",
      "49640       49641      Unknown       100             21\n",
      "49663       49664      Unknown       100             21\n",
      "49668       49669      Unknown       100             21\n",
      "\n",
      "[1258 rows x 4 columns]\n"
     ]
    }
   ],
   "source": [
    "# Completa los nombres de productos ausentes con 'Unknown'\n",
    "df2['product_name'].fillna('Unknown', inplace= True) # Uso el metodo fillna() con inplace= True para reemplazar los valores ausentes\n",
    "print(df2[(df2['aisle_id']== 100) & (df2['department_id']== 21)]) #vuelvo a revisar los datos despues del cambio anterior"
   ]
  },
  {
   "cell_type": "markdown",
   "id": "fc70e5ad",
   "metadata": {
    "id": "fc70e5ad"
   },
   "source": [
    "Describe brevemente tus hallazgos y lo que hiciste con ellos.\n",
    "\n",
    "Despues de reemplazar los valores ausentes por 'Unknown' volví a revisar la tabla filtrada y efectivamente se modificaron, por lo cual, ya no hay más valores ausentes en el df2"
   ]
  },
  {
   "cell_type": "markdown",
   "id": "7eb45c86",
   "metadata": {
    "id": "7eb45c86"
   },
   "source": [
    "### `orders` data frame"
   ]
  },
  {
   "cell_type": "code",
   "execution_count": 90,
   "id": "93e41d96",
   "metadata": {
    "id": "93e41d96"
   },
   "outputs": [
    {
     "name": "stdout",
     "output_type": "stream",
     "text": [
      "order_id                      0\n",
      "user_id                       0\n",
      "order_number                  0\n",
      "order_dow                     0\n",
      "order_hour_of_day             0\n",
      "days_since_prior_order    28817\n",
      "dtype: int64\n"
     ]
    }
   ],
   "source": [
    "# Encuentra los valores ausentes\n",
    "print(df1.isna().sum())"
   ]
  },
  {
   "cell_type": "code",
   "execution_count": 91,
   "id": "166e5a86",
   "metadata": {
    "id": "166e5a86"
   },
   "outputs": [
    {
     "name": "stdout",
     "output_type": "stream",
     "text": [
      "Valores ausentes que NO son el primer pedido/ la primera compra: 0\n"
     ]
    }
   ],
   "source": [
    "# ¿Hay algún valor ausente que no sea el primer pedido del cliente?\n",
    "faltantes_df1= df1[df1['days_since_prior_order'].isna()] # Filtro los valores ausentes de esta columna\n",
    "no_1er_compra= faltantes_df1[faltantes_df1['order_number']!= 1] #ya que order number identifica de \n",
    "# forma unica a cada pedido registrado, debía buscar valores nulos que fueran distintos a la primera compra de cada cliente.\n",
    "print(\"Valores ausentes que NO son el primer pedido/ la primera compra:\", len(no_1er_compra))"
   ]
  },
  {
   "cell_type": "markdown",
   "id": "4e23d089",
   "metadata": {
    "id": "4e23d089"
   },
   "source": [
    "Describe brevemente tus hallazgos y lo que hiciste con ellos.\n",
    "\n",
    "El 0 que se obtuvo significa que NO todos los valores ausentes de days_since_prior_order corresponden al primer pedido del cliente."
   ]
  },
  {
   "cell_type": "markdown",
   "id": "c2a6efd5-c7fd-4dac-8a92-8c91e88732c7",
   "metadata": {},
   "source": [
    "<div class=\"alert alert-block alert-success\">\n",
    "<b>Comentario del revisor</b> <a class=\"tocSkip\"></a>\n",
    "\n",
    "Buen comentario sobre la naturaleza de los Nan en dicha columna, no todos los faltantes son un error\n",
    "</div>"
   ]
  },
  {
   "cell_type": "markdown",
   "id": "69dc9ca4",
   "metadata": {
    "id": "69dc9ca4"
   },
   "source": [
    "### `order_products` data frame"
   ]
  },
  {
   "cell_type": "code",
   "execution_count": 92,
   "id": "b8240253",
   "metadata": {
    "id": "b8240253"
   },
   "outputs": [
    {
     "name": "stdout",
     "output_type": "stream",
     "text": [
      "order_id               0\n",
      "product_id             0\n",
      "add_to_cart_order    836\n",
      "reordered              0\n",
      "dtype: int64\n"
     ]
    }
   ],
   "source": [
    "# Encuentra los valores ausentes\n",
    "print(df5.isna().sum())"
   ]
  },
  {
   "cell_type": "code",
   "execution_count": 93,
   "id": "9a78e5ee",
   "metadata": {
    "id": "9a78e5ee"
   },
   "outputs": [
    {
     "name": "stdout",
     "output_type": "stream",
     "text": [
      "El valor mínimo de la columna add_to_cart_order es: 1.0\n",
      "El valor máximo de la columna add_to_cart_order es: 64.0\n"
     ]
    }
   ],
   "source": [
    "# ¿Cuáles son los valores mínimos y máximos en esta columna?\n",
    "print(\"El valor mínimo de la columna add_to_cart_order es:\", df5['add_to_cart_order'].min())\n",
    "print(\"El valor máximo de la columna add_to_cart_order es:\", df5['add_to_cart_order'].max())"
   ]
  },
  {
   "cell_type": "markdown",
   "id": "-Z2Ja215jW78",
   "metadata": {
    "id": "-Z2Ja215jW78"
   },
   "source": [
    "Describe brevemente cuáles son tus hallazgos.\n",
    "Estos resultados lo que muestran es que de la columna add_to_cart_order hubo al menos 1 pedido que llegó a agregar hasta 64 artículos en una sola orden. y que la menor cantidad agregada en una orden de compra fue de 1"
   ]
  },
  {
   "cell_type": "code",
   "execution_count": 94,
   "id": "ab9d0c2b",
   "metadata": {
    "id": "ab9d0c2b"
   },
   "outputs": [
    {
     "name": "stdout",
     "output_type": "stream",
     "text": [
      "737        2449164\n",
      "9926       1968313\n",
      "14394      2926893\n",
      "16418      1717990\n",
      "30114      1959075\n",
      "            ...   \n",
      "4505662    1800005\n",
      "4511400    1633337\n",
      "4517562     404157\n",
      "4534112    1673227\n",
      "4535739    1832957\n",
      "Name: order_id, Length: 836, dtype: int64\n"
     ]
    }
   ],
   "source": [
    "# Guarda todas las IDs de pedidos que tengan un valor ausente en 'add_to_cart_order'\n",
    "val_ausentes_df5 = df5.loc[df5['add_to_cart_order'].isna(), 'order_id'] \n",
    "#La ultima parte del codigo, (antes de la \",\") crea una serie que marca True donde hay valores ausentes NaN o None\n",
    "#y al aplicar .loc[] puedo filtrar las filas con NaN en esa columna especificamente, mientras selecciono los datos de la columna 'order_id'\n",
    "print(val_ausentes_df5)"
   ]
  },
  {
   "cell_type": "code",
   "execution_count": 95,
   "id": "54c31695",
   "metadata": {
    "id": "54c31695"
   },
   "outputs": [
    {
     "name": "stdout",
     "output_type": "stream",
     "text": [
      "1\n"
     ]
    }
   ],
   "source": [
    "# ¿Todos los pedidos con valores ausentes tienen más de 64 productos?\n",
    "# Agrupa todos los pedidos con datos ausentes por su ID de pedido.\n",
    "# Cuenta el número de 'product_id' en cada pedido y revisa el valor mínimo del conteo.\n",
    "\n",
    "nan_orders= df5[df5['add_to_cart_order'].isna()] #Primero filtro el df5 teniendo en cuenta los valores ausentes de la columna 'add_to_cart_order'\n",
    "product_count= nan_orders.groupby('order_id')['product_id'].count() # luego, a partir del df5 filtrado, agrupo el dataframe por el 'order_id' y enseguida cuento el número de productos en cada pedido con la columna 'product_id'\n",
    "min_product_count= product_count.min() # busco cúal es el valor mínimo encontrado en el conteo anterior\n",
    "\n",
    "print(min_product_count)"
   ]
  },
  {
   "cell_type": "markdown",
   "id": "p9V6pddtjglj",
   "metadata": {
    "id": "p9V6pddtjglj"
   },
   "source": [
    "Describe brevemente cuáles son tus hallazgos.\n",
    "\n",
    "Según los resultados, es valido afirmar que no todos los pedidos con valores ausentes tienen más de 64 pedidos, ya que el valor mínimo encontrado en el número de productos por pedido fue 1."
   ]
  },
  {
   "cell_type": "code",
   "execution_count": 96,
   "id": "7a987d08",
   "metadata": {
    "id": "7a987d08"
   },
   "outputs": [
    {
     "name": "stdout",
     "output_type": "stream",
     "text": [
      "<class 'pandas.core.frame.DataFrame'>\n",
      "RangeIndex: 4545007 entries, 0 to 4545006\n",
      "Data columns (total 4 columns):\n",
      " #   Column             Dtype\n",
      "---  ------             -----\n",
      " 0   order_id           int64\n",
      " 1   product_id         int64\n",
      " 2   add_to_cart_order  int64\n",
      " 3   reordered          int64\n",
      "dtypes: int64(4)\n",
      "memory usage: 138.7 MB\n",
      "None\n"
     ]
    }
   ],
   "source": [
    "# Remplaza los valores ausentes en la columna 'add_to_cart? con 999 y convierte la columna al tipo entero.\n",
    "df5['add_to_cart_order'].fillna(999, inplace= True) #Del mismo modo que se hizo anteriormente, uso el método fillna() para modificar el dataframe y reemplazar los valores nulos por \n",
    "df5['add_to_cart_order']= df5['add_to_cart_order'].astype('int') # Aquí con el metodo astype() modifico el tipo de dato de la columna a integer\n",
    "print(df5.info())"
   ]
  },
  {
   "cell_type": "markdown",
   "id": "fea4bcc7",
   "metadata": {
    "id": "fea4bcc7"
   },
   "source": [
    "Describe brevemente tus hallazgos y lo que hiciste con ellos\n",
    "\n",
    "Los valores nulos fueron correctamente eliminados."
   ]
  },
  {
   "cell_type": "markdown",
   "id": "e1b9c70d-3457-4bc2-9ae1-711bece7f54e",
   "metadata": {},
   "source": [
    "<div class=\"alert alert-block alert-success\">\n",
    "<b>Comentario del revisor</b> <a class=\"tocSkip\"></a>\n",
    "\n",
    "Buen tratamiento de los datos\n",
    "</div>"
   ]
  },
  {
   "cell_type": "markdown",
   "id": "RnplPFY1gSrb",
   "metadata": {
    "id": "RnplPFY1gSrb"
   },
   "source": [
    "## Conclusiones\n",
    "\n",
    "Escribe aquí tus conclusiones intermedias sobre el Paso 2. Preprocesamiento de los datos\n",
    "\n",
    "En este preprocesamiento de los datos se revisaron detenidamente los distintos dataframes creados a partir de los archivos csv. Luego, estos dataframes se limpiaron correctamente eliminando los duplicados, y modificando los valores nulos (NaN y None) para colocar en su lugar o un string 'Unknown' o un número (int) 999."
   ]
  },
  {
   "cell_type": "markdown",
   "id": "UjrOIwTcz3ri",
   "metadata": {
    "id": "UjrOIwTcz3ri"
   },
   "source": [
    "# Paso 3. Análisis de los datos\n",
    "\n",
    "Una vez los datos estén procesados y listos, haz el siguiente análisis:"
   ]
  },
  {
   "cell_type": "markdown",
   "id": "turkish-kidney",
   "metadata": {
    "id": "turkish-kidney"
   },
   "source": [
    "# [A] Fácil (deben completarse todos para aprobar)\n",
    "\n",
    "1. Verifica que los valores en las columnas `'order_hour_of_day'` y `'order_dow'` en la tabla orders sean razonables (es decir, `'order_hour_of_day'` oscile entre 0 y 23 y `'order_dow'` oscile entre 0 y 6).\n",
    "2. Crea un gráfico que muestre el número de personas que hacen pedidos dependiendo de la hora del día.\n",
    "3. Crea un gráfico que muestre qué día de la semana la gente hace sus compras.\n",
    "4. Crea un gráfico que muestre el tiempo que la gente espera hasta hacer su siguiente pedido, y comenta sobre los valores mínimos y máximos."
   ]
  },
  {
   "cell_type": "markdown",
   "id": "short-capability",
   "metadata": {
    "id": "short-capability"
   },
   "source": [
    "### [A1] Verifica que los valores sean sensibles"
   ]
  },
  {
   "cell_type": "code",
   "execution_count": 97,
   "id": "growing-fruit",
   "metadata": {
    "id": "growing-fruit"
   },
   "outputs": [
    {
     "name": "stdout",
     "output_type": "stream",
     "text": [
      "Registros con horas inválidas: Empty DataFrame\n",
      "Columns: [order_id, user_id, order_number, order_dow, order_hour_of_day, days_since_prior_order]\n",
      "Index: []\n"
     ]
    }
   ],
   "source": [
    "invalid_hours= df1[(df1['order_hour_of_day'] < 0) | (df1['order_hour_of_day'] > 23)]\n",
    "print(\"Registros con horas inválidas:\", invalid_hours)"
   ]
  },
  {
   "cell_type": "code",
   "execution_count": 98,
   "id": "accessory-malaysia",
   "metadata": {
    "id": "accessory-malaysia"
   },
   "outputs": [
    {
     "name": "stdout",
     "output_type": "stream",
     "text": [
      "Registros con días inválidos: Empty DataFrame\n",
      "Columns: [order_id, user_id, order_number, order_dow, order_hour_of_day, days_since_prior_order]\n",
      "Index: []\n"
     ]
    }
   ],
   "source": [
    "invalid_days= df1[(df1['order_dow'] < 0) | (df1['order_dow'] > 6)]\n",
    "print(\"Registros con días inválidos:\", invalid_days)"
   ]
  },
  {
   "cell_type": "markdown",
   "id": "fc687241-100b-4329-ae71-c2540ef60520",
   "metadata": {},
   "source": [
    "<div class=\"alert alert-block alert-success\">\n",
    "<b>Comentario del revisor</b> <a class=\"tocSkip\"></a>\n",
    "\n",
    "Muy bien, validaste que la columna de horas tenga solo las 24 horas del día y que los datos tengan los 7 días de la semana. En las horas también se podría aplicar un unique para visualizar la cantidad de datos de horas que contiene.\n",
    "</div>"
   ]
  },
  {
   "cell_type": "markdown",
   "id": "hmR2GNQ6lCsX",
   "metadata": {
    "id": "hmR2GNQ6lCsX"
   },
   "source": [
    "Escribe aquí tus conclusiones\n",
    "\n",
    "los filtros aplicados sobre las columnas 'order_dow' y 'order_hour_of_day' muestran que en ambos casos no hay valores que sean distintos a los esperados."
   ]
  },
  {
   "cell_type": "markdown",
   "id": "e57d2f7a-01bc-4f14-8b46-89bc77a40de6",
   "metadata": {},
   "source": [
    "<div class=\"alert alert-block alert-success\">\n",
    "<b>Comentario del revisor</b> <a class=\"tocSkip\"></a>\n",
    "\n",
    "Buenas conclusiones, gracias por resumir los resultados de todo lo que se va realizando. No solo el código es importante. También lo es comentar y describir el trabajo realizado\n",
    "</div>"
   ]
  },
  {
   "cell_type": "markdown",
   "id": "a6743a70",
   "metadata": {
    "id": "a6743a70"
   },
   "source": [
    "### [A2] Para cada hora del día, ¿cuántas personas hacen órdenes?"
   ]
  },
  {
   "cell_type": "code",
   "execution_count": 99,
   "id": "a36cca27",
   "metadata": {
    "id": "a36cca27"
   },
   "outputs": [
    {
     "data": {
      "image/png": "[encoded data removed]",
      "text/plain": [
       "<Figure size 1000x500 with 1 Axes>"
      ]
     },
     "metadata": {},
     "output_type": "display_data"
    }
   ],
   "source": [
    "import matplotlib.pyplot as plt\n",
    "df1['order_hour_of_day'].plot(\n",
    "    kind= 'hist',\n",
    "    title= 'Pedidos por hora del día',\n",
    "    bins= 24,\n",
    "    range= (0, 24),\n",
    "    figsize= (10, 5),\n",
    "    grid= True\n",
    ")\n",
    "plt.xlabel('Hora del día')\n",
    "plt.ylabel('Número de Pedidos')\n",
    "plt.show()"
   ]
  },
  {
   "cell_type": "markdown",
   "id": "11270eed",
   "metadata": {
    "id": "11270eed"
   },
   "source": [
    "Escribe aquí tus conclusiones\n",
    "\n",
    "El histograma muestra que hay una variación significativa entre las horas iniciales del día,  ya que, (de madrugada) entre las 0:00am y las 5:00am los pedidos registrados son en general los valores más pequeños del día, y conforme van pasando las horas, progresivamente se realiza mayor cantidad de compras entre las 10:00h de la mañana y las 15:00h, luego nuevamente comienzan a disminuir la cantidad de pedidos que realizan los clientes. "
   ]
  },
  {
   "cell_type": "markdown",
   "id": "c6fff898-b36d-4a9d-b478-d2c531fbce5d",
   "metadata": {},
   "source": [
    "<div class=\"alert alert-block alert-success\">\n",
    "<b>Comentario del revisor</b> <a class=\"tocSkip\"></a>\n",
    "\n",
    "Buena gráfica de la distribución de las horas del día\n",
    "</div>"
   ]
  },
  {
   "cell_type": "markdown",
   "id": "documented-command",
   "metadata": {
    "id": "documented-command"
   },
   "source": [
    "### [A3] ¿Qué día de la semana compran víveres las personas?"
   ]
  },
  {
   "cell_type": "code",
   "execution_count": 100,
   "id": "chief-digit",
   "metadata": {
    "id": "chief-digit",
    "scrolled": true
   },
   "outputs": [
    {
     "data": {
      "image/png": "[encoded data removed]",
      "text/plain": [
       "<Figure size 1000x600 with 1 Axes>"
      ]
     },
     "metadata": {},
     "output_type": "display_data"
    }
   ],
   "source": [
    "import matplotlib.pyplot as plt\n",
    "df1['order_dow'].plot(\n",
    "    kind= 'hist',\n",
    "    title= 'Compras por día de la semana',\n",
    "    bins= 7,\n",
    "    range= (0, 7),\n",
    "    figsize= (10, 6),\n",
    "    grid= True\n",
    ")\n",
    "plt.xlabel('Día de la semana')\n",
    "plt.ylabel('Número de compras')\n",
    "plt.show()"
   ]
  },
  {
   "cell_type": "markdown",
   "id": "dominant-lightning",
   "metadata": {
    "id": "dominant-lightning"
   },
   "source": [
    "Escribe aquí tus conclusiones\n",
    "\n",
    "El gráfico muestra que los días de la semana en los que se registran mayor cantidad de ventas fueron domingo y lunes alcanzando valores por encima de los 80.000 pedidos, luego, durante los siguientes días de la semana los valores son relativamente similares ya que entre el Martes y el Sabado las compras realizadas se mantienen entre los 60.000 y los 65.000 pedidos. siendo el jueves el día con menor cantidad de compras (60.000) y el domingo el día con el valor más alto (por encima de los 83.000)."
   ]
  },
  {
   "cell_type": "markdown",
   "id": "6a85eec5-ac1b-43e5-b8fe-d685a0aa9dd0",
   "metadata": {},
   "source": [
    "<div class=\"alert alert-block alert-success\">\n",
    "<b>Comentario del revisor</b> <a class=\"tocSkip\"></a>\n",
    "\n",
    "Muy bien, se puede apreciar la distribución en los días de la semana\n",
    "</div>"
   ]
  },
  {
   "cell_type": "markdown",
   "id": "cutting-concert",
   "metadata": {
    "id": "cutting-concert"
   },
   "source": [
    "### [A4] ¿Cuánto tiempo esperan las personas hasta hacer otro pedido? Comenta sobre los valores mínimos y máximos."
   ]
  },
  {
   "cell_type": "code",
   "execution_count": 101,
   "id": "c231f523",
   "metadata": {
    "id": "c231f523"
   },
   "outputs": [
    {
     "data": {
      "image/png": "[encoded data removed]",
      "text/plain": [
       "<Figure size 1400x700 with 1 Axes>"
      ]
     },
     "metadata": {},
     "output_type": "display_data"
    },
    {
     "name": "stdout",
     "output_type": "stream",
     "text": [
      "El tiempo de espera mínimo entre pedidos es: 0.0\n",
      "El tiempo de espera máximo entre pedidos es: 30.0\n"
     ]
    }
   ],
   "source": [
    "tiempo_de_espera= df1['days_since_prior_order'].dropna() # Aquí elimino todos los valores NULOS. (NaN/None)\n",
    "tiempo_de_espera.plot(\n",
    "    kind= 'hist',\n",
    "    bins= 30,\n",
    "    figsize=(14,7),\n",
    "    range=(0, 30),\n",
    "    title= 'Dias de espera entre compras',\n",
    "    grid= True\n",
    ")\n",
    "plt.xlabel('Días desde el pedido anterior')\n",
    "plt.ylabel('Frecuencia')\n",
    "\n",
    "plt.show()\n",
    "print(\"El tiempo de espera mínimo entre pedidos es:\", tiempo_de_espera.min())\n",
    "print(\"El tiempo de espera máximo entre pedidos es:\", tiempo_de_espera.max())"
   ]
  },
  {
   "cell_type": "markdown",
   "id": "discrete-vertex",
   "metadata": {
    "id": "discrete-vertex"
   },
   "source": [
    "Escribe aquí tus conclusiones\n",
    "\n",
    "Este gráfico muestra que hay un patrón en el comportamiento de los clientes, ya que nos indica que hay una gran cantidad de clientes que realizan compras en 2 momentos puntuales del mes, el primero cada 7 días y el siguiente y más grande grupo de clientes cada 30 días.\n",
    "\n",
    "Por otro lado, también muestra que hay muchos clientes (la gran mayoría que se agrupan al lado izquierdo del gráfico) que suelen crear nuevos pedidos por tarde cada 8-10 días.\n",
    "\n",
    "y al evaluar los valores mínimo y máximo vemos que encaja perfectamente con lo observado ya que muestra como valor mínimo el número 0. es decir, hay un porcentaje de clientes que compran todos los días del mes, mientras que hay otro porcentaje que realiza una sola compra cada 30 días."
   ]
  },
  {
   "cell_type": "markdown",
   "id": "2411031f-8048-4f76-bcd8-3937901293e7",
   "metadata": {},
   "source": [
    "<div class=\"alert alert-block alert-success\">\n",
    "<b>Comentario del revisor</b> <a class=\"tocSkip\"></a>\n",
    "\n",
    "Bien hecho, se puede visualizar correctamente cuanto tardan las personas en hacer otro pedido, el valor máximo es muy elevado para ser real, lo más seguro es que los datos estén limitados y todos los valores mayores a 30 se agrupen en 30\n",
    "</div>"
   ]
  },
  {
   "cell_type": "markdown",
   "id": "tight-staff",
   "metadata": {
    "id": "tight-staff"
   },
   "source": [
    "# [B] Intermedio (deben completarse todos para aprobar)\n",
    "\n",
    "1. ¿Existe alguna diferencia entre las distribuciones `'order_hour_of_day'` de los miércoles y los sábados? Traza gráficos de barra de `'order_hour_of_day'` para ambos días en la misma figura y describe las diferencias que observes.\n",
    "2. Grafica la distribución para el número de órdenes que hacen los clientes (es decir, cuántos clientes hicieron solo 1 pedido, cuántos hicieron 2, cuántos 3, y así sucesivamente...).\n",
    "3. ¿Cuáles son los 20 principales productos que se piden con más frecuencia (muestra su identificación y nombre)?"
   ]
  },
  {
   "cell_type": "markdown",
   "id": "packed-classic",
   "metadata": {
    "id": "packed-classic"
   },
   "source": [
    "### [B1] Diferencia entre miércoles y sábados para  `'order_hour_of_day'`. Traza gráficos de barra para los dos días y describe las diferencias que veas."
   ]
  },
  {
   "cell_type": "code",
   "execution_count": 102,
   "id": "d89b8403",
   "metadata": {
    "id": "d89b8403"
   },
   "outputs": [
    {
     "data": {
      "image/png": "[encoded data removed]",
      "text/plain": [
       "<Figure size 1200x600 with 1 Axes>"
      ]
     },
     "metadata": {},
     "output_type": "display_data"
    }
   ],
   "source": [
    "miercoles= df1[df1['order_dow']==3] #Primero filtro los días, tanto el Miércoles como el Sábado\n",
    "sabado= df1[df1['order_dow']==6]\n",
    "#Luego, con estos días filtrados busco en el dataframe la columna 'order_hour_of_day' para realizar \n",
    "# el conteo de cada valor único para el Miércoles y el Sábado y .sort_index() organiza estos valores en orden\n",
    "conteo_miercoles= miercoles['order_hour_of_day'].value_counts().sort_index()\n",
    "conteo_sabado= sabado['order_hour_of_day'].value_counts().sort_index()\n",
    "\n",
    "# Ahora creo un diccionario que se convertirá en mi nuevo dataframe para crear el gráfico que busco\n",
    "nuevo_df = pd.DataFrame({\n",
    "    'Miercoles': conteo_miercoles,\n",
    "    'Sabado': conteo_sabado\n",
    "})\n",
    "\n",
    "#finalmente, uso el nuevo_df para crear el gráfico\n",
    "nuevo_df.plot(\n",
    "    kind= 'bar',\n",
    "    figsize= (12,6),\n",
    "    color=['green', 'orange'],\n",
    "    title= 'Pedidos por hora - Miércoles vs Sábados',\n",
    "    xlabel= 'Hora del día',\n",
    "    ylabel= 'Número de pedidos',\n",
    "    grid= True\n",
    ")\n",
    "plt.legend(['Miércoles', 'Sábado'])\n",
    "plt.show()"
   ]
  },
  {
   "cell_type": "markdown",
   "id": "charitable-congo",
   "metadata": {
    "id": "charitable-congo"
   },
   "source": [
    "Escribe aquí tus conclusiones\n",
    "\n",
    "Al revisar detenidamente el gráfico que compara la cantidad e pedidos que se realizan el Miércoles y el Sábado, se puede decir que en general el comportamiento de compra es muy similar en ambos días, sin embargo, en general el día Sábado suele estar por encima del Miércoles especialmente en las horas pico (entre las 11:00h y las 15:00h) y se mantiene de esta manera, el la mayor parte del tiempó. hay ciertas horas del día en donde el miercoles supera por poco la cantidad de pedidos realizados por los clientes, como a las 6:00h, 7:00h, 9:00h, 10:00h y luego en la tarde, desde las  18:00h hasta las 20:00h "
   ]
  },
  {
   "cell_type": "markdown",
   "id": "d0c3d6ea-8525-4c98-bd2e-a8f7d6345172",
   "metadata": {},
   "source": [
    "<div class=\"alert alert-block alert-success\">\n",
    "<b>Comentario del revisor</b> <a class=\"tocSkip\"></a>\n",
    "\n",
    "Buen histograma para comprender la diferencia entre las ordenes que se piden en cada día\n",
    "</div>"
   ]
  },
  {
   "cell_type": "markdown",
   "id": "e3891143",
   "metadata": {
    "id": "e3891143"
   },
   "source": [
    "### [B2] ¿Cuál es la distribución para el número de pedidos por cliente?"
   ]
  },
  {
   "cell_type": "code",
   "execution_count": 103,
   "id": "d8c26c23",
   "metadata": {
    "id": "d8c26c23"
   },
   "outputs": [
    {
     "name": "stdout",
     "output_type": "stream",
     "text": [
      "user_id\n",
      "2         2\n",
      "4         2\n",
      "5         1\n",
      "6         2\n",
      "7         2\n",
      "         ..\n",
      "206203    1\n",
      "206206    7\n",
      "206207    5\n",
      "206208    9\n",
      "206209    2\n",
      "Name: order_id, Length: 157437, dtype: int64\n"
     ]
    }
   ],
   "source": [
    "# En primer lugar debo agrupar el Dataframe por cliente, es decir por 'user_id', \n",
    "# luego de que ya está agrupado voy a contar los valores unicos que hay en la columna de ordenes 'order_id' \n",
    "# de modo que se sepa cuantos clientes hacen respectivamente cuantas compras.\n",
    "\n",
    "pedidos_por_cliente = df1.groupby('user_id')['order_id'].nunique()\n",
    "print(pedidos_por_cliente )"
   ]
  },
  {
   "cell_type": "code",
   "execution_count": 104,
   "id": "00e69a66",
   "metadata": {
    "id": "00e69a66"
   },
   "outputs": [
    {
     "name": "stdout",
     "output_type": "stream",
     "text": [
      "El mayor número de pedidos hecho por un cliente es: 28\n",
      "El menor número de pedidos hecho por un cliente es: 1\n"
     ]
    },
    {
     "data": {
      "image/png": "[encoded data removed]",
      "text/plain": [
       "<Figure size 1200x600 with 1 Axes>"
      ]
     },
     "metadata": {},
     "output_type": "display_data"
    }
   ],
   "source": [
    "#Pero como se puede ver estos datos están en desorden, razón por la cual debo organizarlos y contarlos.\n",
    "distribucion= pedidos_por_cliente.value_counts().sort_index()\n",
    "# para saber los limites que debe tener el eje x del gráfico puedo hacer uso del valor máximo y mínimo de la variable anterior 'pedidos_por_cliente'\n",
    "print(\"El mayor número de pedidos hecho por un cliente es:\", pedidos_por_cliente.max())\n",
    "print(\"El menor número de pedidos hecho por un cliente es:\", pedidos_por_cliente.min())\n",
    "\n",
    "distribucion.plot(\n",
    "    kind= 'bar',\n",
    "    figsize= (12,6),\n",
    "    xlim= (0,28),\n",
    "    title= 'Distribución de pedidos por cliente',\n",
    "    xlabel= 'Número de pedidos hechos',\n",
    "    ylabel= 'Número de clientes',\n",
    "    grid= True\n",
    ")\n",
    "\n",
    "plt.show()"
   ]
  },
  {
   "cell_type": "markdown",
   "id": "d2eff7d5",
   "metadata": {
    "id": "d2eff7d5"
   },
   "source": [
    "Escribe aquí tus conclusiones\n",
    "\n",
    "Esta gráfica lo que muestra es que la gran mayoría de clientes (más de 50.000) solamente han hecho una sola compra y progresivamente se ve como la cantidad de personas disminuye cuando se trata de repetir ordenes o crear nuevos pedidos, hasta que visualmente practicamente desaparece la barra en el número 28. lo que corresponde a que el número de clientes que han repetido sus compras 28 veces es muy muy pequeño."
   ]
  },
  {
   "cell_type": "markdown",
   "id": "16a4a450-7ae8-40fd-ad08-1f82b114e3de",
   "metadata": {},
   "source": [
    "<div class=\"alert alert-block alert-success\">\n",
    "<b>Comentario del revisor</b> <a class=\"tocSkip\"></a>\n",
    "\n",
    "Muy bien, con esta información se puede visualizar correctamente la distribución del número de pedidos por cliente\n",
    "</div>"
   ]
  },
  {
   "cell_type": "markdown",
   "id": "54a0319c",
   "metadata": {
    "id": "54a0319c"
   },
   "source": [
    "### [B3] ¿Cuáles son los 20 productos más populares (muestra su ID y nombre)?"
   ]
  },
  {
   "cell_type": "code",
   "execution_count": 105,
   "id": "exterior-arizona",
   "metadata": {
    "id": "exterior-arizona",
    "scrolled": true
   },
   "outputs": [
    {
     "name": "stdout",
     "output_type": "stream",
     "text": [
      "       index  product_id\n",
      "0      24852       66050\n",
      "1      13176       53297\n",
      "2      21137       37039\n",
      "3      21903       33971\n",
      "4      47209       29773\n",
      "...      ...         ...\n",
      "45568  10543           1\n",
      "45569   5222           1\n",
      "45570   2347           1\n",
      "45571  11893           1\n",
      "45572  32074           1\n",
      "\n",
      "[45573 rows x 2 columns]\n"
     ]
    }
   ],
   "source": [
    "# para esta gráfica necesito combinar el df2 que es el que contiene la información del archivo products.csv\n",
    "# y el df5 que contiene la información del archivo order_products.csv por la columna que tiene los datos en común\n",
    "# que es 'product_id' usando 'inner' ya que esto me permite obtener los productos que realmente han sido pedidos por los clientes.\n",
    "\n",
    "prod_pedidos= pd.merge(df5, df2, on= 'product_id', how= 'inner')\n",
    "\n",
    "#Ahora debo contar la frecuencia con la que se solicita cada producto en el nuevo dataframe combinado.\n",
    "top_prod = prod_pedidos['product_id'].value_counts().reset_index()\n",
    "\n",
    "print(top_prod)"
   ]
  },
  {
   "cell_type": "code",
   "execution_count": 106,
   "id": "universal-facial",
   "metadata": {
    "id": "universal-facial"
   },
   "outputs": [
    {
     "name": "stdout",
     "output_type": "stream",
     "text": [
      "    product_id              product_name  total_pedidos\n",
      "0        24852                    BANANA          66050\n",
      "1        13176    BAG OF ORGANIC BANANAS          53297\n",
      "2        21137      ORGANIC STRAWBERRIES          37039\n",
      "3        21903      ORGANIC BABY SPINACH          33971\n",
      "4        47209      ORGANIC HASS AVOCADO          29773\n",
      "5        47766           ORGANIC AVOCADO          24689\n",
      "6        47626               LARGE LEMON          21495\n",
      "7        16797              STRAWBERRIES          20018\n",
      "8        26209                     LIMES          19690\n",
      "9        27845        ORGANIC WHOLE MILK          19600\n",
      "10       27966       ORGANIC RASPBERRIES          19197\n",
      "11       22935      ORGANIC YELLOW ONION          15898\n",
      "12       24964            ORGANIC GARLIC          15292\n",
      "13       45007          ORGANIC ZUCCHINI          14584\n",
      "14       39275       ORGANIC BLUEBERRIES          13879\n",
      "15       49683            CUCUMBER KIRBY          13675\n",
      "16       28204        ORGANIC FUJI APPLE          12544\n",
      "17        5876             ORGANIC LEMON          12232\n",
      "18        8277  APPLE HONEYCRISP ORGANIC          11993\n",
      "19       40706    ORGANIC GRAPE TOMATOES          11781\n"
     ]
    }
   ],
   "source": [
    "# ya que 'top_prod' posee solo estas dos columnas, debo renombrar cada una de modo que se entienda mejor \n",
    "# a que corresponden cada una\n",
    "top_prod.columns = ['product_id', 'total_pedidos']\n",
    "\n",
    "# Luego, puedo volver a unir el df2 a mi dataframe 'top_prod', por medio de la columna 'product_id'\n",
    "# pero esta vez para mostrar el nombre del producto y así identificar más facilmente cuales son\n",
    "# los 20 productos más solicitados.\n",
    "\n",
    "top_prod= pd.merge(top_prod, df2, on='product_id')\n",
    "\n",
    "# Ahora si puedo mostrar las 3 columnas.\n",
    "top_20= top_prod.head(20)[['product_id', 'product_name', 'total_pedidos']]\n",
    "print(top_20)"
   ]
  },
  {
   "cell_type": "markdown",
   "id": "7df00f47",
   "metadata": {
    "id": "7df00f47"
   },
   "source": [
    "Escribe aquí tus conclusiones\n",
    "\n",
    "Los productos más solicitados por los clientes son principalmente frutas y verduras. en especial las Bananas que según los datos han llegado a ser solicitadas hasta en 66.050 pedidos "
   ]
  },
  {
   "cell_type": "markdown",
   "id": "43bc7de3-15e8-472b-a478-976936fbdb28",
   "metadata": {},
   "source": [
    "<div class=\"alert alert-block alert-success\">\n",
    "<b>Comentario del revisor</b> <a class=\"tocSkip\"></a>\n",
    "\n",
    "Se obtuvo correctamente este top 20, te recomendaría una gráfica de barras para comparar mejor el volumen en cada uno de los productos obtenidos\n",
    "</div>"
   ]
  },
  {
   "cell_type": "markdown",
   "id": "gross-theme",
   "metadata": {
    "id": "gross-theme"
   },
   "source": [
    "# [C] Difícil (deben completarse todos para aprobar)\n",
    "\n",
    "1. ¿Cuántos artículos suelen comprar las personas en un pedido? ¿Cómo es la distribución?\n",
    "2. ¿Cuáles son los 20 principales artículos que vuelven a pedirse con mayor frecuencia (muestra sus nombres e IDs de los productos)?\n",
    "3. Para cada producto, ¿cuál es la tasa de repetición del pedido (número de repeticiones de pedido/total de pedidos?\n",
    "4. Para cada cliente, ¿qué proporción de los productos que pidió ya los había pedido? Calcula la tasa de repetición de pedido para cada usuario en lugar de para cada producto.\n",
    "5. ¿Cuáles son los 20 principales artículos que la gente pone primero en sus carritos (muestra las IDs de los productos, sus nombres, y el número de veces en que fueron el primer artículo en añadirse al carrito)?"
   ]
  },
  {
   "cell_type": "markdown",
   "id": "romantic-deposit",
   "metadata": {
    "id": "romantic-deposit"
   },
   "source": [
    "### [C1] ¿Cuántos artículos compran normalmente las personas en un pedido? ¿Cómo es la distribución?"
   ]
  },
  {
   "cell_type": "code",
   "execution_count": 107,
   "id": "virtual-punch",
   "metadata": {
    "id": "virtual-punch"
   },
   "outputs": [
    {
     "name": "stdout",
     "output_type": "stream",
     "text": [
      "Descripción de los artículos por pedido:\n",
      "count    450046.000000\n",
      "mean         10.098983\n",
      "std           7.540206\n",
      "min           1.000000\n",
      "25%           5.000000\n",
      "50%           8.000000\n",
      "75%          14.000000\n",
      "max         127.000000\n",
      "Name: product_id, dtype: float64\n"
     ]
    }
   ],
   "source": [
    "# 1ro voy a calcular el número de artículos por pedido\n",
    "items_por_pedido = df5.groupby('order_id')['product_id'].count()\n",
    "\n",
    "# Podría hacer uso del método .describe() para ver en la tabla resultante como se distribuyen los valores que acabo de agrupar\n",
    "print(\"Descripción de los artículos por pedido:\")\n",
    "print(items_por_pedido.describe())"
   ]
  },
  {
   "cell_type": "code",
   "execution_count": 108,
   "id": "sensitive-breathing",
   "metadata": {
    "id": "sensitive-breathing"
   },
   "outputs": [
    {
     "data": {
      "image/png": "[encoded data removed]",
      "text/plain": [
       "<Figure size 1200x600 with 1 Axes>"
      ]
     },
     "metadata": {},
     "output_type": "display_data"
    }
   ],
   "source": [
    "#Creo un histograma para visualizar mejor la distribución de los datos\n",
    "items_por_pedido.plot(\n",
    "    kind= 'hist',\n",
    "    bins= 50,\n",
    "    figsize=(12,6),\n",
    "    title= 'Distribución de artículos por pedido',\n",
    "    grid= True\n",
    ")\n",
    "plt.xlabel('Número de artículos')\n",
    "plt.ylabel('Frecuencia')\n",
    "plt.show()"
   ]
  },
  {
   "cell_type": "markdown",
   "id": "designed-mortality",
   "metadata": {
    "id": "designed-mortality"
   },
   "source": [
    "Escribe aquí tus conclusiones\n",
    "\n",
    "Según los datos que muestra el método .describe() la media del número de artículos que se solicitan por cada pedido equivale a 10.09 artículos. es decir, pueden haber muchos pedidos que soliciten más o menos que eso, pero la gran mayoría de los clientes suele llevar esa cantidad.\n",
    "adicionalmente, hay casos excepcionales como el cliente que alcanzó el valor máximo, mostrando que hubo alguien que llegó a agregar hasta 127 artículos en una sola compra."
   ]
  },
  {
   "cell_type": "markdown",
   "id": "092bff80-99b9-4866-a720-d74126a29901",
   "metadata": {},
   "source": [
    "<div class=\"alert alert-block alert-success\">\n",
    "<b>Comentario del revisor</b> <a class=\"tocSkip\"></a>\n",
    "\n",
    "Muy bien, este count se realizó correctamente\n",
    "</div>"
   ]
  },
  {
   "cell_type": "markdown",
   "id": "5e6b5537",
   "metadata": {
    "id": "5e6b5537"
   },
   "source": [
    "### [C2] ¿Cuáles son los 20 principales artículos que vuelven a pedirse con mayor frecuencia (muestra sus nombres e IDs de los productos)?"
   ]
  },
  {
   "cell_type": "code",
   "execution_count": 109,
   "id": "9374e55a",
   "metadata": {
    "id": "9374e55a"
   },
   "outputs": [
    {
     "name": "stdout",
     "output_type": "stream",
     "text": [
      "         order_id  product_id  add_to_cart_order  reordered\n",
      "1          567889        1560                  1          1\n",
      "2         2261212       26683                  1          1\n",
      "3          491251        8670                 35          1\n",
      "4         2571142        1940                  5          1\n",
      "5         2456893       21616                  4          1\n",
      "...           ...         ...                ...        ...\n",
      "4544999   1622300       24852                  1          1\n",
      "4545000   1125324       40600                  6          1\n",
      "4545002    577211       15290                 12          1\n",
      "4545004    692640       47766                  4          1\n",
      "4545005    319435         691                  8          1\n",
      "\n",
      "[2683838 rows x 4 columns]\n"
     ]
    }
   ],
   "source": [
    "#Aplico un filtro en df5 para encontrar los productos reordenados\n",
    "prod_reord = df5[df5['reordered']==1]\n",
    "print(prod_reord)"
   ]
  },
  {
   "cell_type": "code",
   "execution_count": 110,
   "id": "possible-change",
   "metadata": {
    "id": "possible-change",
    "scrolled": true
   },
   "outputs": [
    {
     "name": "stdout",
     "output_type": "stream",
     "text": [
      "    index  product_id\n",
      "0   24852       55763\n",
      "1   13176       44450\n",
      "2   21137       28639\n",
      "3   21903       26233\n",
      "4   47209       23629\n",
      "5   47766       18743\n",
      "6   27845       16251\n",
      "7   47626       15044\n",
      "8   27966       14748\n",
      "9   16797       13945\n",
      "10  26209       13327\n",
      "11  22935       11145\n",
      "12  24964       10411\n",
      "13  45007       10076\n",
      "14  49683        9538\n",
      "15  28204        8989\n",
      "16   8277        8836\n",
      "17  39275        8799\n",
      "18   5876        8412\n",
      "19  49235        8389\n"
     ]
    }
   ],
   "source": [
    "# Ahora debo contar los 20 productos más reordenados\n",
    "top_reordenados = prod_reord['product_id'].value_counts().reset_index().head(20)\n",
    "print(top_reordenados)"
   ]
  },
  {
   "cell_type": "code",
   "execution_count": 111,
   "id": "professional-surfing",
   "metadata": {
    "id": "professional-surfing",
    "scrolled": true
   },
   "outputs": [
    {
     "name": "stdout",
     "output_type": "stream",
     "text": [
      "    product_id              product_name  reorder_count\n",
      "0        24852                    BANANA          55763\n",
      "1        13176    BAG OF ORGANIC BANANAS          44450\n",
      "2        21137      ORGANIC STRAWBERRIES          28639\n",
      "3        21903      ORGANIC BABY SPINACH          26233\n",
      "4        47209      ORGANIC HASS AVOCADO          23629\n",
      "5        47766           ORGANIC AVOCADO          18743\n",
      "6        27845        ORGANIC WHOLE MILK          16251\n",
      "7        47626               LARGE LEMON          15044\n",
      "8        27966       ORGANIC RASPBERRIES          14748\n",
      "9        16797              STRAWBERRIES          13945\n",
      "10       26209                     LIMES          13327\n",
      "11       22935      ORGANIC YELLOW ONION          11145\n",
      "12       24964            ORGANIC GARLIC          10411\n",
      "13       45007          ORGANIC ZUCCHINI          10076\n",
      "14       49683            CUCUMBER KIRBY           9538\n",
      "15       28204        ORGANIC FUJI APPLE           8989\n",
      "16        8277  APPLE HONEYCRISP ORGANIC           8836\n",
      "17       39275       ORGANIC BLUEBERRIES           8799\n",
      "18        5876             ORGANIC LEMON           8412\n",
      "19       49235       ORGANIC HALF & HALF           8389\n"
     ]
    }
   ],
   "source": [
    "# Modifico los nombres de las columnas para posteriormente poder mezclar este dataframe con df2 y obtener el nombre al que corresponde cada product_id\n",
    "top_reordenados.columns = ['product_id', 'reorder_count']\n",
    "\n",
    "# Agrego los nombres de los productos usando df2\n",
    "top_reordenados = top_reordenados.merge(df2, on='product_id')\n",
    "\n",
    "#Imprimo los 20 productos más reordenados con su id y el número de veces que fue reordenado.\n",
    "print(top_reordenados[['product_id', 'product_name', 'reorder_count']])"
   ]
  },
  {
   "cell_type": "markdown",
   "id": "80e70c74",
   "metadata": {
    "id": "80e70c74"
   },
   "source": [
    "Escribe aquí tus conclusiones\n",
    "\n",
    "Los resultados muestran que la gran mayoría de clientes suelen reordenar productos orgánicos como fruta y verduras principalmente Bananas"
   ]
  },
  {
   "cell_type": "markdown",
   "id": "a3be79eb-0758-4805-91e6-62d0c31564d9",
   "metadata": {},
   "source": [
    "<div class=\"alert alert-block alert-success\">\n",
    "<b>Comentario del revisor</b> <a class=\"tocSkip\"></a>\n",
    "\n",
    "Aplicaste correctamente el group by sobre el reordered para obtener estos conteos, excelente\n",
    "</div>"
   ]
  },
  {
   "cell_type": "markdown",
   "id": "9d312b14",
   "metadata": {
    "id": "9d312b14"
   },
   "source": [
    "### [C3] Para cada producto, ¿cuál es la proporción de las veces que se pide y que se vuelve a pedir?"
   ]
  },
  {
   "cell_type": "code",
   "execution_count": 112,
   "id": "8ae9f4b1",
   "metadata": {
    "id": "8ae9f4b1"
   },
   "outputs": [],
   "source": [
    "# 1. Calculo el total de pedidos por producto y luego renombro la columna usando un dicionario\n",
    "total_pedidos = df5.groupby('product_id')['reordered'].count().reset_index()\n",
    "total_pedidos = total_pedidos.rename(columns={'reordered': 'total_pedidos'})\n",
    "\n",
    "# 2. Calculo los re-pedidos por producto y luego renombro la columna usando un dicionario\n",
    "reordenados_count = df5[df5['reordered'] == 1].groupby('product_id')['reordered'].count().reset_index()\n",
    "reordenados_count = reordenados_count.rename(columns={'reordered': 'reordenados_count'})"
   ]
  },
  {
   "cell_type": "code",
   "execution_count": 113,
   "id": "103e7fe1",
   "metadata": {
    "id": "103e7fe1"
   },
   "outputs": [],
   "source": [
    "# Calculo directamente usando.agg() ya que este método me permite calcular diferentes estadísticas para diferentes columnas de un dataframe.\n",
    "tasa_reorden = (df5.groupby('product_id').agg(\n",
    "        total_pedidos=('reordered', 'count'),\n",
    "        reordenados_count=('reordered', 'sum')\n",
    "    ).reset_index())\n",
    "\n",
    "#Combino el dataframe tasa_reorden con las columnas que necesito de df2.\n",
    "tasa_reorden= tasa_reorden.merge(df2[['product_id', 'product_name']], on='product_id')"
   ]
  },
  {
   "cell_type": "code",
   "execution_count": 114,
   "id": "social-individual",
   "metadata": {
    "id": "social-individual"
   },
   "outputs": [
    {
     "name": "stdout",
     "output_type": "stream",
     "text": [
      "       product_id                                       product_name  \\\n",
      "13453       14721                            BONE STRENGTH TAKE CARE   \n",
      "19195       20949                           VANILLA SANDWICH COOKIES   \n",
      "6136         6723                                   PALMIERS- PETITE   \n",
      "6144         6732                  NATURALLY SPARKLING MINERAL WATER   \n",
      "41319       45088  CALIFORNIA DILL POLLEN & GARLIC GOAT CHEESE & ...   \n",
      "41310       45078                                       POMEGRANATEA   \n",
      "19258       21016       PARCHMENT LINED 8 IN X 3.75 IN X 2.5 IN PANS   \n",
      "19248       21005                        PEANUT BUTTER PIE ICE CREAM   \n",
      "32273       35192                         CHOCOLATE SOY MILK SINGLES   \n",
      "32277       35197  MOCHA CHOCOLATE CHIP  ORGANIC NON-DAIRY FROZEN...   \n",
      "6211         6810                        RASPBERRY GOJI PALEO PRINTS   \n",
      "41274       45040                                 HEAD LOCK MEGA GEL   \n",
      "41269       45035                               COFFEE FLAVOR YOGURT   \n",
      "25120       27373                                     MEAT LOAF MEAL   \n",
      "28203       30748                           CHEESE & GARLIC CROUTONS   \n",
      "41265       45031                 SUGAR FREE HAZELNUT COFFEE CREAMER   \n",
      "32224       35137  SUPERIOR PREFERENCE FADE-DEFYING COLOR + SHINE...   \n",
      "28202       30747                   DENTOTAPE® UNFLAVORED WAXED TAPE   \n",
      "32304       35228                       MARVELOUS MUFFINS BAKING MIX   \n",
      "32305       35229                             BEAN & CHEESE BURRITOS   \n",
      "\n",
      "       tasa_reorden  \n",
      "13453           1.0  \n",
      "19195           1.0  \n",
      "6136            1.0  \n",
      "6144            1.0  \n",
      "41319           1.0  \n",
      "41310           1.0  \n",
      "19258           1.0  \n",
      "19248           1.0  \n",
      "32273           1.0  \n",
      "32277           1.0  \n",
      "6211            1.0  \n",
      "41274           1.0  \n",
      "41269           1.0  \n",
      "25120           1.0  \n",
      "28203           1.0  \n",
      "41265           1.0  \n",
      "32224           1.0  \n",
      "28202           1.0  \n",
      "32304           1.0  \n",
      "32305           1.0  \n"
     ]
    }
   ],
   "source": [
    "# Calculo la tasa creando una nueva columna en el dataframe 'tasa_reorden' de modo que almacene cada dato calculado\n",
    "tasa_reorden['tasa_reorden'] = tasa_reorden['reordenados_count'] / tasa_reorden['total_pedidos']\n",
    "\n",
    "# Imprimo los primeros 20 resultados con ascending = False porque estoy ordenando los productos por su tasa de reorden de mayor a menor.\n",
    "print(tasa_reorden[['product_id', 'product_name', 'tasa_reorden']].sort_values('tasa_reorden', ascending=False)\n",
    "      .head(20))"
   ]
  },
  {
   "cell_type": "markdown",
   "id": "I10dEIAyldcO",
   "metadata": {
    "id": "I10dEIAyldcO"
   },
   "source": [
    "Escribe aquí tus conclusiones\n",
    "\n",
    "Teniendo en cuenta que estos productos los he organizado por su tasa de reorden, es valido afirmar que todos estos primeros 20 productos, son productos de consumo recurrente, y los clientes los recompran de una forma bastante estable y predecible."
   ]
  },
  {
   "cell_type": "markdown",
   "id": "87545141-afc9-4a1d-b832-60543df9541f",
   "metadata": {},
   "source": [
    "<div class=\"alert alert-block alert-success\">\n",
    "<b>Comentario del revisor</b> <a class=\"tocSkip\"></a>\n",
    "\n",
    "Bien, esta proporción se ha calculado correctamente \n",
    "</div>"
   ]
  },
  {
   "cell_type": "markdown",
   "id": "subject-boxing",
   "metadata": {
    "id": "subject-boxing"
   },
   "source": [
    "### [C4] Para cada cliente, ¿qué proporción de sus productos ya los había pedido?"
   ]
  },
  {
   "cell_type": "code",
   "execution_count": 115,
   "id": "medical-couple",
   "metadata": {
    "id": "medical-couple",
    "scrolled": true
   },
   "outputs": [
    {
     "name": "stdout",
     "output_type": "stream",
     "text": [
      "        user_id  total_productos  reordenados  tasa_reorden\n",
      "0             2               26            1      0.038462\n",
      "1             4                2            0      0.000000\n",
      "2             5               12            8      0.666667\n",
      "3             6                4            0      0.000000\n",
      "4             7               14           13      0.928571\n",
      "...         ...              ...          ...           ...\n",
      "149621   206203               27            6      0.222222\n",
      "149622   206206               21           15      0.714286\n",
      "149623   206207               46           41      0.891304\n",
      "149624   206208              125           87      0.696000\n",
      "149625   206209               25            8      0.320000\n",
      "\n",
      "[149626 rows x 4 columns]\n",
      "\n",
      "count    149626.000000\n",
      "mean          0.494853\n",
      "std           0.292685\n",
      "min           0.000000\n",
      "25%           0.272727\n",
      "50%           0.500000\n",
      "75%           0.724138\n",
      "max           1.000000\n",
      "Name: tasa_reorden, dtype: float64\n"
     ]
    }
   ],
   "source": [
    "# Combino los datos de df1 con el df5 (usuarios con productos)\n",
    "pedidos_usuarios = pd.merge(df1[['order_id', 'user_id']], df5, on='order_id')\n",
    "\n",
    "# Calculo la tasa por usuario\n",
    "tasa_usuario = pedidos_usuarios.groupby('user_id').agg(\n",
    "    total_productos=('reordered', 'count'),\n",
    "    reordenados=('reordered', 'sum')\n",
    ").reset_index()\n",
    "#creo una columna que almacenará los datos del calculo de la tasa\n",
    "tasa_usuario['tasa_reorden'] = tasa_usuario['reordenados'] / tasa_usuario['total_productos']\n",
    "print(tasa_usuario)\n",
    "print()\n",
    "print(tasa_usuario['tasa_reorden'].describe())"
   ]
  },
  {
   "cell_type": "code",
   "execution_count": 116,
   "id": "8892e4b4",
   "metadata": {
    "id": "8892e4b4"
   },
   "outputs": [
    {
     "data": {
      "image/png": "[encoded data removed]",
      "text/plain": [
       "<Figure size 1200x600 with 1 Axes>"
      ]
     },
     "metadata": {},
     "output_type": "display_data"
    }
   ],
   "source": [
    "# Histograma de distribución\n",
    "tasa_usuario['tasa_reorden'].plot(\n",
    "    kind= 'hist',\n",
    "    bins= 20,\n",
    "    figsize=(12, 6),\n",
    "    color= 'green',\n",
    "    title= 'Tasa de re-pedido por cliente',\n",
    "    grid= True   \n",
    ")\n",
    "\n",
    "plt.xlabel('Tasa de re-pedido')\n",
    "plt.ylabel('Número de clientes')\n",
    "plt.show()"
   ]
  },
  {
   "cell_type": "markdown",
   "id": "BgJSvXDsleXz",
   "metadata": {
    "id": "BgJSvXDsleXz"
   },
   "source": [
    "Escribe aquí tus conclusiones\n",
    "\n",
    "El gráfico y los datos que arroja el método .describe() muestran que la gran mayoría de clientes (hasta más de 16.000) no suele realizar recompras por lo cual la tasa de re-pedido es 0. por eso obtenemos el pico más alto de los datos sobre el lado izquierdo del gráfico. \n",
    "En cualquier caso, el promedio de los datos da un valor de 0.49 sobre 1, es decir, que la gran mayoría de clientes su comportamiento indica que la mitad de sus productos son reordenados y la otra mitad son productos nuevos. \n",
    "Y por ultimo, los clientes que llegan a tener una tasa de recompra de 1 que son más de 9.000, muestra que este grupo de clientes solo compran productos que ya han pedido antes, son los clientes más predecibles y que no suelen experimentar con nuevos productos."
   ]
  },
  {
   "cell_type": "markdown",
   "id": "2eed7053-fb53-4559-833a-ba2bb5d73692",
   "metadata": {},
   "source": [
    "<div class=\"alert alert-block alert-success\">\n",
    "<b>Comentario del revisor</b> <a class=\"tocSkip\"></a>\n",
    "\n",
    "Los calculos son correctos, excelentes comentarios\n",
    "</div>"
   ]
  },
  {
   "cell_type": "markdown",
   "id": "92d35137",
   "metadata": {
    "id": "92d35137"
   },
   "source": [
    "### [C5] ¿Cuáles son los 20 principales artículos que las personas ponen primero en sus carritos?"
   ]
  },
  {
   "cell_type": "code",
   "execution_count": 117,
   "id": "0ae57274",
   "metadata": {
    "id": "0ae57274",
    "scrolled": true
   },
   "outputs": [
    {
     "name": "stdout",
     "output_type": "stream",
     "text": [
      "    product_id  num_veces_añadido_primero\n",
      "0        24852                      15562\n",
      "1        13176                      11026\n",
      "2        27845                       4363\n",
      "3        21137                       3946\n",
      "4        47209                       3390\n",
      "5        21903                       3336\n",
      "6        47766                       3044\n",
      "7        19660                       2336\n",
      "8        16797                       2308\n",
      "9        27966                       2024\n",
      "10       44632                       1914\n",
      "11       49235                       1797\n",
      "12       47626                       1737\n",
      "13         196                       1733\n",
      "14       38689                       1397\n",
      "15       26209                       1370\n",
      "16       12341                       1340\n",
      "17        5785                       1310\n",
      "18       27086                       1309\n",
      "19       22935                       1246\n"
     ]
    }
   ],
   "source": [
    "# 1ro creo un filtro para que me muestre los productos que son añadidos primero (posición 1)\n",
    "primeros_prod_añadidos = df5[df5['add_to_cart_order'] == 1]\n",
    "\n",
    "# luego, debo contar la frecuencia\n",
    "top_primeros = primeros_prod_añadidos['product_id'].value_counts().reset_index().head(20)\n",
    "# cambio el nombre a las columnas\n",
    "top_primeros.columns = ['product_id', 'num_veces_añadido_primero']\n",
    "print(top_primeros)"
   ]
  },
  {
   "cell_type": "code",
   "execution_count": 118,
   "id": "forty-netherlands",
   "metadata": {
    "id": "forty-netherlands",
    "scrolled": true
   },
   "outputs": [
    {
     "name": "stdout",
     "output_type": "stream",
     "text": [
      "    product_id                 product_name  num_veces_añadido_primero\n",
      "0        24852                       BANANA                      15562\n",
      "1        13176       BAG OF ORGANIC BANANAS                      11026\n",
      "2        27845           ORGANIC WHOLE MILK                       4363\n",
      "3        21137         ORGANIC STRAWBERRIES                       3946\n",
      "4        47209         ORGANIC HASS AVOCADO                       3390\n",
      "5        21903         ORGANIC BABY SPINACH                       3336\n",
      "6        47766              ORGANIC AVOCADO                       3044\n",
      "7        19660                 SPRING WATER                       2336\n",
      "8        16797                 STRAWBERRIES                       2308\n",
      "9        27966          ORGANIC RASPBERRIES                       2024\n",
      "10       44632   SPARKLING WATER GRAPEFRUIT                       1914\n",
      "11       49235          ORGANIC HALF & HALF                       1797\n",
      "12       47626                  LARGE LEMON                       1737\n",
      "13         196                         SODA                       1733\n",
      "14       38689     ORGANIC REDUCED FAT MILK                       1397\n",
      "15       26209                        LIMES                       1370\n",
      "16       12341                HASS AVOCADOS                       1340\n",
      "17        5785  ORGANIC REDUCED FAT 2% MILK                       1310\n",
      "18       27086                  HALF & HALF                       1309\n",
      "19       22935         ORGANIC YELLOW ONION                       1246\n"
     ]
    }
   ],
   "source": [
    "# Uno este nuevo dataframe (top_primeros) con df2 para agregar los nombres de los productos al dataframe.\n",
    "top_primeros = top_primeros.merge(df2, on='product_id')\n",
    "\n",
    "# Muestro los resultados de las columnas que necesito\n",
    "print(top_primeros[['product_id', 'product_name', 'num_veces_añadido_primero']])"
   ]
  },
  {
   "cell_type": "markdown",
   "id": "28ce9872",
   "metadata": {
    "id": "28ce9872"
   },
   "source": [
    "Escribe aquí tus conclusiones\n",
    "\n",
    "Los productos que la gente en general suele colocar dentro del carrito de compras son los productos de primera necesidad, y que suelen reponerse bastante seguido teniendo en cuenta los resultados anteriores, es decir, productos como Bananas, leche, fresas, aguacate, espinaca, agua y demás hacen parte del grupo de verduras o frutas que la gente más suele consumir"
   ]
  },
  {
   "cell_type": "markdown",
   "id": "a81d82d9-3292-48c0-b19e-db8e391cd860",
   "metadata": {},
   "source": [
    "<div class=\"alert alert-block alert-success\">\n",
    "<b>Comentario del revisor</b> <a class=\"tocSkip\"></a>\n",
    "\n",
    "Muy bien este top es correcto\n",
    "</div>"
   ]
  },
  {
   "cell_type": "markdown",
   "id": "uITbFCEoDosC",
   "metadata": {
    "id": "uITbFCEoDosC"
   },
   "source": [
    "### Conclusion general del proyecto:"
   ]
  },
  {
   "cell_type": "markdown",
   "id": "876d350a-f4ee-462a-97e1-adf910baea08",
   "metadata": {
    "id": "uITbFCEoDosC"
   },
   "source": [
    "\n",
    "A lo largo de este análisis completo de los datos de Instacart, he podido identificar varios patrones de comportamiento de los clientes y características importantes de los productos más solicitados. \n",
    "\n",
    "Estos son los hallazgos más relevantes que he obtenido:\n",
    "\n",
    "1. **Calidad de los datos:**\n",
    "   - En todos los archivos CSV, el separador utilizado fue el punto y coma (;), lo que facilitó la carga correcta de los datos.\n",
    "   - En el dataframe de productos (df2), detecté que los nombres de productos tenían mayúsculas y aproximadamente 1,258 valores ausentes, todos asociados al pasillo 100 y departamento 21. Estos valores nulos fueron reemplazados por 'Unknown' para mantener la integridad de los datos.\n",
    "\n",
    "2. **Duplicados y valores atípicos:**\n",
    "   - En el dataframe de órdenes (df1) encontré 15 registros duplicados que fueron eliminados.\n",
    "   - En el dataframe de productos pedidos (df5), identificé valores nulos en la columna 'add_to_cart_order' (836 registros) que correspondían a pedidos con un solo artículo, los cuales fueron eliminados.\n",
    "\n",
    "3. **Patrones de compra por tiempo:**\n",
    "   - Las horas con mayor actividad de compra son entre las 10:00 y 15:00 horas, mientras que en la madrugada (0:00-5:00) se registra la menor cantidad de pedidos.\n",
    "   - Los domingos y lunes son los días con mayor volumen de pedidos (más de 80,000), mientras que el jueves es el día con menor actividad (alrededor de 60,000 pedidos).\n",
    "   - La mayoría de clientes realiza nuevos pedidos cada 7-10 días, con grupos significativos que compran cada 7 días o cada 30 días.\n",
    "\n",
    "4. **Comparación entre miércoles y sábados:**\n",
    "   - Los sábados tienen mayor volumen de pedidos que los miércoles, especialmente en horas pico (11:00-15:00).\n",
    "   - Los miércoles superan ligeramente a los sábados en horarios específicos como las 6:00-7:00, 9:00-10:00 y 18:00-20:00 horas.\n",
    "\n",
    "5. **Comportamiento de los clientes:**\n",
    "   - La gran mayoría de clientes (más de 50,000) ha realizado solo un pedido, disminuyendo drásticamente este número a medida que aumenta la cantidad de pedidos por cliente.\n",
    "   - Identifiqué tres grupos claros de clientes:\n",
    "     - **Exploradores (+16,000):** Tasa de re-pedido 0 (solo compran productos nuevos)\n",
    "     - **Equilibrados (+12,000):** Tasa de re-pedido 0.5 (la mitad de sus productos son nuevos, y la otra mitad reordenados)\n",
    "     - **Rutinarios (+9,000):** Tasa de re-pedido 1 (solo compran productos conocidos)\n",
    "   - El promedio global de tasa de re-pedido es 0.49, lo que indica que casi la mitad de los productos comprados son reordenaciones.\n",
    "\n",
    "6. **Productos más relevantes:**\n",
    "   - Las frutas y verduras (especialmente bananas) son los productos más solicitados, liderando también en re-pedidos.\n",
    "   - Los productos con mayor tasa de re-pedido (cercana a 1) son bienes de primera necesidad y consumo recurrente.\n",
    "   - Los productos que los clientes añaden primero al carrito son principalmente artículos esenciales como bananas, leche, fresas y aguacates.\n",
    "<!--  -->\n",
    "7. **Estadísticas clave:**\n",
    "   - En promedio, los clientes agregan 10.09 artículos por pedido.\n",
    "   - El pedido más grande registrado contenía 127 artículos.\n",
    "   - Hay casos excepcionales de clientes que realizan pedidos diarios (tasa mínima 0 días entre pedidos) y otros que compran solo mensualmente (30 días entre pedidos).\n",
    "\n",
    "**Reflexión final:**\n",
    "Este análisis me ha permitido entender mejor los patrones de compra en Instacart. Los clientes muestran comportamientos claramente diferenciados que podrían aprovecharse para incrementar sus ventas por medio de estrategias de marketing personalizadas. La predominancia de productos frescos y orgánicos en los top 20 sugiere que estos son clave para la retención de clientes. Además, de que los picos de actividad en domingos/lunes en los horarios diurnos indican momentos críticos para garantizar disponibilidad de productos y capacidad operativa.\n",
    "\n",
    "Los hallazgos obtenidos proporcionan una base sólida para tomar decisiones sobre la gestión del inventario, promociones personalizadas y optimización de recursos en horarios y días de alta demanda."
   ]
  },
  {
   "cell_type": "markdown",
   "id": "0d3eca66-2c69-437e-a0b1-389ffd203008",
   "metadata": {},
   "source": [
    "<div class=\"alert alert-block alert-success\">\n",
    "<b>Comentario del revisor</b> <a class=\"tocSkip\"></a>\n",
    "\n",
    "Buenas conclusiones, basadas en lo realizado a lo largo de todo el proyecto\n",
    "</div>"
   ]
  },
  {
   "cell_type": "markdown",
   "id": "d79ca2b5-f455-473c-af14-4e87d72a5b77",
   "metadata": {},
   "source": [
    "<div class=\"alert alert-block alert-success\">\n",
    "<b>Comentario del revisor</b> <a class=\"tocSkip\"></a>\n",
    "\n",
    "Hola, Sergio\n",
    "\n",
    "Te quiero felicitar por tu proyecto, está bastante completo y bien realizado. Me gustó especialmente el tratamiento y limpieza de los datos, lo realizaste muy bien y bastante completo.\n",
    "\n",
    "Te deseo mucho éxito en los siguientes sprints.\n",
    "\n",
    "Saludos, Marcos\n",
    "</div>"
   ]
  },
  {
   "cell_type": "code",
   "execution_count": null,
   "id": "86637079-9743-43f6-8eee-c7b7718bb7ee",
   "metadata": {},
   "outputs": [],
   "source": []
  }
 ],
 "metadata": {
  "colab": {
   "provenance": [
    {
     "file_id": "1aLGZ19-GYem3LZdYHuzuwYIeSw_tr0AT",
     "timestamp": 1689682143157
    }
   ]
  },
  "kernelspec": {
   "display_name": "Python 3 (ipykernel)",
   "language": "python",
   "name": "python3"
  },
  "language_info": {
   "codemirror_mode": {
    "name": "ipython",
    "version": 3
   },
   "file_extension": ".py",
   "mimetype": "text/x-python",
   "name": "python",
   "nbconvert_exporter": "python",
   "pygments_lexer": "ipython3",
   "version": "3.9.22"
  },
  "vscode": {
   "interpreter": {
    "hash": "01a7be9ec63e704a62cefc5fe7a4756944464ee731be31632bdf42a4cb4688cf"
   }
  }
 },
 "nbformat": 4,
 "nbformat_minor": 5
}
