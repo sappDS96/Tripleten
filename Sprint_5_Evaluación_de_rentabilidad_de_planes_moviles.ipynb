{
 "cells": [
  {
   "cell_type": "markdown",
   "metadata": {},
   "source": [
    "\n",
    "¡Hola, Sergio!\n",
    "\n",
    "Mi nombre es Tonatiuh Cruz. Me complace revisar tu proyecto hoy.\n",
    "\n",
    "Al identificar cualquier error inicialmente, simplemente los destacaré. Te animo a localizar y abordar los problemas de forma independiente como parte de tu preparación para un rol como data-scientist. En un entorno profesional, tu líder de equipo seguiría un enfoque similar. Si encuentras la tarea desafiante, proporcionaré una pista más específica en la próxima iteración.\n",
    "\n",
    "Encontrarás mis comentarios a continuación - **por favor no los muevas, modifiques o elimines**.\n",
    "\n",
    "Puedes encontrar mis comentarios en cajas verdes, amarillas o rojas como esta:\n",
    "\n",
    "<div class=\"alert alert-block alert-success\">\n",
    "<b>Comentario del revisor</b> <a class=\"tocSkip\"></a>\n",
    "\n",
    "Éxito. Todo está hecho correctamente.\n",
    "</div>\n",
    "\n",
    "<div class=\"alert alert-block alert-warning\">\n",
    "<b>Comentario del revisor</b> <a class=\"tocSkip\"></a>\n",
    "\n",
    "Observaciones. Algunas recomendaciones.\n",
    "</div>\n",
    "\n",
    "<div class=\"alert alert-block alert-danger\">\n",
    "<b>Comentario del revisor</b> <a class=\"tocSkip\"></a>\n",
    "\n",
    "Necesita corrección. El bloque requiere algunas correcciones. El trabajo no puede ser aceptado con comentarios en rojo.\n",
    "</div>\n",
    "\n",
    "Puedes responderme utilizando esto:\n",
    "\n",
    "<div class=\"alert alert-block alert-info\">\n",
    "<b>Respuesta del estudiante.</b> <a class=\"tocSkip\"></a>\n"
   ]
  },
  {
   "cell_type": "markdown",
   "metadata": {
    "id": "3rYiDeEH0q0f"
   },
   "source": [
    "<div class=\"alert alert-block alert-info\">\n",
    "<b>Hola Tonatiuh, gracias por la revisión y por tus comentarios, tendré en cuenta esos consejos para futuras ocasiones, y debo decir,que ya he completado lo que hacia falta en el proyecto.\n",
    "\n",
    "Un saludo, y quedo atento a cualquier comentario.</b> <a class=\"tocSkip\"></a>\n"
   ]
  },
  {
   "cell_type": "markdown",
   "metadata": {
    "id": "3rYiDeEH0q0f"
   },
   "source": [
    "# ¿Cuál es la mejor tarifa?\n",
    "\n",
    "Trabajas como analista para el operador de telecomunicaciones Megaline. La empresa ofrece a sus clientes dos tarifas de prepago, Surf y Ultimate. El departamento comercial quiere saber cuál de las tarifas genera más ingresos para poder ajustar el presupuesto de publicidad.\n",
    "\n",
    "Vas a realizar un análisis preliminar de las tarifas basado en una selección de clientes relativamente pequeña. Tendrás los datos de 500 clientes de Megaline: quiénes son los clientes, de dónde son, qué tarifa usan, así como la cantidad de llamadas que hicieron y los mensajes de texto que enviaron en 2018. Tu trabajo es analizar el comportamiento de los clientes y determinar qué tarifa de prepago genera más ingresos."
   ]
  },
  {
   "cell_type": "markdown",
   "metadata": {
    "id": "VNddPNRQ0q0w"
   },
   "source": [
    "[Te proporcionamos algunos comentarios para orientarte mientras completas este proyecto. Pero debes asegurarte de eliminar todos los comentarios entre corchetes antes de entregar tu proyecto.]\n",
    "\n",
    "[Antes de sumergirte en el análisis de datos, explica por tu propia cuenta el propósito del proyecto y las acciones que planeas realizar.]\n",
    "\n",
    "[Ten en cuenta que estudiar, modificar y analizar datos es un proceso iterativo. Es normal volver a los pasos anteriores y corregirlos/ampliarlos para permitir nuevos pasos.]"
   ]
  },
  {
   "cell_type": "markdown",
   "metadata": {
    "id": "MQi4IPy70q0y"
   },
   "source": [
    "## Inicialización"
   ]
  },
  {
   "cell_type": "code",
   "execution_count": 4,
   "metadata": {
    "id": "MtYIuBxu0q0z"
   },
   "outputs": [],
   "source": [
    "# Cargar todas las librerías\n",
    "import pandas as pd\n",
    "import matplotlib.pyplot as plt\n",
    "import numpy as np\n",
    "from scipy import stats as st\n",
    "from scipy.stats import ttest_ind\n",
    "import seaborn as sns\n",
    "import math\n"
   ]
  },
  {
   "cell_type": "markdown",
   "metadata": {},
   "source": [
    "<div class=\"alert alert-block alert-warning\">\n",
    "<b>Comentario revisor</b> <a class=\"tocSkip\"></a>\n",
    "\n",
    "\n",
    "Recomiendo cargar la libreria math. De esta manera, puedes realizar redondeos con otros métodos. \n",
    "</div>"
   ]
  },
  {
   "cell_type": "markdown",
   "metadata": {},
   "source": [
    "<div class=\"alert alert-block alert-info\">\n",
    "<b>Librería importada</b> <a class=\"tocSkip\"></a>\n"
   ]
  },
  {
   "cell_type": "markdown",
   "metadata": {},
   "source": [
    "\n",
    "<div class=\"alert alert-block alert-success\">\n",
    "<b>Comentario del revisor</b> <a class=\"tocSkip\"></a>\n",
    "\n",
    "Gran trabajo con el ajuste!"
   ]
  },
  {
   "cell_type": "markdown",
   "metadata": {
    "id": "4ysWWC5i0q00"
   },
   "source": [
    "## Cargar datos"
   ]
  },
  {
   "cell_type": "code",
   "execution_count": 5,
   "metadata": {
    "id": "CCqPW7rS0q01"
   },
   "outputs": [],
   "source": [
    "# Carga los archivos de datos en diferentes DataFrames\n",
    "\n",
    "# Tabla CALLS\n",
    "df_calls = pd.read_csv('/datasets/megaline_calls.csv')\n",
    "# Tabla INTERNET\n",
    "df_net = pd.read_csv('/datasets/megaline_internet.csv')\n",
    "# Tabla MESSAGES\n",
    "df_msg = pd.read_csv('/datasets/megaline_messages.csv')\n",
    "# Tabla PlANS\n",
    "df_plans = pd.read_csv('/datasets/megaline_plans.csv')\n",
    "# Tabla USERS\n",
    "df_users = pd.read_csv('/datasets/megaline_users.csv')"
   ]
  },
  {
   "cell_type": "markdown",
   "metadata": {
    "id": "69qqoJ3r0q01"
   },
   "source": [
    "## Preparar los datos"
   ]
  },
  {
   "cell_type": "markdown",
   "metadata": {
    "id": "vUuZw80S0q01"
   },
   "source": [
    "[Los datos para este proyecto se dividen en varias tablas. Explora cada una para tener una comprensión inicial de los datos. Si es necesario, haz las correcciones requeridas en cada tabla.]"
   ]
  },
  {
   "cell_type": "markdown",
   "metadata": {
    "id": "ohBhimvH0q01"
   },
   "source": [
    "## Tarifas"
   ]
  },
  {
   "cell_type": "code",
   "execution_count": 6,
   "metadata": {
    "id": "GptqP3Q40q02"
   },
   "outputs": [
    {
     "name": "stdout",
     "output_type": "stream",
     "text": [
      "TABLA CALLS\n",
      "<class 'pandas.core.frame.DataFrame'>\n",
      "RangeIndex: 137735 entries, 0 to 137734\n",
      "Data columns (total 4 columns):\n",
      " #   Column     Non-Null Count   Dtype  \n",
      "---  ------     --------------   -----  \n",
      " 0   id         137735 non-null  object \n",
      " 1   user_id    137735 non-null  int64  \n",
      " 2   call_date  137735 non-null  object \n",
      " 3   duration   137735 non-null  float64\n",
      "dtypes: float64(1), int64(1), object(2)\n",
      "memory usage: 4.2+ MB\n",
      "\n",
      "         id  user_id   call_date  duration\n",
      "0   1000_93     1000  2018-12-27      8.52\n",
      "1  1000_145     1000  2018-12-27     13.66\n",
      "2  1000_247     1000  2018-12-27     14.48\n",
      "3  1000_309     1000  2018-12-28      5.76\n",
      "4  1000_380     1000  2018-12-30      4.22\n",
      "\n",
      "TABLA INTERNET\n",
      "<class 'pandas.core.frame.DataFrame'>\n",
      "RangeIndex: 104825 entries, 0 to 104824\n",
      "Data columns (total 4 columns):\n",
      " #   Column        Non-Null Count   Dtype  \n",
      "---  ------        --------------   -----  \n",
      " 0   id            104825 non-null  object \n",
      " 1   user_id       104825 non-null  int64  \n",
      " 2   session_date  104825 non-null  object \n",
      " 3   mb_used       104825 non-null  float64\n",
      "dtypes: float64(1), int64(1), object(2)\n",
      "memory usage: 3.2+ MB\n",
      "\n",
      "         id  user_id session_date  mb_used\n",
      "0   1000_13     1000   2018-12-29    89.86\n",
      "1  1000_204     1000   2018-12-31     0.00\n",
      "2  1000_379     1000   2018-12-28   660.40\n",
      "3  1000_413     1000   2018-12-26   270.99\n",
      "4  1000_442     1000   2018-12-27   880.22\n",
      "\n",
      "TABLA MESSAGES\n",
      "<class 'pandas.core.frame.DataFrame'>\n",
      "RangeIndex: 76051 entries, 0 to 76050\n",
      "Data columns (total 3 columns):\n",
      " #   Column        Non-Null Count  Dtype \n",
      "---  ------        --------------  ----- \n",
      " 0   id            76051 non-null  object\n",
      " 1   user_id       76051 non-null  int64 \n",
      " 2   message_date  76051 non-null  object\n",
      "dtypes: int64(1), object(2)\n",
      "memory usage: 1.7+ MB\n",
      "\n",
      "         id  user_id message_date\n",
      "0  1000_125     1000   2018-12-27\n",
      "1  1000_160     1000   2018-12-31\n",
      "2  1000_223     1000   2018-12-31\n",
      "3  1000_251     1000   2018-12-27\n",
      "4  1000_255     1000   2018-12-26\n",
      "\n",
      "TABLA PLANS\n",
      "<class 'pandas.core.frame.DataFrame'>\n",
      "RangeIndex: 2 entries, 0 to 1\n",
      "Data columns (total 8 columns):\n",
      " #   Column                 Non-Null Count  Dtype  \n",
      "---  ------                 --------------  -----  \n",
      " 0   messages_included      2 non-null      int64  \n",
      " 1   mb_per_month_included  2 non-null      int64  \n",
      " 2   minutes_included       2 non-null      int64  \n",
      " 3   usd_monthly_pay        2 non-null      int64  \n",
      " 4   usd_per_gb             2 non-null      int64  \n",
      " 5   usd_per_message        2 non-null      float64\n",
      " 6   usd_per_minute         2 non-null      float64\n",
      " 7   plan_name              2 non-null      object \n",
      "dtypes: float64(2), int64(5), object(1)\n",
      "memory usage: 256.0+ bytes\n",
      "\n",
      "   messages_included  mb_per_month_included  minutes_included  \\\n",
      "0                 50                  15360               500   \n",
      "1               1000                  30720              3000   \n",
      "\n",
      "   usd_monthly_pay  usd_per_gb  usd_per_message  usd_per_minute plan_name  \n",
      "0               20          10             0.03            0.03      surf  \n",
      "1               70           7             0.01            0.01  ultimate  \n",
      "\n",
      "TABLA USERS\n",
      "<class 'pandas.core.frame.DataFrame'>\n",
      "RangeIndex: 500 entries, 0 to 499\n",
      "Data columns (total 8 columns):\n",
      " #   Column      Non-Null Count  Dtype \n",
      "---  ------      --------------  ----- \n",
      " 0   user_id     500 non-null    int64 \n",
      " 1   first_name  500 non-null    object\n",
      " 2   last_name   500 non-null    object\n",
      " 3   age         500 non-null    int64 \n",
      " 4   city        500 non-null    object\n",
      " 5   reg_date    500 non-null    object\n",
      " 6   plan        500 non-null    object\n",
      " 7   churn_date  34 non-null     object\n",
      "dtypes: int64(2), object(6)\n",
      "memory usage: 31.4+ KB\n",
      "\n",
      "   user_id first_name  last_name  age                                   city  \\\n",
      "0     1000   Anamaria      Bauer   45  Atlanta-Sandy Springs-Roswell, GA MSA   \n",
      "1     1001     Mickey  Wilkerson   28        Seattle-Tacoma-Bellevue, WA MSA   \n",
      "2     1002     Carlee    Hoffman   36   Las Vegas-Henderson-Paradise, NV MSA   \n",
      "3     1003   Reynaldo    Jenkins   52                          Tulsa, OK MSA   \n",
      "4     1004    Leonila   Thompson   40        Seattle-Tacoma-Bellevue, WA MSA   \n",
      "\n",
      "     reg_date      plan churn_date  \n",
      "0  2018-12-24  ultimate        NaN  \n",
      "1  2018-08-13      surf        NaN  \n",
      "2  2018-10-21      surf        NaN  \n",
      "3  2018-01-28      surf        NaN  \n",
      "4  2018-05-23      surf        NaN  \n"
     ]
    }
   ],
   "source": [
    "# Imprime la información general/resumida sobre el DataFrame de las tarifas\n",
    "\n",
    "print('TABLA CALLS')\n",
    "df_calls.info()\n",
    "print()\n",
    "print(df_calls.head())\n",
    "print()\n",
    "\n",
    "print('TABLA INTERNET')\n",
    "df_net.info() \n",
    "print()\n",
    "print(df_net.head())\n",
    "print()\n",
    "\n",
    "print('TABLA MESSAGES')\n",
    "df_msg.info() \n",
    "print()\n",
    "print(df_msg.head())\n",
    "print()\n",
    "\n",
    "print('TABLA PLANS')\n",
    "df_plans.info() \n",
    "print()\n",
    "print(df_plans.head())\n",
    "print()\n",
    "\n",
    "print('TABLA USERS')\n",
    "df_users.info() \n",
    "print()\n",
    "print(df_users.head())"
   ]
  },
  {
   "cell_type": "code",
   "execution_count": 7,
   "metadata": {
    "id": "64xzjwL70q02"
   },
   "outputs": [
    {
     "name": "stdout",
     "output_type": "stream",
     "text": [
      "   messages_included  mb_per_month_included  minutes_included  \\\n",
      "0                 50                  15360               500   \n",
      "1               1000                  30720              3000   \n",
      "\n",
      "   usd_monthly_pay  usd_per_gb  usd_per_message  usd_per_minute plan_name  \n",
      "0               20          10             0.03            0.03      surf  \n",
      "1               70           7             0.01            0.01  ultimate  \n"
     ]
    }
   ],
   "source": [
    "# Imprime una muestra de los datos para las tarifas\n",
    "print(df_plans)\n"
   ]
  },
  {
   "cell_type": "markdown",
   "metadata": {
    "id": "mEc_3_hs0q02"
   },
   "source": [
    "[Describe lo que ves y observas en la información general y en la muestra de datos impresa para el precio de datos anterior. ¿Hay algún problema (tipos de datos no adecuados, datos ausentes, etc.) que pudieran necesitar investigación y cambios adicionales? ¿Cómo se puede arreglar?]\n",
    "\n",
    "Despues de revisar todos los dataframes noté 2 cosas, primero, que en todos los dataframes salvo el de \"plans\" tienen columnas con fechas que python está interpretando como tipo de dato \"object\" las cuales valdría la pena convertir a datetime, con el objetivo de examinar los habitos de consumo de los usuarios a nivel mensual, semanal o inclusio diario. \n",
    "Por otro lado, en el df_users la columna churn_date contiene solo 34 valores no nulos, es decir, solo hay 34 datos registrados de usuarios que cancelaron su servicio con la empresa Megaline. estos valores ausentes NaN, no necesariamente son errores, pero igual esta columna se puede convertir a datetime, para estimar el tiempo que estuvieron suscritos antes de cancelar, que tipo de plan habian escogido y si hay relación entre el uso del servicio y la baja."
   ]
  },
  {
   "cell_type": "markdown",
   "metadata": {
    "collapsed": false,
    "id": "R3C05i1l0q03",
    "jupyter": {
     "outputs_hidden": false
    }
   },
   "source": [
    "## Corregir datos"
   ]
  },
  {
   "cell_type": "markdown",
   "metadata": {
    "id": "bIi8StZI0q03"
   },
   "source": [
    "[Corrige los problemas obvios con los datos basándote en las observaciones iniciales.]"
   ]
  },
  {
   "cell_type": "code",
   "execution_count": 8,
   "metadata": {
    "id": "Y7SVmjGn0q03"
   },
   "outputs": [
    {
     "name": "stdout",
     "output_type": "stream",
     "text": [
      "<class 'pandas.core.frame.DataFrame'>\n",
      "RangeIndex: 137735 entries, 0 to 137734\n",
      "Data columns (total 4 columns):\n",
      " #   Column     Non-Null Count   Dtype         \n",
      "---  ------     --------------   -----         \n",
      " 0   id         137735 non-null  object        \n",
      " 1   user_id    137735 non-null  int64         \n",
      " 2   call_date  137735 non-null  datetime64[ns]\n",
      " 3   duration   137735 non-null  float64       \n",
      "dtypes: datetime64[ns](1), float64(1), int64(1), object(1)\n",
      "memory usage: 4.2+ MB\n",
      "\n",
      "<class 'pandas.core.frame.DataFrame'>\n",
      "RangeIndex: 104825 entries, 0 to 104824\n",
      "Data columns (total 4 columns):\n",
      " #   Column        Non-Null Count   Dtype         \n",
      "---  ------        --------------   -----         \n",
      " 0   id            104825 non-null  object        \n",
      " 1   user_id       104825 non-null  int64         \n",
      " 2   session_date  104825 non-null  datetime64[ns]\n",
      " 3   mb_used       104825 non-null  float64       \n",
      "dtypes: datetime64[ns](1), float64(1), int64(1), object(1)\n",
      "memory usage: 3.2+ MB\n",
      "\n",
      "<class 'pandas.core.frame.DataFrame'>\n",
      "RangeIndex: 76051 entries, 0 to 76050\n",
      "Data columns (total 3 columns):\n",
      " #   Column        Non-Null Count  Dtype         \n",
      "---  ------        --------------  -----         \n",
      " 0   id            76051 non-null  object        \n",
      " 1   user_id       76051 non-null  int64         \n",
      " 2   message_date  76051 non-null  datetime64[ns]\n",
      "dtypes: datetime64[ns](1), int64(1), object(1)\n",
      "memory usage: 1.7+ MB\n",
      "\n",
      "<class 'pandas.core.frame.DataFrame'>\n",
      "RangeIndex: 500 entries, 0 to 499\n",
      "Data columns (total 8 columns):\n",
      " #   Column      Non-Null Count  Dtype         \n",
      "---  ------      --------------  -----         \n",
      " 0   user_id     500 non-null    int64         \n",
      " 1   first_name  500 non-null    object        \n",
      " 2   last_name   500 non-null    object        \n",
      " 3   age         500 non-null    int64         \n",
      " 4   city        500 non-null    object        \n",
      " 5   reg_date    500 non-null    datetime64[ns]\n",
      " 6   plan        500 non-null    object        \n",
      " 7   churn_date  34 non-null     datetime64[ns]\n",
      "dtypes: datetime64[ns](2), int64(2), object(4)\n",
      "memory usage: 31.4+ KB\n"
     ]
    }
   ],
   "source": [
    "df_calls['call_date']= pd.to_datetime(df_calls['call_date'], format='%Y-%m-%d')\n",
    "\n",
    "df_net['session_date']= pd.to_datetime(df_net['session_date'], format='%Y-%m-%d')\n",
    "\n",
    "df_msg['message_date']= pd.to_datetime(df_msg['message_date'], format='%Y-%m-%d')\n",
    "\n",
    "df_users['reg_date']= pd.to_datetime(df_users['reg_date'], format='%Y-%m-%d')\n",
    "df_users['churn_date']=pd.to_datetime(df_users['churn_date'], format='%Y-%m-%d')\n",
    "\n",
    "df_calls.info()\n",
    "print()\n",
    "df_net.info()\n",
    "print()\n",
    "df_msg.info()\n",
    "print()\n",
    "df_users.info()"
   ]
  },
  {
   "cell_type": "markdown",
   "metadata": {},
   "source": [
    "<div class=\"alert alert-block alert-warning\">\n",
    "<b>Comentario Revisor</b> <a class=\"tocSkip\"></a>\n",
    "\n",
    "En todos los casos en los que cambiamos el tipo de variable a datetime, te recomiendo agregar el argumento \"format='%Y-%m-%d'\" dentro de la función to_datetime(). De esta manera, puedes asegurarte siempre de que el formato de la fecha que deseas cambiar sea el que necesitas.\n",
    "</div>"
   ]
  },
  {
   "cell_type": "markdown",
   "metadata": {},
   "source": [
    "<div class=\"alert alert-block alert-info\">\n",
    "<b> Cambios realizados</b> <a class=\"tocSkip\"></a>\n",
    "\n",
    "He agregado el argumento format en la transfromación de los datos\n",
    "</div>"
   ]
  },
  {
   "cell_type": "markdown",
   "metadata": {},
   "source": [
    "\n",
    "<div class=\"alert alert-block alert-success\">\n",
    "<b>Comentario del revisor</b> <a class=\"tocSkip\"></a>\n",
    "\n",
    "Gran trabajo con el ajuste!"
   ]
  },
  {
   "cell_type": "markdown",
   "metadata": {
    "id": "LJir7bml0q03"
   },
   "source": [
    "## Enriquecer los datos"
   ]
  },
  {
   "cell_type": "markdown",
   "metadata": {
    "id": "eqADpCfg0q04"
   },
   "source": [
    "[Agrega factores adicionales a los datos si crees que pudieran ser útiles.]"
   ]
  },
  {
   "cell_type": "code",
   "execution_count": null,
   "metadata": {
    "id": "gfcIEuXV0q04"
   },
   "outputs": [],
   "source": []
  },
  {
   "cell_type": "markdown",
   "metadata": {
    "id": "1n2X6WXf0q04"
   },
   "source": [
    "## Usuarios/as"
   ]
  },
  {
   "cell_type": "code",
   "execution_count": 9,
   "metadata": {
    "id": "2NgjWFqx0q05"
   },
   "outputs": [
    {
     "name": "stdout",
     "output_type": "stream",
     "text": [
      "<class 'pandas.core.frame.DataFrame'>\n",
      "RangeIndex: 500 entries, 0 to 499\n",
      "Data columns (total 8 columns):\n",
      " #   Column      Non-Null Count  Dtype         \n",
      "---  ------      --------------  -----         \n",
      " 0   user_id     500 non-null    int64         \n",
      " 1   first_name  500 non-null    object        \n",
      " 2   last_name   500 non-null    object        \n",
      " 3   age         500 non-null    int64         \n",
      " 4   city        500 non-null    object        \n",
      " 5   reg_date    500 non-null    datetime64[ns]\n",
      " 6   plan        500 non-null    object        \n",
      " 7   churn_date  34 non-null     datetime64[ns]\n",
      "dtypes: datetime64[ns](2), int64(2), object(4)\n",
      "memory usage: 31.4+ KB\n"
     ]
    }
   ],
   "source": [
    "# Imprime la información general/resumida sobre el DataFrame de usuarios\n",
    "\n",
    "df_users.info()"
   ]
  },
  {
   "cell_type": "code",
   "execution_count": 10,
   "metadata": {
    "id": "1IN1L9uh0q05"
   },
   "outputs": [
    {
     "name": "stdout",
     "output_type": "stream",
     "text": [
      "   user_id first_name  last_name  age                                    city  \\\n",
      "0     1000   Anamaria      Bauer   45   Atlanta-Sandy Springs-Roswell, GA MSA   \n",
      "1     1001     Mickey  Wilkerson   28         Seattle-Tacoma-Bellevue, WA MSA   \n",
      "2     1002     Carlee    Hoffman   36    Las Vegas-Henderson-Paradise, NV MSA   \n",
      "3     1003   Reynaldo    Jenkins   52                           Tulsa, OK MSA   \n",
      "4     1004    Leonila   Thompson   40         Seattle-Tacoma-Bellevue, WA MSA   \n",
      "5     1005      Livia    Shields   31     Dallas-Fort Worth-Arlington, TX MSA   \n",
      "6     1006     Jesusa   Bradford   73  San Francisco-Oakland-Berkeley, CA MSA   \n",
      "7     1007    Eusebio      Welch   42           Grand Rapids-Kentwood, MI MSA   \n",
      "8     1008      Emely    Hoffman   53       Orlando-Kissimmee-Sanford, FL MSA   \n",
      "9     1009      Gerry     Little   19  San Jose-Sunnyvale-Santa Clara, CA MSA   \n",
      "\n",
      "    reg_date      plan churn_date  \n",
      "0 2018-12-24  ultimate        NaT  \n",
      "1 2018-08-13      surf        NaT  \n",
      "2 2018-10-21      surf        NaT  \n",
      "3 2018-01-28      surf        NaT  \n",
      "4 2018-05-23      surf        NaT  \n",
      "5 2018-11-29      surf        NaT  \n",
      "6 2018-11-27  ultimate 2018-12-18  \n",
      "7 2018-07-11      surf        NaT  \n",
      "8 2018-08-03  ultimate        NaT  \n",
      "9 2018-04-22      surf        NaT  \n"
     ]
    }
   ],
   "source": [
    "# Imprime una muestra de datos para usuarios\n",
    "\n",
    "print(df_users.head(10))"
   ]
  },
  {
   "cell_type": "markdown",
   "metadata": {
    "id": "dCZoUq4f0q06"
   },
   "source": [
    "[Describe lo que ves y observas en la información general y en la muestra de datos impresa para el precio de datos anterior. ¿Hay algún problema (tipos de datos no adecuados, datos ausentes, etc.) que pudieran necesitar investigación y cambios adicionales? ¿Cómo se puede arreglar?]\n",
    "\n",
    "Despues de revisar detenidamente los datos del dataframe Users se ve que los nombres, apellidos y nombres de las ciudades están usando una capitalización en la primera letra, lo cual no necesariamente representa un problema o un error, sin embargo en la columna ciudad  al final pone en Mayusculas el estado al cual pertenece cada usuario, y esta característica si podría ser util para analizar más a fondo los datos determinando cuantos ingresos o terminaciones de contrato hay presentes por estado, por lo cual valdría la pena separar los datos de esta columna, crear una columna adicional y que contenga exclusivamente los estados.\n",
    "\n",
    "También es cierto que contiene valores ausentes NaN, pero como mencioné antes, estos valores, no necesariamente son errores, al contrario están brindando una información importante de que el usuario sigue activo hasta la fecha.\n",
    "tal vez valdría la pena revisar si hay duplicados en la tabla y en caso de que sí eliminarlos."
   ]
  },
  {
   "cell_type": "markdown",
   "metadata": {
    "id": "BX5FQh_I0q06"
   },
   "source": [
    "### Corregir los datos"
   ]
  },
  {
   "cell_type": "markdown",
   "metadata": {
    "id": "8OdKMwJv0q06"
   },
   "source": [
    "[Corrige los problemas obvios con los datos basándote en las observaciones iniciales.]"
   ]
  },
  {
   "cell_type": "code",
   "execution_count": 11,
   "metadata": {
    "id": "yUqX-K0C0q07"
   },
   "outputs": [
    {
     "name": "stdout",
     "output_type": "stream",
     "text": [
      "El total de valores duplicados es: 0\n",
      "El total de valores ausentes es: user_id         0\n",
      "first_name      0\n",
      "last_name       0\n",
      "age             0\n",
      "city            0\n",
      "reg_date        0\n",
      "plan            0\n",
      "churn_date    466\n",
      "dtype: int64\n",
      "   user_id first_name  last_name  age   reg_date      plan churn_date  \\\n",
      "0     1000   Anamaria      Bauer   45 2018-12-24  ultimate        NaT   \n",
      "1     1001     Mickey  Wilkerson   28 2018-08-13      surf        NaT   \n",
      "2     1002     Carlee    Hoffman   36 2018-10-21      surf        NaT   \n",
      "3     1003   Reynaldo    Jenkins   52 2018-01-28      surf        NaT   \n",
      "4     1004    Leonila   Thompson   40 2018-05-23      surf        NaT   \n",
      "\n",
      "                     region/city   state  \n",
      "0  Atlanta-Sandy Springs-Roswell  GA MSA  \n",
      "1        Seattle-Tacoma-Bellevue  WA MSA  \n",
      "2   Las Vegas-Henderson-Paradise  NV MSA  \n",
      "3                          Tulsa  OK MSA  \n",
      "4        Seattle-Tacoma-Bellevue  WA MSA  \n"
     ]
    }
   ],
   "source": [
    "print('El total de valores duplicados es:',df_users['user_id'].duplicated().sum())\n",
    "print('El total de valores ausentes es:',df_users.isna().sum())\n",
    "\n",
    "#Creo 2 columnas una que se llamará \"region/city\" y otra que se llamará \"state\" a partir de la columna city\n",
    "df_users['region/city']= df_users['city'].str.split(', ').str[0]\n",
    "df_users['state']= df_users['city'].str.split(', ').str[1]\n",
    "# Elimino la columna city inicial\n",
    "df_users=df_users.drop('city', axis=1)\n",
    "print(df_users.head())"
   ]
  },
  {
   "cell_type": "markdown",
   "metadata": {
    "id": "ycwuARJp0q07"
   },
   "source": [
    "### Enriquecer los datos"
   ]
  },
  {
   "cell_type": "markdown",
   "metadata": {
    "id": "96NIh4CJ0q08"
   },
   "source": [
    "[Agrega factores adicionales a los datos si crees que pudieran ser útiles.]"
   ]
  },
  {
   "cell_type": "code",
   "execution_count": 9,
   "metadata": {
    "id": "iq0AaBS90q08"
   },
   "outputs": [],
   "source": [
    "#Honestamente no se me ocurre nada más para agregarle a este dataframe"
   ]
  },
  {
   "cell_type": "markdown",
   "metadata": {
    "id": "o7MeKCid0q08"
   },
   "source": [
    "## Llamadas"
   ]
  },
  {
   "cell_type": "code",
   "execution_count": 12,
   "metadata": {
    "id": "6dDlnoDm0q08"
   },
   "outputs": [
    {
     "name": "stdout",
     "output_type": "stream",
     "text": [
      "<class 'pandas.core.frame.DataFrame'>\n",
      "RangeIndex: 137735 entries, 0 to 137734\n",
      "Data columns (total 4 columns):\n",
      " #   Column     Non-Null Count   Dtype         \n",
      "---  ------     --------------   -----         \n",
      " 0   id         137735 non-null  object        \n",
      " 1   user_id    137735 non-null  int64         \n",
      " 2   call_date  137735 non-null  datetime64[ns]\n",
      " 3   duration   137735 non-null  float64       \n",
      "dtypes: datetime64[ns](1), float64(1), int64(1), object(1)\n",
      "memory usage: 4.2+ MB\n",
      "\n"
     ]
    }
   ],
   "source": [
    "# Imprime la información general/resumida sobre el DataFrame de las llamadas\n",
    "\n",
    "df_calls.info()\n",
    "print()"
   ]
  },
  {
   "cell_type": "code",
   "execution_count": 11,
   "metadata": {
    "id": "kuh1vlNB0q09"
   },
   "outputs": [
    {
     "name": "stdout",
     "output_type": "stream",
     "text": [
      "         id  user_id  call_date  duration\n",
      "0   1000_93     1000 2018-12-27      8.52\n",
      "1  1000_145     1000 2018-12-27     13.66\n",
      "2  1000_247     1000 2018-12-27     14.48\n",
      "3  1000_309     1000 2018-12-28      5.76\n",
      "4  1000_380     1000 2018-12-30      4.22\n",
      "\n",
      "El total de valores duplicados es: 0\n",
      "El total de valores ausentes es: id           0\n",
      "user_id      0\n",
      "call_date    0\n",
      "duration     0\n",
      "dtype: int64\n"
     ]
    }
   ],
   "source": [
    "# Imprime una muestra de datos para las llamadas\n",
    "\n",
    "print(df_calls.head())\n",
    "print()\n",
    "print('El total de valores duplicados es:',df_calls['id'].duplicated().sum())\n",
    "print('El total de valores ausentes es:',df_calls.isna().sum())"
   ]
  },
  {
   "cell_type": "markdown",
   "metadata": {
    "id": "DOAxYJSx0q09"
   },
   "source": [
    "[Describe lo que ves y observas en la información general y en la muestra de datos impresa para el precio de datos anterior. ¿Hay algún problema (tipos de datos no adecuados, datos ausentes, etc.) que pudieran necesitar investigación y cambios adicionales? ¿Cómo se puede arreglar?]\n",
    "\n",
    "El cambio del tipo de dato de fecha ya se habia realizado anteriormente, por lo cual solo bastaba revisar los duplicados y si la tabla contiene valores ausentes, lo cual dió como resultado que no habian valores ausentes ni duplicados."
   ]
  },
  {
   "cell_type": "markdown",
   "metadata": {
    "id": "S7hzxmbX0q0-"
   },
   "source": [
    "### Corregir los datos"
   ]
  },
  {
   "cell_type": "markdown",
   "metadata": {
    "id": "YxWyAjD20q0-"
   },
   "source": [
    "[Corrige los problemas obvios con los datos basándote en las observaciones iniciales.]"
   ]
  },
  {
   "cell_type": "code",
   "execution_count": 12,
   "metadata": {
    "id": "S2r8xA4f0q0-"
   },
   "outputs": [],
   "source": [
    "# ya habia realizado el cambio de tipo de dato de la fecha anteriormente"
   ]
  },
  {
   "cell_type": "markdown",
   "metadata": {
    "id": "KrMgTrlG0q0_"
   },
   "source": [
    "### Enriquecer los datos"
   ]
  },
  {
   "cell_type": "markdown",
   "metadata": {
    "id": "a9MbmEvE0q0_"
   },
   "source": [
    "[Agrega factores adicionales a los datos si crees que pudieran ser útiles.]"
   ]
  },
  {
   "cell_type": "code",
   "execution_count": 13,
   "metadata": {
    "id": "iZ1avpA_0q0_"
   },
   "outputs": [],
   "source": [
    "# No encuentro que más agregarle a este dataframe"
   ]
  },
  {
   "cell_type": "markdown",
   "metadata": {},
   "source": [
    "<div class=\"alert alert-block alert-warning\">\n",
    "<b>Comentario Revisor</b> <a class=\"tocSkip\"></a>\n",
    "\n",
    "Qué podríamos decir hasta el momento de las llamadas que tienen una duración de 0?\n",
    "</div>"
   ]
  },
  {
   "cell_type": "markdown",
   "metadata": {},
   "source": [
    "<div class=\"alert alert-block alert-info\">\n",
    "<b>Respuesta del estudiante.</b> <a class=\"tocSkip\"></a>\n",
    "\n",
    "Según el enunciado, la empresa Megaline redondea las llamadas a 1 minuto, incluso si estas solo ha durado unos cuantos segundos, por lo cual se podría decir que las llamadas redondeadas a 0 minutos son las llamadas que no fueron contestadas, o que no llegaron a establecerse (por lo tanto no hay tiempo para sumar ni cobro).\n",
    "</div>"
   ]
  },
  {
   "cell_type": "markdown",
   "metadata": {},
   "source": [
    "\n",
    "<div class=\"alert alert-block alert-success\">\n",
    "<b>Comentario del revisor</b> <a class=\"tocSkip\"></a>\n",
    "\n",
    "Gran trabajo con el ajuste!"
   ]
  },
  {
   "cell_type": "markdown",
   "metadata": {
    "id": "mOUZSi180q0_"
   },
   "source": [
    "## Mensajes"
   ]
  },
  {
   "cell_type": "code",
   "execution_count": 13,
   "metadata": {
    "id": "R-bYJpdV0q1A"
   },
   "outputs": [
    {
     "name": "stdout",
     "output_type": "stream",
     "text": [
      "<class 'pandas.core.frame.DataFrame'>\n",
      "RangeIndex: 76051 entries, 0 to 76050\n",
      "Data columns (total 3 columns):\n",
      " #   Column        Non-Null Count  Dtype         \n",
      "---  ------        --------------  -----         \n",
      " 0   id            76051 non-null  object        \n",
      " 1   user_id       76051 non-null  int64         \n",
      " 2   message_date  76051 non-null  datetime64[ns]\n",
      "dtypes: datetime64[ns](1), int64(1), object(1)\n",
      "memory usage: 1.7+ MB\n"
     ]
    }
   ],
   "source": [
    "# Imprime la información general/resumida sobre el DataFrame de los mensajes\n",
    "\n",
    "df_msg.info()"
   ]
  },
  {
   "cell_type": "code",
   "execution_count": 14,
   "metadata": {
    "id": "mCEl2iGE0q1A"
   },
   "outputs": [
    {
     "name": "stdout",
     "output_type": "stream",
     "text": [
      "         id  user_id message_date\n",
      "0  1000_125     1000   2018-12-27\n",
      "1  1000_160     1000   2018-12-31\n",
      "2  1000_223     1000   2018-12-31\n",
      "3  1000_251     1000   2018-12-27\n",
      "4  1000_255     1000   2018-12-26\n"
     ]
    }
   ],
   "source": [
    "# Imprime una muestra de datos para los mensajes\n",
    "\n",
    "print(df_msg.head())"
   ]
  },
  {
   "cell_type": "markdown",
   "metadata": {
    "id": "04xDj7KH0q1A"
   },
   "source": [
    "[Describe lo que ves y observas en la información general y en la muestra de datos impresa para el precio de datos anterior. ¿Hay algún problema (tipos de datos no adecuados, datos ausentes, etc.) que pudieran necesitar investigación y cambios adicionales? ¿Cómo se puede arreglar?]\n",
    "\n",
    "El cambio del tipo de dato de fecha ya se habia realizado anteriormente, por lo cual solo bastaba revisar los duplicados y si la tabla contiene valores ausentes"
   ]
  },
  {
   "cell_type": "markdown",
   "metadata": {
    "id": "Sprfak900q1B"
   },
   "source": [
    "### Corregir los datos\n"
   ]
  },
  {
   "cell_type": "markdown",
   "metadata": {
    "id": "eGw7d9j10q1B"
   },
   "source": [
    "[Corrige los problemas obvios con los datos basándote en las observaciones iniciales.]"
   ]
  },
  {
   "cell_type": "code",
   "execution_count": 15,
   "metadata": {
    "id": "vsllvkoa0q1B"
   },
   "outputs": [
    {
     "name": "stdout",
     "output_type": "stream",
     "text": [
      "El total de valores duplicados es: 0\n",
      "El total de valores ausentes es: id              0\n",
      "user_id         0\n",
      "message_date    0\n",
      "dtype: int64\n"
     ]
    }
   ],
   "source": [
    "# ya habia realizado el cambio de tipo de dato de la fecha anteriormente\n",
    "print('El total de valores duplicados es:',df_msg.duplicated().sum())\n",
    "print('El total de valores ausentes es:',df_msg.isna().sum())\n"
   ]
  },
  {
   "cell_type": "markdown",
   "metadata": {
    "id": "HvLid7iD0q1B"
   },
   "source": [
    "### Enriquecer los datos"
   ]
  },
  {
   "cell_type": "markdown",
   "metadata": {
    "id": "8nhPFKIe0q1C"
   },
   "source": [
    "[Agrega factores adicionales a los datos si crees que pudieran ser útiles.]"
   ]
  },
  {
   "cell_type": "code",
   "execution_count": 16,
   "metadata": {
    "id": "zYEXZac10q1C"
   },
   "outputs": [],
   "source": [
    "# He revisado los valores ausentes en todas las columnas, encontrando que NO hay valores NaN  \n",
    "# o None en este dataframe, por otro lado sí contiene valores duplicados en otras columnas\n",
    "# pero es completamente normal ya que el mismo ususario pudo haber enviado multiples mensajes en \n",
    "# el mismo día o incluso en una misma hora, dependiendo de su patrón de uso del servicio. Por tanto,\n",
    "# estos registros duplicados no representan un error ni requieren ser eliminados, ya que reflejan \n",
    "# comportamientos reales del usuario."
   ]
  },
  {
   "cell_type": "markdown",
   "metadata": {
    "id": "bStkaxn40q1C"
   },
   "source": [
    "## Internet"
   ]
  },
  {
   "cell_type": "code",
   "execution_count": 17,
   "metadata": {
    "id": "e-Uz5qyn0q1C"
   },
   "outputs": [
    {
     "name": "stdout",
     "output_type": "stream",
     "text": [
      "<class 'pandas.core.frame.DataFrame'>\n",
      "RangeIndex: 104825 entries, 0 to 104824\n",
      "Data columns (total 4 columns):\n",
      " #   Column        Non-Null Count   Dtype         \n",
      "---  ------        --------------   -----         \n",
      " 0   id            104825 non-null  object        \n",
      " 1   user_id       104825 non-null  int64         \n",
      " 2   session_date  104825 non-null  datetime64[ns]\n",
      " 3   mb_used       104825 non-null  float64       \n",
      "dtypes: datetime64[ns](1), float64(1), int64(1), object(1)\n",
      "memory usage: 3.2+ MB\n"
     ]
    }
   ],
   "source": [
    "# Imprime la información general/resumida sobre el DataFrame de internet\n",
    "\n",
    "df_net.info()"
   ]
  },
  {
   "cell_type": "code",
   "execution_count": 18,
   "metadata": {
    "id": "9r3x_XLw0q1C"
   },
   "outputs": [
    {
     "name": "stdout",
     "output_type": "stream",
     "text": [
      "         id  user_id session_date  mb_used\n",
      "0   1000_13     1000   2018-12-29    89.86\n",
      "1  1000_204     1000   2018-12-31     0.00\n",
      "2  1000_379     1000   2018-12-28   660.40\n",
      "3  1000_413     1000   2018-12-26   270.99\n",
      "4  1000_442     1000   2018-12-27   880.22\n"
     ]
    }
   ],
   "source": [
    "# Imprime una muestra de datos para el tráfico de internet\n",
    "\n",
    "print(df_net.head())"
   ]
  },
  {
   "cell_type": "markdown",
   "metadata": {
    "id": "EzOG5ik30q1D"
   },
   "source": [
    "[Describe lo que ves y observas en la información general y en la muestra de datos impresa para el precio de datos anterior. ¿Hay algún problema (tipos de datos no adecuados, datos ausentes, etc.) que pudieran necesitar investigación y cambios adicionales? ¿Cómo se puede arreglar?]\n",
    "\n",
    "El cambio del tipo de dato de fecha ya se habia realizado anteriormente, por lo cual solo bastaba revisar los duplicados y si la tabla contiene valores ausentes"
   ]
  },
  {
   "cell_type": "markdown",
   "metadata": {
    "id": "yA0tkPFg0q1D"
   },
   "source": [
    "### Corregir los datos"
   ]
  },
  {
   "cell_type": "markdown",
   "metadata": {
    "id": "zlZMuIEK0q1D"
   },
   "source": [
    "[Corrige los problemas obvios con los datos basándote en las observaciones iniciales.]"
   ]
  },
  {
   "cell_type": "code",
   "execution_count": 19,
   "metadata": {
    "id": "zVeanzdd0q1E"
   },
   "outputs": [
    {
     "name": "stdout",
     "output_type": "stream",
     "text": [
      "El total de valores duplicados es: 0\n",
      "El total de valores ausentes es: id              0\n",
      "user_id         0\n",
      "session_date    0\n",
      "mb_used         0\n",
      "dtype: int64\n"
     ]
    }
   ],
   "source": [
    "# ya habia realizado el cambio de tipo de dato de la fecha anteriormente\n",
    "print('El total de valores duplicados es:',df_net['id'].duplicated().sum())\n",
    "print('El total de valores ausentes es:',df_net.isna().sum())"
   ]
  },
  {
   "cell_type": "markdown",
   "metadata": {
    "id": "e8_mLF4a0q1E"
   },
   "source": [
    "### Enriquecer los datos"
   ]
  },
  {
   "cell_type": "markdown",
   "metadata": {
    "id": "xhNdn2tE0q1E"
   },
   "source": [
    "[Agrega factores adicionales a los datos si crees que pudieran ser útiles.]"
   ]
  },
  {
   "cell_type": "code",
   "execution_count": 21,
   "metadata": {
    "id": "ESiYPIEK0q1E"
   },
   "outputs": [],
   "source": [
    "# Desde mi punto de vista el dataframe está completo"
   ]
  },
  {
   "cell_type": "markdown",
   "metadata": {},
   "source": [
    "<div class=\"alert alert-block alert-warning\">\n",
    "<b>Comentario revisor</b> <a class=\"tocSkip\"></a>\n",
    "\n",
    "\n",
    "Te recomiendo solamente comentar que cuando agrupemos los datos vamos a tener que redondear hacia arriba lo valores de la transformación de mbegabyter a gigabyte, para este ejercicio debemos hacer el redondeo superior dado que se cobra el costo extra en cuanto se pasa de los límites.Por lo que es necesario hacer la transformación de mb a gb y después hacer el redondeo.  \n",
    "</div>"
   ]
  },
  {
   "cell_type": "markdown",
   "metadata": {
    "id": "3UA2cqIW0q1E"
   },
   "source": [
    "## Estudiar las condiciones de las tarifas"
   ]
  },
  {
   "cell_type": "markdown",
   "metadata": {
    "id": "T86Sqltq0q1F"
   },
   "source": [
    "[Es sumamente importante entender cómo funcionan las tarifas, cómo se les cobra a los usuarios en función de su plan de suscripción. Así que te sugerimos imprimir la información de la tarifa para ver una vez más sus condiciones.]"
   ]
  },
  {
   "cell_type": "code",
   "execution_count": 22,
   "metadata": {
    "id": "i409op8p0q1F"
   },
   "outputs": [
    {
     "name": "stdout",
     "output_type": "stream",
     "text": [
      "   messages_included  mb_per_month_included  minutes_included  \\\n",
      "0                 50                  15360               500   \n",
      "1               1000                  30720              3000   \n",
      "\n",
      "   usd_monthly_pay  usd_per_gb  usd_per_message  usd_per_minute plan_name  \n",
      "0               20          10             0.03            0.03      surf  \n",
      "1               70           7             0.01            0.01  ultimate  \n"
     ]
    }
   ],
   "source": [
    "# Imprime las condiciones de la tarifa y asegúrate de que te quedan claras\n",
    "\n",
    "print(df_plans)"
   ]
  },
  {
   "cell_type": "markdown",
   "metadata": {
    "id": "hMR1tP5d0q1F"
   },
   "source": [
    "## Agregar datos por usuario\n",
    "\n",
    "[Ahora que los datos están limpios, agrega los datos por usuario y por periodo para que solo haya un registro por usuario y por periodo. Esto facilitará mucho el análisis posterior.]"
   ]
  },
  {
   "cell_type": "code",
   "execution_count": 20,
   "metadata": {
    "id": "A332cedB0q1G"
   },
   "outputs": [
    {
     "name": "stdout",
     "output_type": "stream",
     "text": [
      "      user_id  month  total_calls\n",
      "0        1000     12           16\n",
      "1        1001      8           27\n",
      "2        1001      9           49\n",
      "3        1001     10           65\n",
      "4        1001     11           64\n",
      "...       ...    ...          ...\n",
      "2247     1498      6           37\n",
      "2255     1499     10           53\n",
      "2256     1499     11           45\n",
      "2254     1499      9           41\n",
      "2257     1499     12           65\n",
      "\n",
      "[2258 rows x 3 columns]\n"
     ]
    }
   ],
   "source": [
    "# Calcula el número de llamadas hechas por cada usuario al mes. Guarda el resultado.\n",
    "\n",
    "#Creo una nueva columna a partir de la columna la fecha \"call_date\" para extraer solo los meses de esta\n",
    "df_calls['month'] = df_calls['call_date'].dt.month\n",
    "\n",
    "#Agrupo el dataframe por usuario y mes, y realizó el contéo de las llamadas, guardandolo todo en la variable \"df_calls_por_mes\" \n",
    "df_calls_por_mes = df_calls.groupby(['user_id','month']).agg({'call_date': 'count'}).reset_index()\n",
    "\n",
    "#renombro la última columna para que haya más claridad respecto a donde se está mostrando el conteo de llamadas por usuario por mes. \n",
    "df_calls_por_mes.rename(columns={'call_date': 'total_calls'}, inplace=True)\n",
    "\n",
    "#imprimo el resultado\n",
    "print(df_calls_por_mes.sort_values(by='user_id'))"
   ]
  },
  {
   "cell_type": "markdown",
   "metadata": {},
   "source": [
    "\n",
    "<div class=\"alert alert-block alert-warning\">\n",
    "\n",
    "<b>Comentario revisor</b> <a class=\"tocSkip\"></a>\n",
    "\n",
    "Si bien es correcta la forma de agrupar para sacar la duración de las llamadas por cada ususario, para proximas ocasiones puedes hacer uso de la siguiente forma:\n",
    "    \n",
    "    pivot_calls = calls.pivot_table(index=['user_id', 'month'],\n",
    "                                values=['duration'],\n",
    "                                aggfunc=['sum','count']).reset_index()\n",
    "\n",
    "</div>"
   ]
  },
  {
   "cell_type": "markdown",
   "metadata": {},
   "source": [
    "\n",
    "<div class=\"alert alert-block alert-info\">\n",
    "<b>Respuesta del estudiante.</b> <a class=\"tocSkip\"></a>\n",
    "\n",
    "Gracias por la observación, esa forma de usar \"aggfunc\", no la conocía\n",
    "</div>"
   ]
  },
  {
   "cell_type": "code",
   "execution_count": 27,
   "metadata": {
    "id": "aw2cmuql0q1G"
   },
   "outputs": [
    {
     "name": "stdout",
     "output_type": "stream",
     "text": [
      "      user_id  month  duration\n",
      "0        1000     12       117\n",
      "1        1001      8       172\n",
      "2        1001      9       298\n",
      "3        1001     10       375\n",
      "4        1001     11       405\n",
      "...       ...    ...       ...\n",
      "2247     1498      6       226\n",
      "2255     1499     10       364\n",
      "2256     1499     11       289\n",
      "2254     1499      9       331\n",
      "2257     1499     12       469\n",
      "\n",
      "[2258 rows x 3 columns]\n"
     ]
    }
   ],
   "source": [
    "# Calcula la cantidad de minutos usados por cada usuario al mes. Guarda el resultado.\n",
    "\n",
    "#Agrupo el dataframe por usuario y mes, y realizó la suma de la duración de las llamadas, guardandolo todo en la variable \"df_calls_duration_por_mes\" \n",
    "df_calls_duration_por_mes = df_calls.groupby(['user_id','month']).agg({'duration': 'sum'}).reset_index()\n",
    "\n",
    "#Aplico math.ceil a la columna Duration para redondear hacia arriba los decimales\n",
    "df_calls_duration_por_mes['duration'] = df_calls_duration_por_mes['duration'].apply(math.ceil)\n",
    "\n",
    "#renombro la última columna para que haya más claridad respecto a donde se está mostrando la suma de los minutos usados por usuario por mes. \n",
    "df_calls_duration_por_mes.rename(columns={'call_date': 'total_duration_calls'}, inplace=True)\n",
    "\n",
    "#imprimo el resultado\n",
    "print(df_calls_duration_por_mes.sort_values(by='user_id'))"
   ]
  },
  {
   "cell_type": "markdown",
   "metadata": {},
   "source": [
    "\n",
    "<div class=\"alert alert-block alert-info\">\n",
    "<b>Respuesta del estudiante.</b> <a class=\"tocSkip\"></a>\n",
    "\n",
    "He redondeado los decimales de las llamadas para que se cobre exactamente el valor que corresponde\n",
    "</div>"
   ]
  },
  {
   "cell_type": "code",
   "execution_count": 30,
   "metadata": {
    "id": "CcQvNHn60q1G"
   },
   "outputs": [
    {
     "name": "stdout",
     "output_type": "stream",
     "text": [
      "      user_id  month  total_messages\n",
      "0        1000     12              11\n",
      "1        1001      8              30\n",
      "2        1001      9              44\n",
      "3        1001     10              53\n",
      "4        1001     11              36\n",
      "...       ...    ...             ...\n",
      "1802     1496     10              18\n",
      "1804     1496     12              11\n",
      "1800     1496      8               2\n",
      "1801     1496      9              21\n",
      "1805     1497     12              50\n",
      "\n",
      "[1806 rows x 3 columns]\n"
     ]
    }
   ],
   "source": [
    "# Calcula el número de mensajes enviados por cada usuario al mes. Guarda el resultado.\n",
    "\n",
    "#Creo una nueva columna a partir de la columna la fecha \"message_date\" para extraer solo los meses de esta\n",
    "df_msg['month'] = df_msg['message_date'].dt.month\n",
    "\n",
    "#Agrupo el dataframe por usuario y mes, y realizó el contéo de los mensajes, guardandolo todo en la variable \"df_calls_por_mes\" \n",
    "df_msg_por_mes = df_msg.groupby(['user_id','month']).agg({'message_date': 'count'}).reset_index()\n",
    "\n",
    "#renombro la última columna para que haya más claridad respecto a donde se está mostrando el conteo de los mensajes enviados por usuario por mes. \n",
    "df_msg_por_mes.rename(columns={'message_date': 'total_messages'}, inplace=True)\n",
    "\n",
    "#imprimo el resultado\n",
    "print(df_msg_por_mes.sort_values(by='user_id'))"
   ]
  },
  {
   "cell_type": "code",
   "execution_count": 32,
   "metadata": {
    "id": "H1AqN2eG0q1H"
   },
   "outputs": [
    {
     "name": "stdout",
     "output_type": "stream",
     "text": [
      "      user_id  month  total_mb_per_user\n",
      "0        1000     12            1901.47\n",
      "1        1001      8            6919.15\n",
      "2        1001      9           13314.82\n",
      "3        1001     10           22330.49\n",
      "4        1001     11           18504.30\n",
      "...       ...    ...                ...\n",
      "2266     1498      6           14807.18\n",
      "2274     1499     10           19492.43\n",
      "2275     1499     11           16813.83\n",
      "2273     1499      9           12984.76\n",
      "2276     1499     12           22059.21\n",
      "\n",
      "[2277 rows x 3 columns]\n"
     ]
    }
   ],
   "source": [
    "# Calcula el volumen del tráfico de Internet usado por cada usuario al mes. Guarda el resultado.\n",
    "\n",
    "#Creo una nueva columna a partir de la columna la fecha \"session_date\" para extraer solo los meses de esta\n",
    "df_net['month'] = df_net['session_date'].dt.month\n",
    "\n",
    "#Agrupo el dataframe por usuario y mes, y realizó la suma de las mb por cada usuario en cada mes, guardandolo todo en la variable \"df_netvol_por_mes\" \n",
    "df_netvol_por_mes = df_net.groupby(['user_id','month']).agg({'mb_used': 'sum'}).reset_index()\n",
    "\n",
    "#renombro la última columna para que haya más claridad respecto a donde se está mostrando la suma de mb usadas por usuario por mes. \n",
    "df_netvol_por_mes.rename(columns={'mb_used': 'total_mb_per_user'}, inplace=True)\n",
    "\n",
    "#imprimo el resultado\n",
    "print(df_netvol_por_mes.sort_values(by='user_id'))"
   ]
  },
  {
   "cell_type": "markdown",
   "metadata": {
    "id": "VDfYXnj80q1H"
   },
   "source": [
    "[Junta los datos agregados en un DataFrame para que haya un registro que represente lo que consumió un usuario único en un mes determinado.]"
   ]
  },
  {
   "cell_type": "code",
   "execution_count": 33,
   "metadata": {
    "id": "FW99ykyf0q1H"
   },
   "outputs": [
    {
     "name": "stdout",
     "output_type": "stream",
     "text": [
      "      user_id  month  total_calls  duration  total_messages  total_mb_per_user\n",
      "0        1000     12           16       117              11            1901.47\n",
      "1        1001      8           27       172              30            6919.15\n",
      "2        1001      9           49       298              44           13314.82\n",
      "3        1001     10           65       375              53           22330.49\n",
      "4        1001     11           64       405              36           18504.30\n",
      "...       ...    ...          ...       ...             ...                ...\n",
      "1754     1496      9           52       390              21           16389.27\n",
      "1755     1496     10           46       302              18           14287.36\n",
      "1756     1496     11           39       292              13            8547.36\n",
      "1757     1496     12           40       279              11           16438.99\n",
      "1758     1497     12           54       277              50           11106.55\n",
      "\n",
      "[1759 rows x 6 columns]\n"
     ]
    }
   ],
   "source": [
    "# Fusiona los datos de llamadas, minutos, mensajes e Internet con base en user_id y month\n",
    "\n",
    "# Agrupo las columnas usando el método merge agregando uno a uno los dataframes anteriormente agrupados.\n",
    "df_merge= df_calls_por_mes.merge(df_calls_duration_por_mes, on=['user_id', 'month'])\n",
    "df_merge= df_merge.merge(df_msg_por_mes, on= ['user_id', 'month'])\n",
    "df_merge= df_merge.merge(df_netvol_por_mes, on=['user_id', 'month'])\n",
    "print(df_merge)"
   ]
  },
  {
   "cell_type": "code",
   "execution_count": 34,
   "metadata": {
    "id": "0dNOXHag0q1H"
   },
   "outputs": [
    {
     "name": "stdout",
     "output_type": "stream",
     "text": [
      "     user_id      plan\n",
      "0       1000  ultimate\n",
      "1       1001      surf\n",
      "2       1002      surf\n",
      "3       1003      surf\n",
      "4       1004      surf\n",
      "..       ...       ...\n",
      "495     1495      surf\n",
      "496     1496      surf\n",
      "497     1497  ultimate\n",
      "498     1498      surf\n",
      "499     1499      surf\n",
      "\n",
      "[500 rows x 2 columns]\n",
      "      user_id  month  total_calls  duration  total_messages  \\\n",
      "0        1000     12           16       117              11   \n",
      "1        1001      8           27       172              30   \n",
      "2        1001      9           49       298              44   \n",
      "3        1001     10           65       375              53   \n",
      "4        1001     11           64       405              36   \n",
      "...       ...    ...          ...       ...             ...   \n",
      "1754     1496      9           52       390              21   \n",
      "1755     1496     10           46       302              18   \n",
      "1756     1496     11           39       292              13   \n",
      "1757     1496     12           40       279              11   \n",
      "1758     1497     12           54       277              50   \n",
      "\n",
      "      total_mb_per_user      plan  \n",
      "0               1901.47  ultimate  \n",
      "1               6919.15      surf  \n",
      "2              13314.82      surf  \n",
      "3              22330.49      surf  \n",
      "4              18504.30      surf  \n",
      "...                 ...       ...  \n",
      "1754           16389.27      surf  \n",
      "1755           14287.36      surf  \n",
      "1756            8547.36      surf  \n",
      "1757           16438.99      surf  \n",
      "1758           11106.55  ultimate  \n",
      "\n",
      "[1759 rows x 7 columns]\n",
      "   messages_included  mb_per_month_included  minutes_included  \\\n",
      "0                 50                  15360               500   \n",
      "1               1000                  30720              3000   \n",
      "\n",
      "   usd_monthly_pay  usd_per_gb  usd_per_message  usd_per_minute plan_name  \n",
      "0               20          10             0.03            0.03      surf  \n",
      "1               70           7             0.01            0.01  ultimate  \n"
     ]
    }
   ],
   "source": [
    "# Añade la información de la tarifa\n",
    "# Para esta información debo ir a df_users para extraer de ahí la información de la columna plan\n",
    "df_users_plan =  df_users[['user_id','plan']]\n",
    "print(df_users_plan)\n",
    "\n",
    "df_merge= df_merge.merge(df_users_plan, on=['user_id'])\n",
    "print(df_merge)\n",
    "#print(df_users.info())\n",
    "print(df_plans)"
   ]
  },
  {
   "cell_type": "markdown",
   "metadata": {
    "id": "1IwGo4wg0q1I"
   },
   "source": [
    "[Calcula los ingresos mensuales por usuario (resta el límite del paquete gratuito del número total de llamadas, mensajes de texto y datos; multiplica el resultado por el valor del plan de llamadas; añade la tarifa mensual en función del plan de llamadas). Nota: Dadas las condiciones del plan, ¡esto podría no ser tan trivial como un par de líneas! Así que no pasa nada si dedicas algo de tiempo a ello.]"
   ]
  },
  {
   "cell_type": "code",
   "execution_count": 52,
   "metadata": {
    "id": "5FGCf_c60q1I"
   },
   "outputs": [
    {
     "name": "stdout",
     "output_type": "stream",
     "text": [
      "      user_id  month  total_calls  duration  total_messages  \\\n",
      "0        1000     12           16       117              11   \n",
      "1        1001      8           27       172              30   \n",
      "2        1001      9           49       298              44   \n",
      "3        1001     10           65       375              53   \n",
      "4        1001     11           64       405              36   \n",
      "...       ...    ...          ...       ...             ...   \n",
      "1754     1496      9           52       390              21   \n",
      "1755     1496     10           46       302              18   \n",
      "1756     1496     11           39       292              13   \n",
      "1757     1496     12           40       279              11   \n",
      "1758     1497     12           54       277              50   \n",
      "\n",
      "      total_mb_per_user      plan  ingreso_mensual  \n",
      "0               1901.47  ultimate            70.00  \n",
      "1               6919.15      surf            20.00  \n",
      "2              13314.82      surf            20.00  \n",
      "3              22330.49      surf            90.09  \n",
      "4              18504.30      surf            60.00  \n",
      "...                 ...       ...              ...  \n",
      "1754           16389.27      surf            40.00  \n",
      "1755           14287.36      surf            20.00  \n",
      "1756            8547.36      surf            20.00  \n",
      "1757           16438.99      surf            40.00  \n",
      "1758           11106.55  ultimate            70.00  \n",
      "\n",
      "[1759 rows x 8 columns]\n"
     ]
    }
   ],
   "source": [
    "# Calcula el ingreso mensual para cada usuario\n",
    "\n",
    "total_income_per_user= []\n",
    "\n",
    "for i in range(len(df_merge)):\n",
    "    plan = df_merge.loc[i, 'plan']\n",
    "    minutos = df_merge.loc[i, 'duration']\n",
    "    mensajes = df_merge.loc[i, 'total_messages']\n",
    "    mb = df_merge.loc[i, 'total_mb_per_user']\n",
    "\n",
    "    if plan == 'ultimate':\n",
    "        costo_base = 70\n",
    "        if minutos > 3000:\n",
    "            exceso_min = minutos - 3000\n",
    "        else:\n",
    "            exceso_min = 0\n",
    "\n",
    "        if mensajes > 1000:\n",
    "            exceso_msg = mensajes - 1000\n",
    "        else:\n",
    "            exceso_msg = 0\n",
    "\n",
    "        if mb > 30720:\n",
    "            exceso_gb = math.ceil((mb -30720)/1024) #AQUÍ SE REDONDEAN LAS MB\n",
    "        else:\n",
    "            exceso_gb = 0\n",
    "\n",
    "        costo_extra = exceso_min*0.01 + exceso_msg*0.01 + exceso_gb*7\n",
    "    else: #plan Surf\n",
    "         \n",
    "        costo_base = 20\n",
    "        if minutos > 500:\n",
    "            exceso_min = minutos - 500\n",
    "        else:\n",
    "            exceso_min = 0\n",
    "\n",
    "        if mensajes > 50:\n",
    "            exceso_msg = mensajes - 50\n",
    "        else:\n",
    "            exceso_msg = 0\n",
    "\n",
    "        if mb > 15360:\n",
    "            exceso_gb = math.ceil((mb -15360)/1024) #AQUÍ SE REDONDEAN LAS MB\n",
    "        else:\n",
    "            exceso_gb = 0\n",
    "\n",
    "        costo_extra = exceso_min*0.03 + exceso_msg*0.03 + exceso_gb*10\n",
    "\n",
    "    total = costo_base + costo_extra\n",
    "    total_income_per_user.append(total)\n",
    "\n",
    "df_merge['ingreso_mensual'] = total_income_per_user\n",
    "print(df_merge)"
   ]
  },
  {
   "cell_type": "markdown",
   "metadata": {},
   "source": [
    "<div class=\"alert alert-block alert-danger\">\n",
    "<b>Comentario revisor</b> <a class=\"tocSkip\"></a>\n",
    "\n",
    "\n",
    "Recuerda que para este punto, es necesario que ya tengamos los valores redondeados de la duración de las llamadas y redondear la transformación de megabytes a gigabytes. Esto cobra importancia dado que estamos calculando por cuanto se paso cada usuario, entonces el no redondear puede alterar este valor.\n",
    "</div>"
   ]
  },
  {
   "cell_type": "markdown",
   "metadata": {},
   "source": [
    "<div class=\"alert alert-block alert-info\">\n",
    "<b>Respuesta del estudiante.</b> <a class=\"tocSkip\"></a>\n",
    "\n",
    "Aunque el dataframe df_merge no muestre la columna redondeada con las gb totales usadas por los usuarios, el calculo del ingreso mensual si tiene en cuenta esta característica tal cual como lo pide Megaline, donde el total mensual de megabytes se redondea hacia arriba desde el momento en que se consume el primer megabyte adicional.\n",
    "</div>"
   ]
  },
  {
   "cell_type": "markdown",
   "metadata": {},
   "source": [
    "\n",
    "<div class=\"alert alert-block alert-success\">\n",
    "<b>Comentario del revisor</b> <a class=\"tocSkip\"></a>\n",
    "\n",
    "Gran trabajo con el ajuste!"
   ]
  },
  {
   "cell_type": "markdown",
   "metadata": {
    "id": "-jtyHzJb0q1I"
   },
   "source": [
    "## Estudia el comportamiento de usuario"
   ]
  },
  {
   "cell_type": "markdown",
   "metadata": {
    "id": "AxU3Y0N70q1J"
   },
   "source": [
    "[Calcula algunas estadísticas descriptivas para los datos agregados y fusionados que nos sean útiles y que muestren un panorama general captado por los datos. Dibuja gráficos útiles para facilitar la comprensión. Dado que la tarea principal es comparar las tarifas y decidir cuál es más rentable, las estadísticas y gráficas deben calcularse por tarifa.]\n",
    "\n",
    "[En los comentarios hallarás pistas relevantes para las llamadas, pero no las hay para los mensajes e Internet. Sin embargo, el principio del estudio estadístico que se aplica para ellos es el mismo que para las llamadas.]"
   ]
  },
  {
   "cell_type": "markdown",
   "metadata": {
    "id": "vtW4CJEe0q1J"
   },
   "source": [
    "### Llamadas"
   ]
  },
  {
   "cell_type": "code",
   "execution_count": 36,
   "metadata": {
    "id": "Jf5v5--k0q1J"
   },
   "outputs": [
    {
     "name": "stdout",
     "output_type": "stream",
     "text": [
      "        plan  month    duration\n",
      "0       surf      1  279.000000\n",
      "1       surf      2  313.800000\n",
      "2       surf      3  325.437500\n",
      "3       surf      4  346.742857\n",
      "4       surf      5  419.207547\n",
      "5       surf      6  402.000000\n",
      "6       surf      7  426.932584\n",
      "7       surf      8  404.689076\n",
      "8       surf      9  402.489796\n",
      "9       surf     10  418.132597\n",
      "10      surf     11  419.408257\n",
      "11      surf     12  467.959350\n",
      "12  ultimate      1  188.000000\n",
      "13  ultimate      2  459.000000\n",
      "14  ultimate      3  390.000000\n",
      "15  ultimate      4  303.937500\n",
      "16  ultimate      5  387.904762\n",
      "17  ultimate      6  350.108108\n",
      "18  ultimate      7  416.446809\n",
      "19  ultimate      8  412.000000\n",
      "20  ultimate      9  413.591549\n",
      "21  ultimate     10  439.250000\n",
      "22  ultimate     11  438.960784\n",
      "23  ultimate     12  437.344000\n"
     ]
    },
    {
     "data": {
      "image/png": "[encoded data removed]",
      "text/plain": [
       "<Figure size 640x480 with 1 Axes>"
      ]
     },
     "metadata": {},
     "output_type": "display_data"
    }
   ],
   "source": [
    "# Compara la duración promedio de llamadas por cada plan y por cada mes. Traza un gráfico de barras para visualizarla.\n",
    "\n",
    "# Agrupo y convierto en un dataframe nuevo\n",
    "duration_mean= df_merge.groupby(['plan', 'month'])['duration'].mean().reset_index()\n",
    "print(duration_mean)\n",
    "\n",
    "#filtro por plan\n",
    "ultimate = duration_mean[duration_mean['plan']=='ultimate']\n",
    "surf = duration_mean[duration_mean['plan']=='surf']\n",
    "\n",
    "#Imprimo gráfico de barras superpuesto por plan\n",
    "plt.bar(ultimate['month'], ultimate['duration'], label= 'Ultimate', color= 'orange' )\n",
    "plt.bar(surf['month'], surf['duration'], label= 'surf', color= 'blue', alpha= 0.5)\n",
    "\n",
    "\n",
    "plt.title('Duración promedio de llamadas por plan y mes'),\n",
    "plt.ylabel('Duración promedio (minutos)'),\n",
    "plt.xlabel('Mes')\n",
    "plt.legend(['Ultimate','Surf'])\n",
    "plt.show()"
   ]
  },
  {
   "cell_type": "code",
   "execution_count": 37,
   "metadata": {
    "id": "QoLqW1S_0q1J"
   },
   "outputs": [
    {
     "data": {
      "image/png": "[encoded data removed]",
      "text/plain": [
       "<Figure size 640x480 with 1 Axes>"
      ]
     },
     "metadata": {},
     "output_type": "display_data"
    },
    {
     "name": "stdout",
     "output_type": "stream",
     "text": [
      "La cantidad de llamadas máxima registrada en el plan SURF es: 1432\n",
      "La cantidad de llamadas máxima registrada en el plan ULTIMATE es: 1293\n"
     ]
    }
   ],
   "source": [
    "# Compara el número de minutos mensuales que necesitan los usuarios de cada plan. Traza un histograma.\n",
    "\n",
    "# Histogramas por plan\n",
    "plt.hist(df_merge[df_merge['plan'] == 'surf']['duration'], \n",
    "         bins=30, alpha=0.6, label='Surf', color='green')\n",
    "\n",
    "plt.hist(df_merge[df_merge['plan'] == 'ultimate']['duration'], \n",
    "         bins=30, alpha= 0.6, label='Ultimate', color='black')\n",
    "\n",
    "plt.title('Distribución de la duración de las llamadas (todas)'),\n",
    "plt.xlabel('Duración de llamada (minutos)')\n",
    "plt.ylabel('Cantidad de llamadas')\n",
    "plt.legend(['Surf', 'Ultimate'])\n",
    "plt.show()\n",
    "\n",
    "\n",
    "print('La cantidad de llamadas máxima registrada en el plan SURF es:', df_merge[df_merge['plan'] == 'surf']['duration'].max())\n",
    "print('La cantidad de llamadas máxima registrada en el plan ULTIMATE es:', df_merge[df_merge['plan'] == 'ultimate']['duration'].max())"
   ]
  },
  {
   "cell_type": "markdown",
   "metadata": {
    "id": "bLS9T8OH0q1K"
   },
   "source": [
    "[Calcula la media y la variable de la duración de las llamadas para averiguar si los usuarios de los distintos planes se comportan de forma diferente al realizar sus llamadas.]"
   ]
  },
  {
   "cell_type": "code",
   "execution_count": 38,
   "metadata": {
    "id": "oSndbAnt0q1K"
   },
   "outputs": [
    {
     "name": "stdout",
     "output_type": "stream",
     "text": [
      "la media de la duración mensual de llamadas es: 420.2222853894258\n",
      "la varianza de la duración mensual de llamadas es: 51478.971607743304\n"
     ]
    }
   ],
   "source": [
    "# Calcula la media y la varianza de la duración mensual de llamadas.\n",
    "\n",
    "print('la media de la duración mensual de llamadas es:', df_merge['duration'].mean())\n",
    "varianza = df_merge['duration'].var()\n",
    "print('la varianza de la duración mensual de llamadas es:', varianza)"
   ]
  },
  {
   "cell_type": "code",
   "execution_count": 39,
   "metadata": {
    "id": "nZzoRUKc0q1K"
   },
   "outputs": [
    {
     "data": {
      "text/plain": [
       "<AxesSubplot:xlabel='duration'>"
      ]
     },
     "execution_count": 39,
     "metadata": {},
     "output_type": "execute_result"
    },
    {
     "data": {
      "image/png": "[encoded data removed]",
      "text/plain": [
       "<Figure size 640x480 with 1 Axes>"
      ]
     },
     "metadata": {},
     "output_type": "display_data"
    }
   ],
   "source": [
    "# Traza un diagrama de caja para visualizar la distribución de la duración mensual de llamadas\n",
    "\n",
    "sns.boxplot(df_merge['duration'])"
   ]
  },
  {
   "cell_type": "markdown",
   "metadata": {
    "id": "r627zBO50q1K"
   },
   "source": [
    "[Elabora las conclusiones sobre el comportamiento de los usuarios con respecto a las llamadas. ¿Su comportamiento varía en función del plan?]\n",
    "\n",
    "Los gráficos obtenidos muestran el comportamiento de los usuarios de Megaline en la categoría de las llamadas, en estos gráficos se evaluaron sus dos tarifas de prepago Surf y Ultimate. \n",
    "En primer lugar, al graficar la media mensual de la duración de las llamadas en ambos planes prepago, se puede ver que el comportamiento en general de las dos categorías es muy similar a lo largo de los 12 meses del año, teniendo meses en los cuales el promedio de la duración de las llamadas en Surf supera el promedio de la duración de las llamadas en Ultimate (Enero, Abril, Mayo, Junio y Diciembre) y en los meses restantes es justo al contrario (Febrero, Marzo, Julio, Agosto, Septiembre, Octubre y Noviembre). En ambos casos llegando a una duración promedio de 400 minutos.\n",
    "\n",
    "Por otro lado, al comparar los histogramas que presentan la distribución de la cantidad de las llamadas contra la duración de las llamadas (minutos), vemos que en ambos casos los planes presentan una concentración de llamadas en los rangos de menor duración por lo cual, los datos se agrupan a la izquierda del gráfico.\n",
    "El pico más alto del histograma del plan Ultimate ocurre en el rango de aproximadamente 0 a 60 minutos, donde se registraron cerca de 400 llamadas. Por otro lado, el plan Surf muestra su mayor frecuencia en el rango cercano a 60 a 120 minutos, también con un volumen de llamadas que ronda las 400.\n",
    "Esto sugiere que, aunque la mayoría de los usuarios de ambos planes realizan llamadas de corta a media duración, los usuarios del plan Surf tienden a tener llamadas ligeramente más largas en comparación con los del plan Ultimate.\n",
    "\n",
    "\n",
    "En el Diagrama de Caja y Bigotes se observa que la duración mínima de las llamadas es de 0 minutos. El primer cuartil se sitúa en torno a los 250 minutos, mientras que la mediana supera levemente los 400 minutos. El tercer cuartil alcanza aproximadamente los 550 minutos, y el valor máximo sin considerar atípicos llega a unos 1000 minutos. Además, se identifican valores atípicos que superan este umbral, con algunos casos aislados que alcanzan hasta los 1400 minutos.\n"
   ]
  },
  {
   "cell_type": "markdown",
   "metadata": {
    "id": "8idKy8Wh0q1L"
   },
   "source": [
    "### Mensajes"
   ]
  },
  {
   "cell_type": "code",
   "execution_count": 40,
   "metadata": {
    "id": "NXLxiTit0q1L"
   },
   "outputs": [
    {
     "name": "stdout",
     "output_type": "stream",
     "text": [
      "        plan  month  total_messages\n",
      "0       surf      1       21.000000\n",
      "1       surf      2       21.600000\n",
      "2       surf      3       21.937500\n",
      "3       surf      4       24.685714\n",
      "4       surf      5       33.547170\n",
      "5       surf      6       32.742857\n",
      "6       surf      7       34.786517\n",
      "7       surf      8       37.302521\n",
      "8       surf      9       38.585034\n",
      "9       surf     10       41.475138\n",
      "10      surf     11       40.087156\n",
      "11      surf     12       47.686992\n",
      "12  ultimate      1       20.666667\n",
      "13  ultimate      2       27.800000\n",
      "14  ultimate      3       34.714286\n",
      "15  ultimate      4       28.937500\n",
      "16  ultimate      5       44.333333\n",
      "17  ultimate      6       37.135135\n",
      "18  ultimate      7       41.212766\n",
      "19  ultimate      8       47.929825\n",
      "20  ultimate      9       45.901408\n",
      "21  ultimate     10       47.488636\n",
      "22  ultimate     11       47.656863\n",
      "23  ultimate     12       53.744000\n"
     ]
    },
    {
     "data": {
      "image/png": "[encoded data removed]",
      "text/plain": [
       "<Figure size 640x480 with 1 Axes>"
      ]
     },
     "metadata": {},
     "output_type": "display_data"
    }
   ],
   "source": [
    "# Comprara el número de mensajes que tienden a enviar cada mes los usuarios de cada plan\n",
    "\n",
    "# Agrupo y convierto en un dataframe nuevo\n",
    "msg_por_mes= df_merge.groupby(['plan', 'month'])['total_messages'].mean().reset_index()\n",
    "print(msg_por_mes)\n",
    "\n",
    "#filtro por plan\n",
    "ultimate = msg_por_mes[msg_por_mes['plan']=='ultimate']\n",
    "surf = msg_por_mes[msg_por_mes['plan']=='surf']\n",
    "\n",
    "#Imprimo gráfico de barras superpuesto por plan\n",
    "plt.bar(ultimate['month'], ultimate['total_messages'], label= 'Ultimate', color= 'orange' )\n",
    "plt.bar(surf['month'], surf['total_messages'], label= 'surf', color= 'blue', alpha= 0.5)\n",
    "\n",
    "\n",
    "plt.title('cantidad  promedio de mensajes por plan y mes'),\n",
    "plt.ylabel('cantidad de mensajes'),\n",
    "plt.xlabel('Mes')\n",
    "plt.legend(['Ultimate','Surf'])\n",
    "plt.show()"
   ]
  },
  {
   "cell_type": "code",
   "execution_count": 41,
   "metadata": {
    "id": "GRI_R7xF0q1L"
   },
   "outputs": [
    {
     "data": {
      "image/png": "[encoded data removed]",
      "text/plain": [
       "<Figure size 640x480 with 1 Axes>"
      ]
     },
     "metadata": {},
     "output_type": "display_data"
    },
    {
     "name": "stdout",
     "output_type": "stream",
     "text": [
      "La cantidad máxima de mensajes enviados en el plan SURF es: 266\n",
      "La cantidad máxima de mensajes enviados en el plan ULTIMATE es: 166\n"
     ]
    }
   ],
   "source": [
    "# He escogido mostrar la distribución de la cantidad de mensajes enviados por los usuarios de cada plan.\n",
    "\n",
    "# Histogramas por plan\n",
    "plt.hist(df_merge[df_merge['plan'] == 'surf']['total_messages'], \n",
    "         bins=30, alpha=0.6, label='Surf', color='green')\n",
    "\n",
    "plt.hist(df_merge[df_merge['plan'] == 'ultimate']['total_messages'], \n",
    "         bins=30, alpha= 0.6, label='Ultimate', color='black')\n",
    "\n",
    "plt.title('Distribución de mensajes enviados por usuario en cada plan'),\n",
    "plt.xlabel('Cantidad de mensajes enviados')\n",
    "plt.ylabel('Número de usuarios')\n",
    "plt.legend(['Surf', 'Ultimate'])\n",
    "plt.show()\n",
    "\n",
    "\n",
    "print('La cantidad máxima de mensajes enviados en el plan SURF es:', df_merge[df_merge['plan'] == 'surf']['total_messages'].max())\n",
    "print('La cantidad máxima de mensajes enviados en el plan ULTIMATE es:', df_merge[df_merge['plan'] == 'ultimate']['total_messages'].max())\n"
   ]
  },
  {
   "cell_type": "code",
   "execution_count": 42,
   "metadata": {
    "id": "dtFwCGAp0q1M"
   },
   "outputs": [
    {
     "name": "stdout",
     "output_type": "stream",
     "text": [
      "la media del total mensual de mensajes enviados es: 41.78283115406481\n",
      "la varianza del total de mensajes enviados es: 1067.5546311153885\n"
     ]
    },
    {
     "data": {
      "text/plain": [
       "<AxesSubplot:xlabel='total_messages'>"
      ]
     },
     "execution_count": 42,
     "metadata": {},
     "output_type": "execute_result"
    },
    {
     "data": {
      "image/png": "[encoded data removed]",
      "text/plain": [
       "<Figure size 640x480 with 1 Axes>"
      ]
     },
     "metadata": {},
     "output_type": "display_data"
    }
   ],
   "source": [
    "#Calcular la media y la varianza del número de mensajes enviados por mes, por plan\n",
    "\n",
    "msg_mean= df_merge['total_messages'].mean()\n",
    "print('la media del total mensual de mensajes enviados es:', msg_mean)\n",
    "\n",
    "varianza_msg = df_merge['total_messages'].var()\n",
    "print('la varianza del total de mensajes enviados es:', varianza_msg)\n",
    "\n",
    "#Traza un diagrama de caja para comparar la distribución de mensajes enviados por mes según el plan \n",
    "sns.boxplot(df_merge['total_messages'])"
   ]
  },
  {
   "cell_type": "markdown",
   "metadata": {
    "id": "390SSL480q1M"
   },
   "source": [
    "[Elabora las conclusiones sobre el comportamiento de los usuarios con respecto a los mensajes. ¿Su comportamiento varía en función del plan?]\n",
    "\n",
    "Al revisar el gráfico de cantidad de mensajes promedio por plan y mes es válido afirmar que en general durante el año los usuarios Ultimate envían mayor cantidad de mensajes que los usuarios surf teniendo que, al menos durante siete meses del año los usuarios del plan Ultimate llegan a enviar entre 40 y 55 mensajes al mes en promedio, y para el caso de los usuarios del plan Surf durante al menos 8 meses del año los usuarios llegan a enviar en promedio entre 30 y 50 mensajes al mes.\n",
    "\n",
    "Luego, al observar la distribución de mensajes enviados por usuario se hace evidente que para el plan surf hay una constante que es que siempre hay una mayor cantidad de usuarios que envían más mensajes que los usuarios en el Plan Ultimate\n",
    "Este gráfico muestra que la gran mayoría de los datos están agrupados hacia la izquierda es decir que la cantidad de mensajes enviados en los dos planes suele mantenerse entre los 50 y 100 mensajes enviados por la mayoría de clientes\n",
    "\n",
    "Sin embargo en el rango de cero a cincuenta mensajes enviados el número de los clientes del plan surf es bastante alto y muy por encima de los usuarios del otro plan ya que alcanza valores entre los 150 y los 175 usuarios que envían de 0 a 50 mensajes durante todo el año. Y en el caso del plan Ultimate en este mismo rango de cantidad de mensajes enviados (0 a 50), se obtiene la mayor Cantidad de usuarios que envían mensajes pero este grupo no supera los 50 usuarios.\n",
    "\n",
    "Finalmente revisando el diagrama de caja y bigotes, los datos de varianza y la media, encontramos que los datos se agrupan principalmente entre los veinte y los sesenta mensajes enviados luego hay datos atípicos que superan los ciento veinte mensajes enviados llegando incluso hasta 266 pero la media de los datos indica que se envían mensualmente alrededor de 41.78 mensajes cada mes.\n"
   ]
  },
  {
   "cell_type": "markdown",
   "metadata": {
    "id": "42YSypXz0q1M"
   },
   "source": [
    "### Internet"
   ]
  },
  {
   "cell_type": "code",
   "execution_count": 43,
   "metadata": {
    "id": "lSuKPtjh0q1M"
   },
   "outputs": [
    {
     "name": "stdout",
     "output_type": "stream",
     "text": [
      "        plan  month  total_mb_per_user\n",
      "0       surf      1        7894.790000\n",
      "1       surf      2        9310.764000\n",
      "2       surf      3       12397.342500\n",
      "3       surf      4       11851.091429\n",
      "4       surf      5       14851.419623\n",
      "5       surf      6       15565.743286\n",
      "6       surf      7       16708.588315\n",
      "7       surf      8       17161.736891\n",
      "8       surf      9       16492.743197\n",
      "9       surf     10       17406.222376\n",
      "10      surf     11       16300.159358\n",
      "11      surf     12       17968.352602\n",
      "12  ultimate      1        6953.200000\n",
      "13  ultimate      2       17335.756000\n",
      "14  ultimate      3       23835.722857\n",
      "15  ultimate      4       14285.791875\n",
      "16  ultimate      5       16993.530000\n",
      "17  ultimate      6       15451.022162\n",
      "18  ultimate      7       16499.324255\n",
      "19  ultimate      8       17976.983333\n",
      "20  ultimate      9       16410.551549\n",
      "21  ultimate     10       17512.219205\n",
      "22  ultimate     11       17323.745686\n",
      "23  ultimate     12       18267.285840\n"
     ]
    },
    {
     "data": {
      "image/png": "[encoded data removed]",
      "text/plain": [
       "<Figure size 640x480 with 1 Axes>"
      ]
     },
     "metadata": {},
     "output_type": "display_data"
    }
   ],
   "source": [
    "# Compara la cantidad de tráfico de Internet consumido por usuarios por plan\n",
    "\n",
    "# Agrupo y convierto en un dataframe nuevo\n",
    "mb_por_mes= df_merge.groupby(['plan', 'month'])['total_mb_per_user'].mean().reset_index()\n",
    "print(mb_por_mes)\n",
    "\n",
    "#filtro por plan\n",
    "ultimate = mb_por_mes[msg_por_mes['plan']=='ultimate']\n",
    "surf = mb_por_mes[msg_por_mes['plan']=='surf']\n",
    "\n",
    "#Imprimo gráfico de barras superpuesto por plan\n",
    "plt.bar(ultimate['month'], ultimate['total_mb_per_user'], label= 'Ultimate', color= 'orange' )\n",
    "plt.bar(surf['month'], surf['total_mb_per_user'], label= 'surf', color= 'blue', alpha= 0.5)\n",
    "\n",
    "\n",
    "plt.title('cantidad  promedio de mb usadas por plan y mes'),\n",
    "plt.ylabel('cantidad de mb consumidas'),\n",
    "plt.xlabel('Mes')\n",
    "plt.legend(['Ultimate','Surf'])\n",
    "plt.show()"
   ]
  },
  {
   "cell_type": "code",
   "execution_count": 44,
   "metadata": {
    "id": "wnh8jYXi0q1N"
   },
   "outputs": [
    {
     "data": {
      "image/png": "[encoded data removed]",
      "text/plain": [
       "<Figure size 640x480 with 1 Axes>"
      ]
     },
     "metadata": {},
     "output_type": "display_data"
    },
    {
     "name": "stdout",
     "output_type": "stream",
     "text": [
      "La cantidad máxima de mb consumidos en el plan SURF es: 70931.59\n",
      "La cantidad máxima de mb consumidos en el plan ULTIMATE es: 46595.32999999999\n"
     ]
    }
   ],
   "source": [
    "#Trazar un histograma que muestre la distribución del uso de Internet por plan\n",
    "\n",
    "# Histogramas por plan\n",
    "plt.hist(df_merge[df_merge['plan'] == 'surf']['total_mb_per_user'], \n",
    "         bins=30, alpha=0.6, label='Surf', color='green')\n",
    "\n",
    "plt.hist(df_merge[df_merge['plan'] == 'ultimate']['total_mb_per_user'], \n",
    "         bins=30, alpha= 0.6, label='Ultimate', color='black')\n",
    "\n",
    "plt.title('Distribución de mb consumidos por usuario en cada plan'),\n",
    "plt.xlabel('Cantidad de mb consumidos')\n",
    "plt.ylabel('Número de usuarios')\n",
    "plt.legend(['Surf', 'Ultimate'])\n",
    "plt.show()\n",
    "\n",
    "\n",
    "print('La cantidad máxima de mb consumidos en el plan SURF es:', df_merge[df_merge['plan'] == 'surf']['total_mb_per_user'].max())\n",
    "print('La cantidad máxima de mb consumidos en el plan ULTIMATE es:', df_merge[df_merge['plan'] == 'ultimate']['total_mb_per_user'].max())\n"
   ]
  },
  {
   "cell_type": "code",
   "execution_count": 45,
   "metadata": {
    "id": "5VlyJ9ry0q1N"
   },
   "outputs": [
    {
     "name": "stdout",
     "output_type": "stream",
     "text": [
      "la media del total mensual de mensajes enviados es: 16833.751097214325\n",
      "la varianza del total de mensajes enviados es: 59423784.30934834\n"
     ]
    },
    {
     "data": {
      "text/plain": [
       "<AxesSubplot:xlabel='total_mb_per_user'>"
      ]
     },
     "execution_count": 45,
     "metadata": {},
     "output_type": "execute_result"
    },
    {
     "data": {
      "image/png": "[encoded data removed]",
      "text/plain": [
       "<Figure size 640x480 with 1 Axes>"
      ]
     },
     "metadata": {},
     "output_type": "display_data"
    }
   ],
   "source": [
    "#Calcular la media y la varianza del número de mb consumidas por mes, por plan\n",
    "\n",
    "total_mb_mean= df_merge['total_mb_per_user'].mean()\n",
    "print('la media del total mensual de mensajes enviados es:', total_mb_mean)\n",
    "\n",
    "varianza_mb = df_merge['total_mb_per_user'].var()\n",
    "print('la varianza del total de mensajes enviados es:', varianza_mb)\n",
    "\n",
    "#Traza un diagrama de caja para comparar la distribución de mb consumidas por mes según el plan \n",
    "sns.boxplot(df_merge['total_mb_per_user'])"
   ]
  },
  {
   "cell_type": "markdown",
   "metadata": {
    "id": "UN9zwuMP0q1N"
   },
   "source": [
    "[Elabora las conclusiones sobre cómo los usuarios tienden a consumir el tráfico de Internet. ¿Su comportamiento varía en función del plan?]\n",
    "\n",
    "Según lo observado en el gráfico de barras que muestra la cantidad promedio de megabytes consumidos por plan cada mes del año, es válido decir que los dos planes presentan un consumo similar durante al menos siete meses del año que serían de junio en adelante. Adicionalmente, el plan ultimate suele estar por encima en lo que respecta a la cantidad de megas consumidas por los usuarios diferenciándose bastante sobre todo en el mes de febrero y marzo ya que en estos meses casi duplica el consumo del los usuarios en el plan Surf, llegando a valores de 17,335.756 y 23,835.722 mb consumidas respectivamente por los usuarios Ultimate.\n",
    "\n",
    "Luego, revisando la distribución de megabytes consumidos por usuario en cada plan es posible ver un comportamiento similar a lo visto en los gráficos anteriores el plan surf posee mayor cantidad de clientes que el plan ultimate pero su distribución es muy similar ya que ambos presentan una distribución normal \n",
    "Esta distribución normal muestra que la media para ambos planes es muy cercana y se encuentra alrededor de los 16.800 megas a 20.000 megas consumidas por los usuarios\n",
    "Y para el caso de el plan surf hay alrededor de doscientas personas que consumen esa cantidad de megas a lo largo del año mientras que en el caso del plan Ultimate el número de clientes ronda los 60 usuarios consumiendo esa misma cantidad de megas en el año\n",
    "\n",
    "Por otro lado, revisando el diagrama de caja y bigotes se puede decir que tiene un valor mínimo en 0 y un valor máximo que ronda los 35.000 MB y su media se encuentra exactamente en 16.833.75 megabytes consumidas por todos los usuarios.\n"
   ]
  },
  {
   "cell_type": "markdown",
   "metadata": {
    "id": "tCijq3260q1N"
   },
   "source": [
    "## Ingreso"
   ]
  },
  {
   "cell_type": "markdown",
   "metadata": {
    "id": "9nq5IAcy0q1O"
   },
   "source": [
    "[Del mismo modo que has estudiado el comportamiento de los usuarios, describe estadísticamente los ingresos de los planes.]"
   ]
  },
  {
   "cell_type": "code",
   "execution_count": 46,
   "metadata": {
    "id": "tz-dq_V00q1O"
   },
   "outputs": [
    {
     "name": "stdout",
     "output_type": "stream",
     "text": [
      "        plan  month  ingreso_mensual\n",
      "0       surf      1        20.000000\n",
      "1       surf      2        23.668000\n",
      "2       surf      3        38.326875\n",
      "3       surf      4        40.267429\n",
      "4       surf      5        50.370943\n",
      "5       surf      6        51.754429\n",
      "6       surf      7        61.358427\n",
      "7       surf      8        64.019832\n",
      "8       surf      9        56.858299\n",
      "9       surf     10        64.982983\n",
      "10      surf     11        56.721376\n",
      "11      surf     12        68.289512\n",
      "12  ultimate      1        70.000000\n",
      "13  ultimate      2        70.000000\n",
      "14  ultimate      3        78.000000\n",
      "15  ultimate      4        73.062500\n",
      "16  ultimate      5        71.000000\n",
      "17  ultimate      6        72.081081\n",
      "18  ultimate      7        72.382979\n",
      "19  ultimate      8        72.456140\n",
      "20  ultimate      9        71.380282\n",
      "21  ultimate     10        72.147727\n",
      "22  ultimate     11        72.127451\n",
      "23  ultimate     12        72.744000\n"
     ]
    },
    {
     "data": {
      "image/png": "[encoded data removed]",
      "text/plain": [
       "<Figure size 640x480 with 1 Axes>"
      ]
     },
     "metadata": {},
     "output_type": "display_data"
    }
   ],
   "source": [
    "# Compara los ingresos promedio por mes y por plan\n",
    "\n",
    "# Agrupo y convierto en un dataframe nuevo\n",
    "income_per_month= df_merge.groupby(['plan', 'month'])['ingreso_mensual'].mean().reset_index()\n",
    "print(income_per_month)\n",
    "\n",
    "#filtro por plan\n",
    "ultimate = income_per_month[income_per_month['plan']=='ultimate']\n",
    "surf = income_per_month[income_per_month['plan']=='surf']\n",
    "\n",
    "#Imprimo gráfico de barras superpuesto por plan\n",
    "plt.bar(ultimate['month'], ultimate['ingreso_mensual'], label= 'Ultimate', color= 'orange' )\n",
    "plt.bar(surf['month'], surf['ingreso_mensual'], label= 'surf', color= 'blue', alpha= 0.5)\n",
    "\n",
    "plt.title('Ingreso promedio por plan cada mes'),\n",
    "plt.ylabel('Ingreso promedio'),\n",
    "plt.xlabel('Mes')\n",
    "plt.legend(['Ultimate','Surf'])\n",
    "plt.show()"
   ]
  },
  {
   "cell_type": "code",
   "execution_count": 47,
   "metadata": {
    "id": "0Y1v8ZUz0q1P"
   },
   "outputs": [
    {
     "data": {
      "image/png": "[encoded data removed]",
      "text/plain": [
       "<Figure size 640x480 with 1 Axes>"
      ]
     },
     "metadata": {},
     "output_type": "display_data"
    },
    {
     "name": "stdout",
     "output_type": "stream",
     "text": [
      "Cantidad máxima de dinero pagado por un usuario en el plan SURF es: 588.66\n",
      "Cantidad máxima de dinero pagado por un usuario en el plan ULTIMATE es: 182.0\n"
     ]
    }
   ],
   "source": [
    "#Traza un gráfico de barras que compare los ingresos mensuales totales por plan\n",
    "# Histogramas por plan\n",
    "plt.hist(df_merge[df_merge['plan'] == 'surf']['ingreso_mensual'], \n",
    "         bins=50, alpha=0.6, label='Surf', color='green')\n",
    "\n",
    "plt.hist(df_merge[df_merge['plan'] == 'ultimate']['ingreso_mensual'], \n",
    "         bins=15, alpha= 0.6, label='Ultimate', color='black')\n",
    "\n",
    "plt.title('Distribución del ingreso por usuario en cada plan'),\n",
    "plt.xlabel('Cantidad de dinero ganado')\n",
    "plt.ylabel('Número de usuarios')\n",
    "plt.legend(['Surf', 'Ultimate'])\n",
    "plt.show()\n",
    "\n",
    "\n",
    "print('Cantidad máxima de dinero pagado por un usuario en el plan SURF es:', df_merge[df_merge['plan'] == 'surf']['ingreso_mensual'].max())\n",
    "print('Cantidad máxima de dinero pagado por un usuario en el plan ULTIMATE es:', df_merge[df_merge['plan'] == 'ultimate']['ingreso_mensual'].max())\n"
   ]
  },
  {
   "cell_type": "code",
   "execution_count": 48,
   "metadata": {
    "id": "bYmwxyVh0q1P"
   },
   "outputs": [
    {
     "name": "stdout",
     "output_type": "stream",
     "text": [
      "la media del total mensual de mensajes enviados es: 64.04163160886867\n",
      "la varianza del total de mensajes enviados es: 1988.4371746400923\n"
     ]
    },
    {
     "data": {
      "text/plain": [
       "<AxesSubplot:xlabel='ingreso_mensual'>"
      ]
     },
     "execution_count": 48,
     "metadata": {},
     "output_type": "execute_result"
    },
    {
     "data": {
      "image/png": "[encoded data removed]",
      "text/plain": [
       "<Figure size 640x480 with 1 Axes>"
      ]
     },
     "metadata": {},
     "output_type": "display_data"
    }
   ],
   "source": [
    "#Calcular la media y la varianza del ingreso generado por mes, por plan\n",
    "\n",
    "total_income_mean= df_merge['ingreso_mensual'].mean()\n",
    "print('la media del total mensual de mensajes enviados es:', total_income_mean)\n",
    "\n",
    "varianza_income = df_merge['ingreso_mensual'].var()\n",
    "print('la varianza del total de mensajes enviados es:', varianza_income)\n",
    "\n",
    "#Traza un diagrama de caja para comparar la distribución de mb consumidas por mes según el plan \n",
    "sns.boxplot(df_merge['ingreso_mensual'])"
   ]
  },
  {
   "cell_type": "markdown",
   "metadata": {
    "id": "KAFidcXZ0q1P"
   },
   "source": [
    "[Elabora las conclusiones sobre cómo difiere el ingreso entre los planes.]\n",
    "\n",
    "En primer lugar el gráfico de barras que presenta el ingreso promedio por plan cada mes muestra que a lo largo del año el ingreso generado por los usuarios ultimate se mantiene bastante constante con un valor de 70 dolares cada mes ya que sólo tiene pequeñas variaciones en marzo y abril subiendo un poco por encima de las otras barras, mientras que para el caso de los usuarios surf es evidente que hay un incremento a lo largo del año ya que comienza en 20 dólares y continúa aumentando hasta detener su incremento en los últimos seis meses del año manteniéndose en valores entre 50 y 65 dólares.\n",
    "\n",
    "Adicionalmente en el gráfico de distribución del ingreso por cada plan podemos ver que la gran mayoría de los usuarios del plan surf (más de 500) generan un ingreso de entre 20 y 100 dólares a lo largo del año mientras que el plan Ultimate muestra que la gran mayoría de sus usuarios (más de 500) generan un ingreso entre los 70 y los 200 dólares durante todo el año\n",
    "\n",
    "Y por último el diagrama de caja y bigotes del ingreso el general muestra que se tiene un valor mínimo en los veinte dólares y un valor máximo entre los 140 dólares pero el consumo se da principalmente según la media en $62.45 dólares, luego el diagrama de caja y bigotes muestra como tambien hay datos atípicos, teniendo valores que están por encima de los 140 dólares,  llegando incluso hasta 594 dólares como valor máximo pagado por un usuario."
   ]
  },
  {
   "cell_type": "markdown",
   "metadata": {},
   "source": [
    "<div class=\"alert alert-block alert-success\">\n",
    "<b>Comentario revisor</b> <a class=\"tocSkip\"></a>\n",
    "\n",
    " Muy buena prática la de usar distintos tipos de gráficas identificar algunos hallazgos y llegar a conclusiones\n",
    "</div>"
   ]
  },
  {
   "cell_type": "markdown",
   "metadata": {
    "id": "ajJ7VKeI0q1Q"
   },
   "source": [
    "## Prueba las hipótesis estadísticas"
   ]
  },
  {
   "cell_type": "markdown",
   "metadata": {
    "id": "AdXAZ-yL0q1Q"
   },
   "source": [
    "[Prueba la hipótesis de que son diferentes los ingresos promedio procedentes de los usuarios de los planes de llamada Ultimate y Surf.]"
   ]
  },
  {
   "cell_type": "markdown",
   "metadata": {
    "id": "IQwa_hsh0q1Q"
   },
   "source": [
    "[Elabora las hipótesis nula y alternativa, escoge la prueba estadística, determina el valor alfa.]"
   ]
  },
  {
   "cell_type": "code",
   "execution_count": 49,
   "metadata": {
    "id": "nFoPNlPq0q1R"
   },
   "outputs": [
    {
     "name": "stdout",
     "output_type": "stream",
     "text": [
      "Valor p: 8.319558977074422e-14\n",
      "Se rechaza la hipótesis nula: hay una diferencia significativa en los ingresos\n"
     ]
    }
   ],
   "source": [
    "#Hipótesis Nula (Ho): El ingreso promedio de los usuarios del plan Ultimate es igual al del plan Surf\n",
    "#Hipótesis Alternativa (H1): El ingreso promedio de los usuarios del plan Ultimate es diferente al del plan Surf\n",
    "#alpha = 0.05\n",
    "\n",
    "# Prueba las hipótesis\n",
    "\n",
    "#tomo el dataframe mezclado (df_merge), lo filtro por planes y según sus respectivos ingresos.\n",
    "ingresos_plan_ultimate = df_merge[df_merge['plan']== 'ultimate']['ingreso_mensual']\n",
    "ingresos_plan_surf = df_merge[df_merge['plan']== 'surf']['ingreso_mensual']\n",
    "\n",
    "#realizo la prueba t Student para muestras independientes.\n",
    "results= ttest_ind(ingresos_plan_ultimate, ingresos_plan_surf, equal_var= False)\n",
    "\n",
    "print(\"Valor p:\", results.pvalue)\n",
    "\n",
    "#resultado e interpretación\n",
    "\n",
    "if results.pvalue < 0.05:\n",
    "    print(\"Se rechaza la hipótesis nula: hay una diferencia significativa en los ingresos\")\n",
    "else:\n",
    "    print(\"No se puede rechazar la hipótesis nula: no hay diferencia significativa\")"
   ]
  },
  {
   "cell_type": "markdown",
   "metadata": {
    "id": "tCcAruM60q1R"
   },
   "source": [
    "[Prueba la hipótesis de que el ingreso promedio de los usuarios del área NY-NJ es diferente al de los usuarios de otras regiones.]"
   ]
  },
  {
   "cell_type": "markdown",
   "metadata": {
    "id": "LsBgitqj0q1R"
   },
   "source": [
    "[Elabora las hipótesis nula y alternativa, escoge la prueba estadística, determina el valor alfa.]"
   ]
  },
  {
   "cell_type": "code",
   "execution_count": 50,
   "metadata": {
    "id": "Cqcj7wrZ0q1S"
   },
   "outputs": [
    {
     "name": "stdout",
     "output_type": "stream",
     "text": [
      "Valor p: 0.09627688861742448\n",
      "No se puede rechazar la hipótesis nula: no hay diferencia significativa.\n"
     ]
    }
   ],
   "source": [
    "#Hipótesis Nula (Ho): El ingreso promedio de los usuarios del area de NY-NJ es igual al de los usuarios de otras regiones\n",
    "#Hipótesis Alternativa (H1): El ingreso promedio de los usuarios del area de NY-NJ es diferente al de los usuarios de otras regiones\n",
    "#alpha = 0.05\n",
    "\n",
    "# Prueba las hipótesis\n",
    "\n",
    "#1ero agregaré la columna 'state' del dataframe df_users basado en la columna 'user_id'\n",
    "df_full = df_merge.merge(df_users[['user_id', 'state']], on = 'user_id')\n",
    "\n",
    "#filtro y almaceno nuevamente los usuarios que provengan de NY o NJ, y los que no son de ahí.\n",
    "ny_nj_users = df_full[df_full['state'].isin(['NY MSA', 'NJ MSA'])]\n",
    "other_users = df_full[~df_full['state'].isin(['NY MSA', 'NJ MSA'])]\n",
    "\n",
    "# Obtengo los ingresos mensuales\n",
    "ingresos_ny_nj = ny_nj_users['ingreso_mensual']\n",
    "ingresos_otros = other_users['ingreso_mensual']\n",
    "\n",
    "#realizo la prueba t Student para muestras independientes.\n",
    "\n",
    "results = ttest_ind(ingresos_ny_nj, ingresos_otros, equal_var=False)\n",
    "print(\"Valor p:\", results.pvalue)\n",
    "\n",
    "if results.pvalue < 0.05:\n",
    "    print(\"Se rechaza la hipótesis nula: hay una diferencia significativa en ingresos.\")\n",
    "else:\n",
    "    print(\"No se puede rechazar la hipótesis nula: no hay diferencia significativa.\")"
   ]
  },
  {
   "cell_type": "markdown",
   "metadata": {},
   "source": [
    "<div class=\"alert alert-block alert-success\">\n",
    "<b>Comentario revisor</b> <a class=\"tocSkip\"></a>\n",
    "\n",
    "Excelente trabajo con el desarrollo de las pruebas de hipótesis. Solamente en futuras ocasiones te recomiendo considerar realizar la prueba de levene para mostrar el supuesto de varianzas iguales. "
   ]
  },
  {
   "cell_type": "markdown",
   "metadata": {},
   "source": [
    "<div class=\"alert alert-block alert-info\">\n",
    "<b>Respuesta del estudiante.</b> <a class=\"tocSkip\"></a>\n",
    "\n",
    "Gracias por la recomendación, lo tendré en cuenta para futuros proyectos. "
   ]
  },
  {
   "cell_type": "markdown",
   "metadata": {
    "id": "bbTR8UQO0q1T"
   },
   "source": [
    "## Conclusión general\n",
    "\n",
    "[En esta sección final, enumera tus conclusiones importantes. Asegúrate de que estas abarquen todas las decisiones (suposiciones) importantes que adoptaste y que determinaron la forma elegida para procesar y analizar los datos.]\n",
    "\n",
    "Luego de realizar el análisis de datos de los clientes de Megaline, y de observar detalladamente sus hábitos de consumo en llamadas, mensajes, internet y el ingreso generado por cada uno, es posible obtener varias conclusiones importantes que ayudan a entender mejor el comportamiento de los usuarios y las diferencias entre los planes prepago Surf y Ultimate.\n",
    "\n",
    "En primer lugar, **las llamadas** presentan comportamientos similares entre planes, aunque en ciertos meses del año uno puede superar al otro. Sin embargo, ambos tienen un promedio general cercano a los 400 minutos por mes, y la mayoría de los usuarios se concentran en llamadas cortas. Esto indica que el servicio de llamadas se utiliza con moderación por parte de la mayoría de los clientes, con algunos pocos usuarios que realizan llamadas mucho más largas, generando valores atípicos en los datos.\n",
    "\n",
    "En cuanto a los **mensajes**, los usuarios del plan Ultimate suelen enviar una mayor cantidad promedio de mensajes mes a mes, pero el plan Surf concentra más usuarios en los rangos bajos (0 a 50 mensajes). Es decir, aunque en promedio Ultimate genera más mensajes, la mayoría de los usuarios en Surf siguen siendo más activos en cantidad. Este comportamiento refuerza la idea de que hay más usuarios en Surf, pero con un uso menos intensivo de mensajes.\n",
    "\n",
    "Por otro lado, respecto al **uso de internet**, ambos planes presentan un consumo bastante similar en promedio, especialmente desde mitad de año en adelante. Sin embargo, el plan Ultimate muestra picos elevados en los primeros meses (febrero y marzo), lo que podría deberse a usuarios más intensivos o situaciones particulares en ese periodo. En general, la distribución de megabytes consumidos sigue una forma normal, lo cual indica una consistencia en el comportamiento de la mayoría de los usuarios, con algunos pocos casos atípicos que elevan el máximo hasta 35.000 MB.\n",
    "\n",
    "En el caso de los **ingresos**, el plan Ultimate presenta un ingreso mensual más constante y predecible, manteniéndose en los 70, mientras que el plan Surf muestra una tendencia creciente a lo largo del año, lo cual puede indicar que los usuarios van utilizando más servicios extra con el tiempo o superando los límites incluidos en su tarifa básica. Además, se observa que aunque muchos usuarios generan ingresos bajos, también hay casos que superan ampliamente los \\$140, llegando incluso a los \\$594, lo que habla de usuarios con un consumo muy por encima del promedio.\n",
    "\n",
    "Finalmente, al aplicar las **pruebas de hipótesis**, los resultados confirman parte de lo observado en los gráficos:\n",
    "\n",
    "1. En la primera hipótesis se concluyó que **existe una diferencia significativa en los ingresos generados por los usuarios de los dos planes** (valor p extremadamente bajo), lo cual valida la idea de que el tipo de plan afecta directamente el ingreso promedio mensual.\n",
    "2. En la segunda hipótesis, que comparaba los ingresos de los usuarios en la región NY-NJ contra el resto, **no se encontró una diferencia estadísticamente significativa** (valor p mayor al nivel alfa), lo que indica que la región de residencia no influye de manera clara en el ingreso mensual que genera un usuario.\n",
    "\n",
    "En resumen, se puede decir que **el tipo de plan influye de forma clara en el comportamiento de los usuarios y en los ingresos de la empresa**, mientras que la ubicación geográfica no parece ser un factor determinante en este caso. A partir de este análisis, Megaline puede tomar decisiones más informadas para optimizar sus estrategias de marketing, tarifas y servicios ofrecidos a cada segmento de sus clientes.\n",
    "\n",
    "y respondiendo a la pregunta **¿Qué plan es mejor?** o **¿Cúal es la mejor tarifa?**\n",
    "\n",
    "**Ultimate es la mejor tarifa para la empresa**, porque ofrece mayor ingreso promedio, estabilidad financiera, menor complejidad en el cálculo de cargos y un comportamiento de uso más predecible.\n",
    "en cualquier caso, el plan Surf tambien tiene un papel importante porque su precio puede atraer a una mayor cantidad de clientes podría mantenerse como un plan de entrada o básico, con potencial de upselling hacia Ultimate para usuarios que tengan un consumo más alto de forma constante.\n",
    "\n"
   ]
  }
 ],
 "metadata": {
  "ExecuteTimeLog": [
   {
    "duration": 828,
    "start_time": "2021-11-16T09:21:11.304Z"
   },
   {
    "duration": 893,
    "start_time": "2021-11-16T09:21:17.728Z"
   },
   {
    "duration": 1150,
    "start_time": "2021-11-16T09:21:29.568Z"
   },
   {
    "duration": 3,
    "start_time": "2021-11-16T09:24:14.495Z"
   },
   {
    "duration": 120,
    "start_time": "2021-11-16T09:24:46.630Z"
   },
   {
    "duration": 3,
    "start_time": "2021-11-16T09:28:27.882Z"
   },
   {
    "duration": 4,
    "start_time": "2021-11-16T09:29:54.281Z"
   },
   {
    "duration": 3,
    "start_time": "2021-11-16T09:30:45.936Z"
   },
   {
    "duration": 4,
    "start_time": "2021-11-16T09:31:06.300Z"
   },
   {
    "duration": 113,
    "start_time": "2021-11-16T09:31:37.208Z"
   },
   {
    "duration": 143,
    "start_time": "2021-11-16T09:31:48.656Z"
   },
   {
    "duration": 98,
    "start_time": "2021-11-16T09:31:55.678Z"
   },
   {
    "duration": 3,
    "start_time": "2021-11-16T09:32:08.535Z"
   },
   {
    "duration": 111,
    "start_time": "2021-11-16T09:32:10.120Z"
   },
   {
    "duration": 3,
    "start_time": "2021-11-16T09:32:15.732Z"
   },
   {
    "duration": 4,
    "start_time": "2021-11-16T09:32:29.423Z"
   },
   {
    "duration": 3,
    "start_time": "2021-11-16T10:03:03.074Z"
   },
   {
    "duration": 3,
    "start_time": "2021-11-16T10:10:01.288Z"
   },
   {
    "duration": 3,
    "start_time": "2021-11-16T10:10:46.923Z"
   },
   {
    "duration": 121,
    "start_time": "2021-11-16T10:37:46.494Z"
   },
   {
    "duration": 125,
    "start_time": "2021-11-16T10:38:20.632Z"
   },
   {
    "duration": 112,
    "start_time": "2021-11-16T10:46:53.001Z"
   },
   {
    "duration": 110,
    "start_time": "2021-11-16T10:48:25.775Z"
   },
   {
    "duration": 3,
    "start_time": "2021-11-16T10:50:18.720Z"
   },
   {
    "duration": 4,
    "start_time": "2021-11-16T10:50:37.649Z"
   },
   {
    "duration": 2,
    "start_time": "2021-11-16T10:50:51.884Z"
   },
   {
    "duration": 3,
    "start_time": "2021-11-16T10:51:56.237Z"
   },
   {
    "duration": 101,
    "start_time": "2021-11-16T10:53:13.791Z"
   },
   {
    "duration": 3,
    "start_time": "2021-11-16T10:55:59.186Z"
   },
   {
    "duration": 3,
    "start_time": "2021-11-16T10:56:10.751Z"
   },
   {
    "duration": 3,
    "start_time": "2021-11-16T10:56:49.038Z"
   },
   {
    "duration": 3,
    "start_time": "2021-11-16T10:56:49.174Z"
   },
   {
    "duration": 4,
    "start_time": "2021-11-16T10:56:49.414Z"
   },
   {
    "duration": 3,
    "start_time": "2021-11-16T10:56:49.680Z"
   },
   {
    "duration": 3,
    "start_time": "2021-11-16T10:56:50.370Z"
   },
   {
    "duration": 114,
    "start_time": "2021-11-16T10:59:34.518Z"
   },
   {
    "duration": 3,
    "start_time": "2021-11-16T11:01:41.201Z"
   },
   {
    "duration": 116,
    "start_time": "2021-11-16T11:01:48.754Z"
   },
   {
    "duration": 3,
    "start_time": "2021-11-16T11:02:16.685Z"
   },
   {
    "duration": 3,
    "start_time": "2021-11-16T11:02:19.479Z"
   },
   {
    "duration": 3,
    "start_time": "2021-11-16T11:02:47.067Z"
   },
   {
    "duration": 3,
    "start_time": "2021-11-16T11:02:49.353Z"
   },
   {
    "duration": 3,
    "start_time": "2021-11-16T11:03:07.835Z"
   },
   {
    "duration": 3,
    "start_time": "2021-11-16T11:03:07.953Z"
   },
   {
    "duration": 112,
    "start_time": "2021-11-16T11:07:52.072Z"
   },
   {
    "duration": 187,
    "start_time": "2021-11-16T11:09:23.468Z"
   },
   {
    "duration": 4,
    "start_time": "2021-11-16T11:10:01.455Z"
   },
   {
    "duration": 3,
    "start_time": "2021-11-16T11:10:05.069Z"
   },
   {
    "duration": 4,
    "start_time": "2021-11-16T11:10:13.376Z"
   },
   {
    "duration": 3,
    "start_time": "2021-11-16T11:10:14.434Z"
   },
   {
    "duration": 3,
    "start_time": "2021-11-16T11:10:22.853Z"
   },
   {
    "duration": 4,
    "start_time": "2021-11-16T11:27:29.279Z"
   },
   {
    "duration": 4,
    "start_time": "2021-11-16T11:29:08.919Z"
   },
   {
    "duration": 118,
    "start_time": "2021-11-16T11:29:46.703Z"
   },
   {
    "duration": 437,
    "start_time": "2021-11-16T11:36:02.181Z"
   },
   {
    "duration": 157,
    "start_time": "2021-11-16T11:36:14.388Z"
   },
   {
    "duration": 207,
    "start_time": "2021-11-16T11:47:15.898Z"
   },
   {
    "duration": 3,
    "start_time": "2021-11-16T11:53:52.092Z"
   },
   {
    "duration": 3,
    "start_time": "2021-11-16T11:53:52.236Z"
   },
   {
    "duration": 3,
    "start_time": "2021-11-16T11:59:12.005Z"
   },
   {
    "duration": 112,
    "start_time": "2021-11-16T12:00:33.446Z"
   },
   {
    "duration": 3,
    "start_time": "2021-11-16T12:02:14.453Z"
   },
   {
    "duration": 3,
    "start_time": "2021-11-16T12:02:39.512Z"
   },
   {
    "duration": 106,
    "start_time": "2021-11-16T12:03:03.460Z"
   },
   {
    "duration": 3,
    "start_time": "2021-11-17T20:37:21.139Z"
   },
   {
    "duration": 3,
    "start_time": "2021-11-17T20:37:22.229Z"
   },
   {
    "duration": 3,
    "start_time": "2021-11-17T20:38:38.806Z"
   },
   {
    "duration": 3,
    "start_time": "2021-11-17T20:38:41.958Z"
   },
   {
    "duration": 3,
    "start_time": "2021-11-17T20:43:46.551Z"
   },
   {
    "duration": 4,
    "start_time": "2021-11-17T20:58:21.835Z"
   },
   {
    "duration": 3,
    "start_time": "2021-11-17T20:59:21.872Z"
   },
   {
    "duration": 4,
    "start_time": "2021-11-17T20:59:45.352Z"
   },
   {
    "duration": 4,
    "start_time": "2021-11-17T20:59:49.646Z"
   },
   {
    "duration": 159,
    "start_time": "2021-11-17T21:02:26.949Z"
   },
   {
    "duration": 3,
    "start_time": "2021-11-17T21:03:53.461Z"
   },
   {
    "duration": 3,
    "start_time": "2021-11-17T21:03:53.694Z"
   },
   {
    "duration": 3,
    "start_time": "2021-11-17T21:05:28.145Z"
   },
   {
    "duration": 116,
    "start_time": "2021-11-17T21:05:57.787Z"
   },
   {
    "duration": 3,
    "start_time": "2021-11-17T21:06:37.993Z"
   },
   {
    "duration": 3,
    "start_time": "2021-11-17T21:06:38.261Z"
   },
   {
    "duration": 3,
    "start_time": "2021-11-17T21:11:54.358Z"
   },
   {
    "duration": 3,
    "start_time": "2021-11-17T21:12:43.846Z"
   },
   {
    "duration": 4,
    "start_time": "2021-11-17T21:13:08.773Z"
   },
   {
    "duration": 3,
    "start_time": "2021-11-17T21:14:44.441Z"
   },
   {
    "duration": 3,
    "start_time": "2021-11-17T21:15:42.059Z"
   },
   {
    "duration": 4,
    "start_time": "2021-11-17T21:15:51.995Z"
   },
   {
    "duration": 3,
    "start_time": "2021-11-17T21:15:53.923Z"
   },
   {
    "duration": 3,
    "start_time": "2021-11-17T21:15:55.282Z"
   },
   {
    "duration": 3,
    "start_time": "2021-11-17T21:16:28.492Z"
   },
   {
    "duration": 3,
    "start_time": "2021-11-17T21:16:32.603Z"
   },
   {
    "duration": 3,
    "start_time": "2021-11-17T21:17:06.941Z"
   },
   {
    "duration": 98,
    "start_time": "2021-11-17T21:18:05.733Z"
   },
   {
    "duration": 4,
    "start_time": "2021-11-17T21:21:35.255Z"
   },
   {
    "duration": 3,
    "start_time": "2021-11-17T21:21:37.804Z"
   },
   {
    "duration": 4,
    "start_time": "2021-11-17T21:23:06.071Z"
   },
   {
    "duration": 3,
    "start_time": "2021-11-17T21:23:24.799Z"
   },
   {
    "duration": 3,
    "start_time": "2021-11-17T21:23:32.591Z"
   },
   {
    "duration": 98,
    "start_time": "2021-11-17T21:28:31.559Z"
   },
   {
    "duration": 3,
    "start_time": "2021-11-17T21:28:45.448Z"
   },
   {
    "duration": 3,
    "start_time": "2021-11-17T21:29:17.303Z"
   },
   {
    "duration": 3,
    "start_time": "2021-11-17T21:29:29.617Z"
   },
   {
    "duration": 3,
    "start_time": "2021-11-17T21:29:32.681Z"
   },
   {
    "duration": 3,
    "start_time": "2021-11-17T21:36:11.474Z"
   },
   {
    "duration": 3,
    "start_time": "2021-11-17T21:36:14.791Z"
   },
   {
    "duration": 3,
    "start_time": "2021-11-17T21:36:53.943Z"
   },
   {
    "duration": 3,
    "start_time": "2021-11-17T21:36:56.165Z"
   },
   {
    "duration": 4,
    "start_time": "2021-11-17T21:37:16.590Z"
   },
   {
    "duration": 3,
    "start_time": "2021-11-17T21:37:22.702Z"
   },
   {
    "duration": 4,
    "start_time": "2021-11-17T21:38:03.479Z"
   },
   {
    "duration": 3,
    "start_time": "2021-11-17T21:38:08.601Z"
   },
   {
    "duration": 3,
    "start_time": "2021-11-17T21:38:12.928Z"
   },
   {
    "duration": 3,
    "start_time": "2021-11-17T21:38:48.896Z"
   },
   {
    "duration": 2,
    "start_time": "2021-11-17T21:38:49.171Z"
   },
   {
    "duration": 4,
    "start_time": "2021-11-17T21:39:57.889Z"
   },
   {
    "duration": 3,
    "start_time": "2021-11-17T21:39:58.057Z"
   },
   {
    "duration": 3,
    "start_time": "2021-11-17T21:41:20.108Z"
   },
   {
    "duration": 3,
    "start_time": "2021-11-17T21:41:20.629Z"
   },
   {
    "duration": 3,
    "start_time": "2021-11-17T21:42:49.136Z"
   },
   {
    "duration": 3,
    "start_time": "2021-11-17T21:43:15.137Z"
   },
   {
    "duration": 4,
    "start_time": "2021-11-17T21:43:16.766Z"
   },
   {
    "duration": 4,
    "start_time": "2021-11-17T21:43:31.711Z"
   },
   {
    "duration": 3,
    "start_time": "2021-11-17T21:43:36.312Z"
   },
   {
    "duration": 4,
    "start_time": "2021-11-17T21:45:08.825Z"
   },
   {
    "duration": 4,
    "start_time": "2021-11-17T21:45:10.119Z"
   },
   {
    "duration": 4,
    "start_time": "2021-11-17T21:45:13.748Z"
   },
   {
    "duration": 3,
    "start_time": "2021-11-17T21:45:22.219Z"
   },
   {
    "duration": 3,
    "start_time": "2021-11-17T21:45:33.412Z"
   },
   {
    "duration": 2,
    "start_time": "2021-11-17T21:46:01.885Z"
   },
   {
    "duration": 3,
    "start_time": "2021-11-17T21:46:03.628Z"
   },
   {
    "duration": 107,
    "start_time": "2021-11-17T21:47:32.512Z"
   },
   {
    "duration": 103,
    "start_time": "2021-11-17T21:50:36.243Z"
   },
   {
    "duration": 3,
    "start_time": "2021-11-18T06:28:31.440Z"
   },
   {
    "duration": 3,
    "start_time": "2021-11-18T06:29:00.168Z"
   },
   {
    "duration": 3,
    "start_time": "2021-11-18T06:31:27.008Z"
   },
   {
    "duration": 2,
    "start_time": "2021-11-18T06:35:34.288Z"
   },
   {
    "duration": 2,
    "start_time": "2021-11-18T06:38:04.527Z"
   }
  ],
  "colab": {
   "provenance": []
  },
  "kernelspec": {
   "display_name": "Python 3 (ipykernel)",
   "language": "python",
   "name": "python3"
  },
  "language_info": {
   "codemirror_mode": {
    "name": "ipython",
    "version": 3
   },
   "file_extension": ".py",
   "mimetype": "text/x-python",
   "name": "python",
   "nbconvert_exporter": "python",
   "pygments_lexer": "ipython3",
   "version": "3.9.23"
  },
  "toc": {
   "base_numbering": 1,
   "nav_menu": {},
   "number_sections": true,
   "sideBar": true,
   "skip_h1_title": false,
   "title_cell": "Table of Contents",
   "title_sidebar": "Contents",
   "toc_cell": false,
   "toc_position": {},
   "toc_section_display": true,
   "toc_window_display": true
  }
 },
 "nbformat": 4,
 "nbformat_minor": 4
}
